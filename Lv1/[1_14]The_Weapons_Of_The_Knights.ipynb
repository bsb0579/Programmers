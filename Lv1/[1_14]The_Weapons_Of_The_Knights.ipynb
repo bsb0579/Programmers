{
  "nbformat": 4,
  "nbformat_minor": 0,
  "metadata": {
    "colab": {
      "provenance": []
    },
    "kernelspec": {
      "name": "python3",
      "display_name": "Python 3"
    },
    "language_info": {
      "name": "python"
    }
  },
  "cells": [
    {
      "cell_type": "markdown",
      "source": [
        "# **기사단원의 무기**\n",
        "\n",
        "\n",
        "**https://school.programmers.co.kr/learn/courses/30/lessons/136798?language=python3**"
      ],
      "metadata": {
        "id": "7Qefz5MNQtdh"
      }
    },
    {
      "cell_type": "code",
      "source": [
        "import math\n",
        "def isprime(n):\n",
        "    if n == 2:\n",
        "        return True, 0\n",
        "    temp = int(math.sqrt(n))\n",
        "    for i in range(2, temp+1):\n",
        "        if n%i == 0:\n",
        "            return False, i\n",
        "    return True, 0\n",
        "\n",
        "def getnum(n, e):\n",
        "    temp = 0\n",
        "    while n%e == 0:\n",
        "        n = n//e\n",
        "        temp += 1\n",
        "    return temp\n",
        "\n",
        "def solution(number, limit, power):\n",
        "    n = number\n",
        "    lst = [1]*(n+1)\n",
        "    for i in range(2, n+1):\n",
        "        bo, e = isprime(i)\n",
        "        if bo:\n",
        "            lst[i] = 2\n",
        "        else:\n",
        "            temp = i//e\n",
        "            temp2 = getnum(temp, e)+1\n",
        "            temp3 = (lst[temp]//temp2)*(temp2+1)\n",
        "            lst[i] = temp3\n",
        "    answer = 0\n",
        "    for i in range(1, n+1):\n",
        "        if lst[i] > limit:\n",
        "            answer += power\n",
        "        else:\n",
        "            answer += lst[i]\n",
        "    return answer"
      ],
      "metadata": {
        "id": "bV9lERfBRaAP"
      },
      "execution_count": null,
      "outputs": []
    }
  ]
}