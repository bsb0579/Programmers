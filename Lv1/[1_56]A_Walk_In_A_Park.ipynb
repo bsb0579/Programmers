{
  "nbformat": 4,
  "nbformat_minor": 0,
  "metadata": {
    "colab": {
      "provenance": []
    },
    "kernelspec": {
      "name": "python3",
      "display_name": "Python 3"
    },
    "language_info": {
      "name": "python"
    }
  },
  "cells": [
    {
      "cell_type": "markdown",
      "source": [
        "# **공원 산책**\n",
        "\n",
        "\n",
        "**https://school.programmers.co.kr/learn/courses/30/lessons/172928**"
      ],
      "metadata": {
        "id": "7Qefz5MNQtdh"
      }
    },
    {
      "cell_type": "code",
      "source": [
        "def solution(park, routes):\n",
        "    cx = 0\n",
        "    cy = 0\n",
        "    lx = len(park)\n",
        "    ly = len(park[0])\n",
        "    for i in range(lx):\n",
        "        for j in range(ly):\n",
        "            if park[i][j] == 'S':\n",
        "                cx = i\n",
        "                cy = j\n",
        "                break\n",
        "    for r in routes:\n",
        "        drc, dis = r.split(' ')\n",
        "        dis = int(dis)\n",
        "        if drc == 'E':\n",
        "            temp = cy + dis\n",
        "            if temp > ly-1:\n",
        "                continue\n",
        "            else:\n",
        "                flag = 0\n",
        "                for i in range(cy, temp+1):\n",
        "                    if park[cx][i] == 'X':\n",
        "                        flag = 1\n",
        "                        break\n",
        "                if flag == 0:\n",
        "                    cy = temp\n",
        "        elif drc == 'W':\n",
        "            temp = cy - dis\n",
        "            if temp < 0:\n",
        "                continue\n",
        "            else:\n",
        "                flag = 0\n",
        "                for i in range(temp, cy+1):\n",
        "                    if park[cx][i] == 'X':\n",
        "                        flag = 1\n",
        "                        break\n",
        "                if flag == 0:\n",
        "                    cy = temp\n",
        "        elif drc == 'S':\n",
        "            temp = cx + dis\n",
        "            if temp > lx-1:\n",
        "                continue\n",
        "            else:\n",
        "                flag = 0\n",
        "                for i in range(cx, temp+1):\n",
        "                    if park[i][cy] == 'X':\n",
        "                        flag = 1\n",
        "                        break\n",
        "                if flag == 0:\n",
        "                    cx = temp\n",
        "        else:\n",
        "            temp = cx - dis\n",
        "            if temp < 0:\n",
        "                continue\n",
        "            else:\n",
        "                flag = 0\n",
        "                for i in range(temp, cx+1):\n",
        "                    if park[i][cy] == 'X':\n",
        "                        flag = 1\n",
        "                        break\n",
        "                if flag == 0:\n",
        "                    cx = temp\n",
        "    answer = [cx, cy]\n",
        "    return answer"
      ],
      "metadata": {
        "id": "bV9lERfBRaAP"
      },
      "execution_count": null,
      "outputs": []
    }
  ]
}