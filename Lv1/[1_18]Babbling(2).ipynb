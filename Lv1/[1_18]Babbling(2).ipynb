{
  "nbformat": 4,
  "nbformat_minor": 0,
  "metadata": {
    "colab": {
      "provenance": []
    },
    "kernelspec": {
      "name": "python3",
      "display_name": "Python 3"
    },
    "language_info": {
      "name": "python"
    }
  },
  "cells": [
    {
      "cell_type": "markdown",
      "source": [
        "# **옹알이 (2)**\n",
        "\n",
        "\n",
        "**https://school.programmers.co.kr/learn/courses/30/lessons/133499?language=python3**"
      ],
      "metadata": {
        "id": "7Qefz5MNQtdh"
      }
    },
    {
      "cell_type": "code",
      "source": [
        "def solution(babbling):\n",
        "    answer = 0\n",
        "    for babbl in babbling:\n",
        "        state = 0\n",
        "        cur = ''\n",
        "        for b in babbl:\n",
        "            cur += b\n",
        "            if len(cur) > 3:\n",
        "                break\n",
        "            if cur == 'aya':\n",
        "                if state == 1:\n",
        "                    break\n",
        "                else:\n",
        "                    state = 1\n",
        "                    cur = ''\n",
        "            elif cur == 'ye':\n",
        "                if state == 2:\n",
        "                    break\n",
        "                else:\n",
        "                    state = 2\n",
        "                    cur = ''\n",
        "            elif cur == 'woo':\n",
        "                if state == 3:\n",
        "                    break\n",
        "                else:\n",
        "                    state = 3\n",
        "                    cur = ''\n",
        "            elif cur == 'ma':\n",
        "                if state == 4:\n",
        "                    break\n",
        "                else:\n",
        "                    state = 4\n",
        "                    cur = ''\n",
        "        if len(cur) == 0:\n",
        "            answer += 1\n",
        "    return answer"
      ],
      "metadata": {
        "id": "bV9lERfBRaAP"
      },
      "execution_count": null,
      "outputs": []
    }
  ]
}