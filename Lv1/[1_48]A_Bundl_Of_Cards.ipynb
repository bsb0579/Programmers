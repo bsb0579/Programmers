{
  "nbformat": 4,
  "nbformat_minor": 0,
  "metadata": {
    "colab": {
      "provenance": []
    },
    "kernelspec": {
      "name": "python3",
      "display_name": "Python 3"
    },
    "language_info": {
      "name": "python"
    }
  },
  "cells": [
    {
      "cell_type": "markdown",
      "source": [
        "# **카드 뭉치**\n",
        "\n",
        "\n",
        "**https://school.programmers.co.kr/learn/courses/30/lessons/159994?language=python3**"
      ],
      "metadata": {
        "id": "7Qefz5MNQtdh"
      }
    },
    {
      "cell_type": "code",
      "source": [
        "def solution(cards1, cards2, goal):\n",
        "    for g in goal:\n",
        "        if len(cards1) > 0 and g == cards1[0]:\n",
        "            cards1 = cards1[1:]\n",
        "        elif len(cards2) > 0 and g == cards2[0]:\n",
        "            cards2 = cards2[1:]\n",
        "        else:\n",
        "            return 'No'\n",
        "    answer = 'Yes'\n",
        "    return answer"
      ],
      "metadata": {
        "id": "bV9lERfBRaAP"
      },
      "execution_count": null,
      "outputs": []
    }
  ]
}