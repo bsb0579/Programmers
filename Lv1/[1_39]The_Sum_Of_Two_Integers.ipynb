{
  "nbformat": 4,
  "nbformat_minor": 0,
  "metadata": {
    "colab": {
      "provenance": []
    },
    "kernelspec": {
      "name": "python3",
      "display_name": "Python 3"
    },
    "language_info": {
      "name": "python"
    }
  },
  "cells": [
    {
      "cell_type": "markdown",
      "source": [
        "# **두 정수 사이의 합**\n",
        "\n",
        "\n",
        "**https://school.programmers.co.kr/learn/courses/30/lessons/12912**"
      ],
      "metadata": {
        "id": "7Qefz5MNQtdh"
      }
    },
    {
      "cell_type": "code",
      "source": [
        "def solution(a, b):\n",
        "    if a > b:\n",
        "        temp = a\n",
        "        a = b\n",
        "        b = temp\n",
        "    answer = 0\n",
        "    if a*b < 0:\n",
        "        answer += b*(b+1)//2\n",
        "        a = -a\n",
        "        answer -= a*(a+1)//2\n",
        "    elif a < 0:\n",
        "        a = -a\n",
        "        b = -b\n",
        "        answer -= a*(a+1)//2\n",
        "        answer += b*(b-1)//2\n",
        "    else:\n",
        "        answer += b*(b+1)//2\n",
        "        answer -= a*(a-1)//2\n",
        "    return answer"
      ],
      "metadata": {
        "id": "bV9lERfBRaAP"
      },
      "execution_count": null,
      "outputs": []
    }
  ]
}