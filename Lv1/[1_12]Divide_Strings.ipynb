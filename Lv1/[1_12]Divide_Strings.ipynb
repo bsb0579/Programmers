{
  "nbformat": 4,
  "nbformat_minor": 0,
  "metadata": {
    "colab": {
      "provenance": []
    },
    "kernelspec": {
      "name": "python3",
      "display_name": "Python 3"
    },
    "language_info": {
      "name": "python"
    }
  },
  "cells": [
    {
      "cell_type": "markdown",
      "source": [
        "# **문자열 나누기**\n",
        "**https://school.programmers.co.kr/learn/courses/30/lessons/140108**"
      ],
      "metadata": {
        "id": "7Qefz5MNQtdh"
      }
    },
    {
      "cell_type": "code",
      "source": [
        "def split(s):\n",
        "    temps = s[0]\n",
        "    ss = 1\n",
        "    rest = 0\n",
        "    for i in range(1, len(s)):\n",
        "        if ss == rest:\n",
        "            break\n",
        "        if s[i] == temps:\n",
        "            ss += 1\n",
        "        else:\n",
        "            rest += 1\n",
        "    if ss == rest:\n",
        "        return s[2*ss:]\n",
        "    else:\n",
        "        return ''\n",
        "\n",
        "def solution(s):\n",
        "    answer = 0\n",
        "    while s:\n",
        "        s = split(s)\n",
        "        answer += 1\n",
        "    return answer"
      ],
      "metadata": {
        "id": "bV9lERfBRaAP"
      },
      "execution_count": null,
      "outputs": []
    }
  ]
}