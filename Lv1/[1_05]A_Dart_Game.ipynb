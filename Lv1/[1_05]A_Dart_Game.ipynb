{
  "nbformat": 4,
  "nbformat_minor": 0,
  "metadata": {
    "colab": {
      "provenance": []
    },
    "kernelspec": {
      "name": "python3",
      "display_name": "Python 3"
    },
    "language_info": {
      "name": "python"
    }
  },
  "cells": [
    {
      "cell_type": "markdown",
      "source": [
        "# **다트 게임**\n",
        "**https://school.programmers.co.kr/learn/courses/30/lessons/17682?language=python3**"
      ],
      "metadata": {
        "id": "7Qefz5MNQtdh"
      }
    },
    {
      "cell_type": "code",
      "source": [
        "def solution(dartResult):\n",
        "    answer = 0\n",
        "    stack = []\n",
        "    for i, e in enumerate(dartResult):\n",
        "        if e == 'S':\n",
        "            continue\n",
        "        elif e == 'D':\n",
        "            p = stack.pop()\n",
        "            stack.append(p*p)\n",
        "        elif e == 'T':\n",
        "            p = stack.pop()\n",
        "            stack.append(p*p*p)\n",
        "        elif e == '*':\n",
        "            if len(stack) == 1:\n",
        "                p = stack.pop()\n",
        "                stack.append(p*2)\n",
        "            else:\n",
        "                p1 = stack.pop()\n",
        "                p2 = stack.pop()\n",
        "                stack.append(p2*2)\n",
        "                stack.append(p1*2)\n",
        "        elif e == '#':\n",
        "            p = stack.pop()\n",
        "            stack.append(-p)\n",
        "        elif e == '0' and dartResult[i-1] == '1':\n",
        "            stack.pop()\n",
        "            stack.append(10)\n",
        "        else:\n",
        "            stack.append(int(e))\n",
        "    answer = sum(stack)\n",
        "    return answer"
      ],
      "metadata": {
        "id": "bV9lERfBRaAP"
      },
      "execution_count": null,
      "outputs": []
    }
  ]
}