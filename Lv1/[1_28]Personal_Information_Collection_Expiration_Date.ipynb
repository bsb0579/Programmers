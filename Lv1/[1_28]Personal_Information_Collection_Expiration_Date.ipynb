{
  "nbformat": 4,
  "nbformat_minor": 0,
  "metadata": {
    "colab": {
      "provenance": []
    },
    "kernelspec": {
      "name": "python3",
      "display_name": "Python 3"
    },
    "language_info": {
      "name": "python"
    }
  },
  "cells": [
    {
      "cell_type": "markdown",
      "source": [
        "# **개인정보 수집 유효기간**\n",
        "\n",
        "\n",
        "**https://school.programmers.co.kr/learn/courses/30/lessons/150370?language=python3**"
      ],
      "metadata": {
        "id": "7Qefz5MNQtdh"
      }
    },
    {
      "cell_type": "code",
      "source": [
        "def solution(today, terms, privacies):\n",
        "    answer = []\n",
        "    dictt = {}\n",
        "    for term in terms:\n",
        "        a, b = term.split(' ')\n",
        "        dictt[a] = int(b)\n",
        "    year, month, date = today.split('.')\n",
        "    y = int(year)\n",
        "    m = int(month)\n",
        "    d = int(date)\n",
        "    for i, pri in enumerate(privacies):\n",
        "        day, got = pri.split(' ')\n",
        "        yeart, montht, datet = day.split('.')\n",
        "        yt = int(yeart)\n",
        "        mt = int(montht)\n",
        "        dt = int(datet)\n",
        "        temp = dictt[got]\n",
        "        mt += temp\n",
        "        mt1 = mt//12\n",
        "        mt = mt%12\n",
        "        yt += mt1\n",
        "        if mt == 0:\n",
        "            mt += 12\n",
        "            yt -= 1\n",
        "        if yt > y or (yt == y and mt > m) or (yt == y and mt == m and dt > d):\n",
        "            continue\n",
        "        answer.append(i+1)\n",
        "        \n",
        "    return answer"
      ],
      "metadata": {
        "id": "bV9lERfBRaAP"
      },
      "execution_count": null,
      "outputs": []
    }
  ]
}