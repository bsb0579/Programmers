{
  "nbformat": 4,
  "nbformat_minor": 0,
  "metadata": {
    "colab": {
      "provenance": []
    },
    "kernelspec": {
      "name": "python3",
      "display_name": "Python 3"
    },
    "language_info": {
      "name": "python"
    }
  },
  "cells": [
    {
      "cell_type": "markdown",
      "source": [
        "# **음양 더하기**\n",
        "\n",
        "\n",
        "**https://school.programmers.co.kr/learn/courses/30/lessons/76501**"
      ],
      "metadata": {
        "id": "7Qefz5MNQtdh"
      }
    },
    {
      "cell_type": "code",
      "source": [
        "def solution(absolutes, signs):\n",
        "    temp1 = 0\n",
        "    temp2 = 0\n",
        "    for i in range(len(absolutes)):\n",
        "        if signs[i]:\n",
        "            temp1 += absolutes[i]\n",
        "        else:\n",
        "            temp2 += absolutes[i]\n",
        "    answer = temp1 - temp2\n",
        "    return answer"
      ],
      "metadata": {
        "id": "bV9lERfBRaAP"
      },
      "execution_count": null,
      "outputs": []
    }
  ]
}