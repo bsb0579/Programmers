{
  "nbformat": 4,
  "nbformat_minor": 0,
  "metadata": {
    "colab": {
      "provenance": []
    },
    "kernelspec": {
      "name": "python3",
      "display_name": "Python 3"
    },
    "language_info": {
      "name": "python"
    }
  },
  "cells": [
    {
      "cell_type": "markdown",
      "source": [
        "# **문자열 내 마음대로 정렬하기**\n",
        "\n",
        "\n",
        "**https://school.programmers.co.kr/learn/courses/30/lessons/12915**"
      ],
      "metadata": {
        "id": "7Qefz5MNQtdh"
      }
    },
    {
      "cell_type": "code",
      "source": [
        "def solution(strings, n):\n",
        "    dic = {}\n",
        "    for string in strings:\n",
        "        temp = string[n]\n",
        "        if temp not in dic:\n",
        "            dic[temp] = [string]\n",
        "        else:\n",
        "            dic[temp].append(string)\n",
        "    lst = list(dic.keys())\n",
        "    lst.sort()\n",
        "    answer = []\n",
        "    for l in lst:\n",
        "        temp = dic[l]\n",
        "        temp.sort()\n",
        "        answer = answer + temp\n",
        "    return answer"
      ],
      "metadata": {
        "id": "bV9lERfBRaAP"
      },
      "execution_count": null,
      "outputs": []
    }
  ]
}