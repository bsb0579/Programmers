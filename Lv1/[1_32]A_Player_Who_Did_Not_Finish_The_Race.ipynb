{
  "nbformat": 4,
  "nbformat_minor": 0,
  "metadata": {
    "colab": {
      "provenance": []
    },
    "kernelspec": {
      "name": "python3",
      "display_name": "Python 3"
    },
    "language_info": {
      "name": "python"
    }
  },
  "cells": [
    {
      "cell_type": "markdown",
      "source": [
        "# **완주하지 못한 선수**\n",
        "\n",
        "\n",
        "**https://school.programmers.co.kr/learn/courses/30/lessons/42576**"
      ],
      "metadata": {
        "id": "7Qefz5MNQtdh"
      }
    },
    {
      "cell_type": "code",
      "source": [
        "def solution(participant, completion):\n",
        "    dic = {}\n",
        "    answer = ''\n",
        "    for word in completion:\n",
        "        if word not in dic:\n",
        "            dic[word] = 1\n",
        "        else:\n",
        "            dic[word] += 1\n",
        "    for word in participant:\n",
        "        if word not in dic:\n",
        "            answer = word\n",
        "            break\n",
        "        else:\n",
        "            temp = dic[word]\n",
        "            temp -= 1\n",
        "            if temp == 0:\n",
        "                del dic[word]\n",
        "            else:\n",
        "                dic[word] = temp\n",
        "    return answer"
      ],
      "metadata": {
        "id": "bV9lERfBRaAP"
      },
      "execution_count": null,
      "outputs": []
    }
  ]
}