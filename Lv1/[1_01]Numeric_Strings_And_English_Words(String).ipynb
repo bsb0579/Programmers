{
  "nbformat": 4,
  "nbformat_minor": 0,
  "metadata": {
    "colab": {
      "provenance": []
    },
    "kernelspec": {
      "name": "python3",
      "display_name": "Python 3"
    },
    "language_info": {
      "name": "python"
    }
  },
  "cells": [
    {
      "cell_type": "markdown",
      "source": [
        "# **숫자 문자열과 영단어**\n",
        "**https://school.programmers.co.kr/learn/courses/30/lessons/81301**"
      ],
      "metadata": {
        "id": "7Qefz5MNQtdh"
      }
    },
    {
      "cell_type": "code",
      "source": [
        "def solution(s):\n",
        "    a = s[:]\n",
        "    b = \"\"\n",
        "    while a:\n",
        "        if a[0:4] == \"zero\":\n",
        "            b = b + \"0\"\n",
        "            a = a[4:]\n",
        "        elif a[0:3] == \"one\":\n",
        "            b = b + \"1\"\n",
        "            a = a[3:]\n",
        "        elif a[0:3] == \"two\":\n",
        "            b = b + \"2\"\n",
        "            a = a[3:]\n",
        "        elif a[0:5] == \"three\":\n",
        "            b = b + \"3\"\n",
        "            a = a[5:]\n",
        "        elif a[0:4] == \"four\":\n",
        "            b = b + \"4\"\n",
        "            a = a[4:]\n",
        "        elif a[0:4] == \"five\":\n",
        "            b = b + \"5\"\n",
        "            a = a[4:]\n",
        "        elif a[0:3] == \"six\":\n",
        "            b = b + \"6\"\n",
        "            a = a[3:]\n",
        "        elif a[0:5] == \"seven\":\n",
        "            b = b + \"7\"\n",
        "            a = a[5:]\n",
        "        elif a[0:5] == \"eight\":\n",
        "            b = b + \"8\"\n",
        "            a = a[5:]\n",
        "        elif a[0:4] == \"nine\":\n",
        "            b = b + \"9\"\n",
        "            a = a[4:]\n",
        "        else:\n",
        "            b = b + a[0]\n",
        "            a = a[1:]  \n",
        "    answer = int(b)\n",
        "    return answer"
      ],
      "metadata": {
        "id": "bV9lERfBRaAP"
      },
      "execution_count": null,
      "outputs": []
    }
  ]
}