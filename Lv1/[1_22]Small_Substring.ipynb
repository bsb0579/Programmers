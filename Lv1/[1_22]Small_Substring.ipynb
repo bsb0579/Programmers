{
  "nbformat": 4,
  "nbformat_minor": 0,
  "metadata": {
    "colab": {
      "provenance": []
    },
    "kernelspec": {
      "name": "python3",
      "display_name": "Python 3"
    },
    "language_info": {
      "name": "python"
    }
  },
  "cells": [
    {
      "cell_type": "markdown",
      "source": [
        "# **크기가 작은 부분문자열**\n",
        "\n",
        "\n",
        "**https://school.programmers.co.kr/learn/courses/30/lessons/147355?language=python3**"
      ],
      "metadata": {
        "id": "7Qefz5MNQtdh"
      }
    },
    {
      "cell_type": "code",
      "source": [
        "def solution(t, p):\n",
        "    target = int(p)\n",
        "    lp = len(p)\n",
        "    lt = len(t)\n",
        "    answer = 0\n",
        "    for i in range(lt-lp+1):\n",
        "        if i == 0:\n",
        "            temp = t[:lp]\n",
        "        else:\n",
        "            temp = temp[1:] + t[i+lp-1]\n",
        "        temp2 = int(temp)\n",
        "        if temp2 > target:\n",
        "            continue\n",
        "        else:\n",
        "            answer += 1\n",
        "    return answer"
      ],
      "metadata": {
        "id": "bV9lERfBRaAP"
      },
      "execution_count": null,
      "outputs": []
    }
  ]
}