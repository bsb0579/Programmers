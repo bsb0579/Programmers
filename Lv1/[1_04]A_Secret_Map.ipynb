{
  "nbformat": 4,
  "nbformat_minor": 0,
  "metadata": {
    "colab": {
      "provenance": []
    },
    "kernelspec": {
      "name": "python3",
      "display_name": "Python 3"
    },
    "language_info": {
      "name": "python"
    }
  },
  "cells": [
    {
      "cell_type": "markdown",
      "source": [
        "# **비밀지도**\n",
        "**https://school.programmers.co.kr/learn/courses/30/lessons/17681?language=python3**"
      ],
      "metadata": {
        "id": "7Qefz5MNQtdh"
      }
    },
    {
      "cell_type": "code",
      "source": [
        "def solution(n, arr1, arr2):\n",
        "    answer = []\n",
        "    for i in range(n):\n",
        "        temp = str(bin(arr1[i]|arr2[i]))[2:]\n",
        "        if len(temp) < n:\n",
        "            temp = '0'*(n-len(temp)) + temp\n",
        "        tempstr = ''\n",
        "        for elem in temp:\n",
        "            if elem == '1':\n",
        "                tempstr += '#'\n",
        "            else:\n",
        "                tempstr += ' '\n",
        "        answer.append(tempstr)\n",
        "    return answer"
      ],
      "metadata": {
        "id": "bV9lERfBRaAP"
      },
      "execution_count": null,
      "outputs": []
    }
  ]
}