{
  "nbformat": 4,
  "nbformat_minor": 0,
  "metadata": {
    "colab": {
      "provenance": []
    },
    "kernelspec": {
      "name": "python3",
      "display_name": "Python 3"
    },
    "language_info": {
      "name": "python"
    }
  },
  "cells": [
    {
      "cell_type": "markdown",
      "source": [
        "# **소수 만들기**\n",
        "\n",
        "\n",
        "**https://school.programmers.co.kr/learn/courses/30/lessons/12977**"
      ],
      "metadata": {
        "id": "7Qefz5MNQtdh"
      }
    },
    {
      "cell_type": "code",
      "source": [
        "from itertools import combinations\n",
        "def solution(nums):\n",
        "    lst = list(combinations(nums, 3))\n",
        "    answer = 0\n",
        "    \n",
        "    def isprime(n):\n",
        "        if n == 2:\n",
        "            return True\n",
        "        tem = int(n ** (1/2))\n",
        "        for i in range(2, tem+1):\n",
        "            if n%i==0:\n",
        "                return False\n",
        "        return True\n",
        "    \n",
        "    for a, b, c in lst:\n",
        "        temp = a+b+c\n",
        "        if isprime(temp):\n",
        "            answer += 1\n",
        "    return answer"
      ],
      "metadata": {
        "id": "bV9lERfBRaAP"
      },
      "execution_count": null,
      "outputs": []
    }
  ]
}