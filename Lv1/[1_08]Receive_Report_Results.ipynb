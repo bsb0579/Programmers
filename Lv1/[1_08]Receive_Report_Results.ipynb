{
  "nbformat": 4,
  "nbformat_minor": 0,
  "metadata": {
    "colab": {
      "provenance": []
    },
    "kernelspec": {
      "name": "python3",
      "display_name": "Python 3"
    },
    "language_info": {
      "name": "python"
    }
  },
  "cells": [
    {
      "cell_type": "markdown",
      "source": [
        "# **신고 결과 받기**\n",
        "**https://school.programmers.co.kr/learn/courses/30/lessons/92334**"
      ],
      "metadata": {
        "id": "7Qefz5MNQtdh"
      }
    },
    {
      "cell_type": "code",
      "source": [
        "def solution(id_list, report, k):\n",
        "    answer = []\n",
        "    dicreport = {}\n",
        "    dicid = {}\n",
        "    setreport = set([])\n",
        "    for elem in report:\n",
        "        a, b = elem.split(' ')\n",
        "        temp2 = dicid.get(a, set([]))\n",
        "        lentemp = len(temp2)\n",
        "        temp2.add(b)\n",
        "        lentemp2 = len(temp2)\n",
        "        if lentemp != lentemp2:\n",
        "            dicid[a] = temp2\n",
        "            temp = dicreport.get(b, 0)\n",
        "            temp += 1\n",
        "            dicreport[b] = temp\n",
        "            if temp == k:\n",
        "                setreport.add(b)\n",
        "    for ids in id_list:\n",
        "        temp = 0\n",
        "        lst = dicid.get(ids, set([]))\n",
        "        for i in lst:\n",
        "            if i in setreport:\n",
        "                temp += 1\n",
        "        answer.append(temp)\n",
        "    return answer"
      ],
      "metadata": {
        "id": "bV9lERfBRaAP"
      },
      "execution_count": null,
      "outputs": []
    }
  ]
}