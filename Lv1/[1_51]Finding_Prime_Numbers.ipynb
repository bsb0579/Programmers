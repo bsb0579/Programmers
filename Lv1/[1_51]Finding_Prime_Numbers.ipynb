{
  "nbformat": 4,
  "nbformat_minor": 0,
  "metadata": {
    "colab": {
      "provenance": []
    },
    "kernelspec": {
      "name": "python3",
      "display_name": "Python 3"
    },
    "language_info": {
      "name": "python"
    }
  },
  "cells": [
    {
      "cell_type": "markdown",
      "source": [
        "# **소수 찾기**\n",
        "\n",
        "\n",
        "**https://school.programmers.co.kr/learn/courses/30/lessons/12921**"
      ],
      "metadata": {
        "id": "7Qefz5MNQtdh"
      }
    },
    {
      "cell_type": "code",
      "source": [
        "def solution(n):\n",
        "    lst = [2]\n",
        "    if n == 2:\n",
        "        return 1\n",
        "    def prime(k, lst):\n",
        "        temp = int(k ** (1/2)) + 1\n",
        "        for i in lst:\n",
        "            if k%i == 0:\n",
        "                return False, lst\n",
        "            else:\n",
        "                if i > temp:\n",
        "                    lst.append(k)\n",
        "                    return True, lst\n",
        "        lst.append(k)\n",
        "        return True, lst\n",
        "    for i in range(3, n+1):\n",
        "        a, lst = prime(i, lst)\n",
        "    answer = len(lst)\n",
        "    return answer"
      ],
      "metadata": {
        "id": "bV9lERfBRaAP"
      },
      "execution_count": null,
      "outputs": []
    }
  ]
}