{
  "nbformat": 4,
  "nbformat_minor": 0,
  "metadata": {
    "colab": {
      "provenance": []
    },
    "kernelspec": {
      "name": "python3",
      "display_name": "Python 3"
    },
    "language_info": {
      "name": "python"
    }
  },
  "cells": [
    {
      "cell_type": "markdown",
      "source": [
        "# **모의고사**\n",
        "\n",
        "\n",
        "**https://school.programmers.co.kr/learn/courses/30/lessons/42840#**"
      ],
      "metadata": {
        "id": "7Qefz5MNQtdh"
      }
    },
    {
      "cell_type": "code",
      "source": [
        "def solution(answers):\n",
        "    temp1 = 1\n",
        "    temp2 = 1\n",
        "    temp3 = 3\n",
        "    ans1 = 0\n",
        "    ans2 = 0\n",
        "    ans3 = 0\n",
        "    for i in range(len(answers)):\n",
        "        if temp1 == answers[i]:\n",
        "            ans1 += 1\n",
        "        if temp1 == 5:\n",
        "            temp1 = 1\n",
        "        else:\n",
        "            temp1 += 1\n",
        "        if i%2 == 0:\n",
        "            if answers[i] == 2:\n",
        "                ans2 += 1\n",
        "            if answers[i] == temp3:\n",
        "                ans3 += 1\n",
        "        else:\n",
        "            if answers[i] == temp2:\n",
        "                ans2 += 1\n",
        "            if temp2 == 5:\n",
        "                temp2 = 1\n",
        "            elif temp2 == 1:\n",
        "                temp2 = 3\n",
        "            else:\n",
        "                temp2 += 1\n",
        "            if answers[i] == temp3:\n",
        "                ans3 += 1\n",
        "            if temp3 == 1:\n",
        "                temp3 = 2\n",
        "            elif temp3 == 2:\n",
        "                temp3 = 4\n",
        "            elif temp3 == 3:\n",
        "                temp3 = 1\n",
        "            elif temp3 == 4:\n",
        "                temp3 = 5\n",
        "            else:\n",
        "                temp3 = 3\n",
        "    maxt = max(ans1, ans2, ans3)\n",
        "    answer = []\n",
        "    if ans1 == maxt:\n",
        "        answer.append(1)\n",
        "    if ans2 == maxt:\n",
        "        answer.append(2)\n",
        "    if ans3 == maxt:\n",
        "        answer.append(3)\n",
        "    return answer"
      ],
      "metadata": {
        "id": "bV9lERfBRaAP"
      },
      "execution_count": null,
      "outputs": []
    }
  ]
}