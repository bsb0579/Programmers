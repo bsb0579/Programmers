{
  "nbformat": 4,
  "nbformat_minor": 0,
  "metadata": {
    "colab": {
      "provenance": []
    },
    "kernelspec": {
      "name": "python3",
      "display_name": "Python 3"
    },
    "language_info": {
      "name": "python"
    }
  },
  "cells": [
    {
      "cell_type": "markdown",
      "source": [
        "# **둘만의 암호**\n",
        "\n",
        "\n",
        "**https://school.programmers.co.kr/learn/courses/30/lessons/155652?language=python3**"
      ],
      "metadata": {
        "id": "7Qefz5MNQtdh"
      }
    },
    {
      "cell_type": "code",
      "source": [
        "def solution(s, skip, index):\n",
        "    se = set()\n",
        "    for sk in skip:\n",
        "        se.add(ord(sk))\n",
        "    answer = ''\n",
        "    for i in s:\n",
        "        temp = 0\n",
        "        to = ord(i)\n",
        "        while temp != index:\n",
        "            if to == 122:\n",
        "                to = 97\n",
        "            else:\n",
        "                to += 1\n",
        "            if to in se:\n",
        "                continue\n",
        "            temp += 1\n",
        "        answer += chr(to)\n",
        "    return answer"
      ],
      "metadata": {
        "id": "bV9lERfBRaAP"
      },
      "execution_count": null,
      "outputs": []
    }
  ]
}