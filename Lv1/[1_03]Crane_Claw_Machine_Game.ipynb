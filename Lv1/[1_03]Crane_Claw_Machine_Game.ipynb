{
  "nbformat": 4,
  "nbformat_minor": 0,
  "metadata": {
    "colab": {
      "provenance": []
    },
    "kernelspec": {
      "name": "python3",
      "display_name": "Python 3"
    },
    "language_info": {
      "name": "python"
    }
  },
  "cells": [
    {
      "cell_type": "markdown",
      "source": [
        "# **크레인 인형뽑기 게임**\n",
        "**https://school.programmers.co.kr/learn/courses/30/lessons/64061?language=python3**"
      ],
      "metadata": {
        "id": "7Qefz5MNQtdh"
      }
    },
    {
      "cell_type": "code",
      "source": [
        "def getdoll(board, move):\n",
        "    for i in range(len(board)):\n",
        "        temp = i\n",
        "        if board[i][move-1] > 0:\n",
        "            break\n",
        "    doll = board[temp][move-1]\n",
        "    if temp == len(board)-1 and doll == 0:\n",
        "        return board, -1\n",
        "    board[temp][move-1] = 0\n",
        "    return board, doll\n",
        "def solution(board, moves):\n",
        "    stack = []\n",
        "    answer = 0\n",
        "    for move in moves:\n",
        "        board, doll = getdoll(board, move)\n",
        "        if doll == -1:\n",
        "            continue\n",
        "        stack.append(doll)\n",
        "        while len(stack) > 1:\n",
        "            if stack[-1] == stack[-2]:\n",
        "                answer += 2\n",
        "                stack.pop()\n",
        "                stack.pop()\n",
        "            else:\n",
        "                break\n",
        "    return answer"
      ],
      "metadata": {
        "id": "bV9lERfBRaAP"
      },
      "execution_count": null,
      "outputs": []
    }
  ]
}