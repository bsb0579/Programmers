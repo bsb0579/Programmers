{
  "nbformat": 4,
  "nbformat_minor": 0,
  "metadata": {
    "colab": {
      "provenance": []
    },
    "kernelspec": {
      "name": "python3",
      "display_name": "Python 3"
    },
    "language_info": {
      "name": "python"
    }
  },
  "cells": [
    {
      "cell_type": "markdown",
      "source": [
        "# **최소직사각형**\n",
        "\n",
        "\n",
        "**https://school.programmers.co.kr/learn/courses/30/lessons/86491**"
      ],
      "metadata": {
        "id": "7Qefz5MNQtdh"
      }
    },
    {
      "cell_type": "code",
      "source": [
        "def solution(sizes):\n",
        "    answer = 0\n",
        "    x = 0 \n",
        "    y = 0\n",
        "    for a, b in sizes:\n",
        "        if a <= x and b <= y:\n",
        "            continue\n",
        "        elif a <= y and b <= x:\n",
        "            continue\n",
        "        else:\n",
        "            tempa1 = max(a, x)\n",
        "            tempb1 = max(b, y)\n",
        "            tempa2 = max(a, y)\n",
        "            tempb2 = max(b, x)\n",
        "            if tempa1*tempb1 < tempa2*tempb2:\n",
        "                x = max(a, x)\n",
        "                y = max(b, y)\n",
        "            else:\n",
        "                x = max(b, x)\n",
        "                y = max(a, y)\n",
        "    answer = x*y\n",
        "    return answer"
      ],
      "metadata": {
        "id": "bV9lERfBRaAP"
      },
      "execution_count": null,
      "outputs": []
    }
  ]
}