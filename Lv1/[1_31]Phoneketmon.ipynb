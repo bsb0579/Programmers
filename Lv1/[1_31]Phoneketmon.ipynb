{
  "nbformat": 4,
  "nbformat_minor": 0,
  "metadata": {
    "colab": {
      "provenance": []
    },
    "kernelspec": {
      "name": "python3",
      "display_name": "Python 3"
    },
    "language_info": {
      "name": "python"
    }
  },
  "cells": [
    {
      "cell_type": "markdown",
      "source": [
        "# **폰켓몬**\n",
        "\n",
        "\n",
        "**https://school.programmers.co.kr/learn/courses/30/lessons/1845**"
      ],
      "metadata": {
        "id": "7Qefz5MNQtdh"
      }
    },
    {
      "cell_type": "code",
      "source": [
        "def solution(nums):\n",
        "    dic = {}\n",
        "    for num in nums:\n",
        "        if num not in dic:\n",
        "            dic[num] = 1\n",
        "        else:\n",
        "            dic[num] += 1\n",
        "    answer = min(len(dic.keys()), len(nums)//2)\n",
        "    return answer"
      ],
      "metadata": {
        "id": "bV9lERfBRaAP"
      },
      "execution_count": null,
      "outputs": []
    }
  ]
}