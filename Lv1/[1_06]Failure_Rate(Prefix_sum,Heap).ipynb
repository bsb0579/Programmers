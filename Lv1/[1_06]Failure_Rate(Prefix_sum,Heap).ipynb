{
  "nbformat": 4,
  "nbformat_minor": 0,
  "metadata": {
    "colab": {
      "provenance": []
    },
    "kernelspec": {
      "name": "python3",
      "display_name": "Python 3"
    },
    "language_info": {
      "name": "python"
    }
  },
  "cells": [
    {
      "cell_type": "markdown",
      "source": [
        "# **실패율**\n",
        "**https://school.programmers.co.kr/learn/courses/30/lessons/42889**"
      ],
      "metadata": {
        "id": "7Qefz5MNQtdh"
      }
    },
    {
      "cell_type": "code",
      "source": [
        "from heapq import heappush, heappop\n",
        "def solution(N, stages):\n",
        "    tempa = [0]*(N+1)\n",
        "    tempb = [0]*(N+1)\n",
        "    for stage in stages:\n",
        "        if stage > N:\n",
        "            tempb[N] += 1\n",
        "            continue\n",
        "        tempa[stage] += 1\n",
        "        tempb[stage] += 1\n",
        "    for i in range(N-1, 0, -1):\n",
        "        tempb[i] += tempb[i+1]\n",
        "    h = []\n",
        "    for i in range(1, N+1):\n",
        "        if tempb[i] == 0:\n",
        "            heappush(h, (-0.0, i))\n",
        "        else:\n",
        "            heappush(h, (-tempa[i]/tempb[i], i))\n",
        "    answer = []\n",
        "    while h:\n",
        "        temp = heappop(h)\n",
        "        answer.append(temp[1])\n",
        "    return answer"
      ],
      "metadata": {
        "id": "bV9lERfBRaAP"
      },
      "execution_count": null,
      "outputs": []
    }
  ]
}