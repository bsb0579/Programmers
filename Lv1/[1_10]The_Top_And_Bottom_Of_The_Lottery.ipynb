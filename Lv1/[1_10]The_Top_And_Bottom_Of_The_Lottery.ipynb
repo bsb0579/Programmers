{
  "nbformat": 4,
  "nbformat_minor": 0,
  "metadata": {
    "colab": {
      "provenance": []
    },
    "kernelspec": {
      "name": "python3",
      "display_name": "Python 3"
    },
    "language_info": {
      "name": "python"
    }
  },
  "cells": [
    {
      "cell_type": "markdown",
      "source": [
        "# **로또의 최고 순위와 최저 순위**\n",
        "**https://school.programmers.co.kr/learn/courses/30/lessons/77484?language=python3**"
      ],
      "metadata": {
        "id": "7Qefz5MNQtdh"
      }
    },
    {
      "cell_type": "code",
      "source": [
        "def solution(lottos, win_nums):\n",
        "    dic = {}\n",
        "    n = 0\n",
        "    match = 0\n",
        "    for i in win_nums:\n",
        "        dic[i] = 1\n",
        "    for i in lottos:\n",
        "        if i == 0:\n",
        "            n += 1\n",
        "            continue\n",
        "        temp = dic.get(i, 0)\n",
        "        if temp == 1:\n",
        "            match += 1\n",
        "    dicm = {6:1, 5:2, 4:3, 3:4, 2:5, 1:6, 0:6}\n",
        "    answer = [dicm[match+n], dicm[match]]\n",
        "    return answer"
      ],
      "metadata": {
        "id": "bV9lERfBRaAP"
      },
      "execution_count": null,
      "outputs": []
    }
  ]
}