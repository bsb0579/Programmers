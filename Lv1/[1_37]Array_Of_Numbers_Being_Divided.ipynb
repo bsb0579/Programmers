{
  "nbformat": 4,
  "nbformat_minor": 0,
  "metadata": {
    "colab": {
      "provenance": []
    },
    "kernelspec": {
      "name": "python3",
      "display_name": "Python 3"
    },
    "language_info": {
      "name": "python"
    }
  },
  "cells": [
    {
      "cell_type": "markdown",
      "source": [
        "# **나누어 떨어지는 숫자 배열**\n",
        "\n",
        "\n",
        "**https://school.programmers.co.kr/learn/courses/30/lessons/12910**"
      ],
      "metadata": {
        "id": "7Qefz5MNQtdh"
      }
    },
    {
      "cell_type": "code",
      "source": [
        "def solution(arr, divisor):\n",
        "    arr.sort()\n",
        "    answer = []\n",
        "    for i in arr:\n",
        "        if i%divisor == 0:\n",
        "            answer.append(i)\n",
        "    if len(answer) == 0:\n",
        "        answer = [-1]\n",
        "    return answer"
      ],
      "metadata": {
        "id": "bV9lERfBRaAP"
      },
      "execution_count": null,
      "outputs": []
    }
  ]
}