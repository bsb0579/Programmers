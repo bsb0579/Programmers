{
  "nbformat": 4,
  "nbformat_minor": 0,
  "metadata": {
    "colab": {
      "provenance": []
    },
    "kernelspec": {
      "name": "python3",
      "display_name": "Python 3"
    },
    "language_info": {
      "name": "python"
    }
  },
  "cells": [
    {
      "cell_type": "markdown",
      "source": [
        "# **바탕화면 정리**\n",
        "\n",
        "\n",
        "**https://school.programmers.co.kr/learn/courses/30/lessons/161990?language=python3**"
      ],
      "metadata": {
        "id": "7Qefz5MNQtdh"
      }
    },
    {
      "cell_type": "code",
      "source": [
        "def solution(wallpaper):\n",
        "    xa, xb, ya, yb = 100, 0, 100, 0\n",
        "    for i, wall in enumerate(wallpaper):\n",
        "        for j, w in enumerate(wall):\n",
        "            if w == '#':\n",
        "                if i > xb:\n",
        "                    xb = i\n",
        "                if i < xa:\n",
        "                    xa = i\n",
        "                if j > yb:\n",
        "                    yb = j\n",
        "                if j < ya:\n",
        "                    ya = j\n",
        "    answer = [xa, ya, xb+1, yb+1]\n",
        "    return answer"
      ],
      "metadata": {
        "id": "bV9lERfBRaAP"
      },
      "execution_count": null,
      "outputs": []
    }
  ]
}