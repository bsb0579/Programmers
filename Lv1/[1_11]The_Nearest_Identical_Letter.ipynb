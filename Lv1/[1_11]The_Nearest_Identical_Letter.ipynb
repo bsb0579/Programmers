{
  "nbformat": 4,
  "nbformat_minor": 0,
  "metadata": {
    "colab": {
      "provenance": []
    },
    "kernelspec": {
      "name": "python3",
      "display_name": "Python 3"
    },
    "language_info": {
      "name": "python"
    }
  },
  "cells": [
    {
      "cell_type": "markdown",
      "source": [
        "# **가장 가까운 같은 글자**\n",
        "**hhttps://school.programmers.co.kr/learn/courses/30/lessons/142086?language=python3**"
      ],
      "metadata": {
        "id": "7Qefz5MNQtdh"
      }
    },
    {
      "cell_type": "code",
      "source": [
        "def solution(s):\n",
        "    answer = []\n",
        "    dic = {}\n",
        "    for i in range(97, 123):\n",
        "        dic[chr(i)] = -1\n",
        "    for i, c in enumerate(s):\n",
        "        if dic[c] == -1:\n",
        "            answer.append(-1)\n",
        "            dic[c] = i\n",
        "        else:\n",
        "            temp = i - dic[c]\n",
        "            answer.append(temp)\n",
        "            dic[c] = i\n",
        "    return answer"
      ],
      "metadata": {
        "id": "bV9lERfBRaAP"
      },
      "execution_count": null,
      "outputs": []
    }
  ]
}