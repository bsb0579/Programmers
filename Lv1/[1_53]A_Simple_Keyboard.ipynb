{
  "nbformat": 4,
  "nbformat_minor": 0,
  "metadata": {
    "colab": {
      "provenance": []
    },
    "kernelspec": {
      "name": "python3",
      "display_name": "Python 3"
    },
    "language_info": {
      "name": "python"
    }
  },
  "cells": [
    {
      "cell_type": "markdown",
      "source": [
        "# **대충 만든 자판**\n",
        "\n",
        "\n",
        "**https://school.programmers.co.kr/learn/courses/30/lessons/160586**"
      ],
      "metadata": {
        "id": "7Qefz5MNQtdh"
      }
    },
    {
      "cell_type": "code",
      "source": [
        "from heapq import heappush, heappop\n",
        "def solution(keymap, targets):\n",
        "    dic = {}\n",
        "    for key in keymap:\n",
        "        for i, k in enumerate(key):\n",
        "            if k not in dic:\n",
        "                dic[k] = [i+1]\n",
        "            else:\n",
        "                temp = dic[k]\n",
        "                heappush(temp, i+1)\n",
        "                dic[k] = temp\n",
        "    dic2 = {}\n",
        "    for a, b in dic.items():\n",
        "        dic2[a] = b[0]\n",
        "    answer = []\n",
        "    for tar in targets:\n",
        "        ans = 0\n",
        "        flag = 0\n",
        "        for t in tar:\n",
        "            if t not in dic2:\n",
        "                flag = 1\n",
        "                break\n",
        "            ans += dic2[t]\n",
        "        if flag == 1:\n",
        "            answer.append(-1)\n",
        "        else:\n",
        "            answer.append(ans)\n",
        "    return answer"
      ],
      "metadata": {
        "id": "bV9lERfBRaAP"
      },
      "execution_count": null,
      "outputs": []
    }
  ]
}