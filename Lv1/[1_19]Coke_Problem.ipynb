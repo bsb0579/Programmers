{
  "nbformat": 4,
  "nbformat_minor": 0,
  "metadata": {
    "colab": {
      "provenance": []
    },
    "kernelspec": {
      "name": "python3",
      "display_name": "Python 3"
    },
    "language_info": {
      "name": "python"
    }
  },
  "cells": [
    {
      "cell_type": "markdown",
      "source": [
        "# **콜라 문제**\n",
        "\n",
        "\n",
        "**https://school.programmers.co.kr/learn/courses/30/lessons/132267**"
      ],
      "metadata": {
        "id": "7Qefz5MNQtdh"
      }
    },
    {
      "cell_type": "code",
      "source": [
        "def solution(a, b, n):\n",
        "    answer = 0\n",
        "    while n >= a:\n",
        "        temp = b*(n//a)\n",
        "        answer += temp\n",
        "        n = temp + n%a\n",
        "    return answer"
      ],
      "metadata": {
        "id": "bV9lERfBRaAP"
      },
      "execution_count": null,
      "outputs": []
    }
  ]
}