{
  "nbformat": 4,
  "nbformat_minor": 0,
  "metadata": {
    "colab": {
      "provenance": []
    },
    "kernelspec": {
      "name": "python3",
      "display_name": "Python 3"
    },
    "language_info": {
      "name": "python"
    }
  },
  "cells": [
    {
      "cell_type": "markdown",
      "source": [
        "# **햄버거 만들기**\n",
        "\n",
        "\n",
        "**https://school.programmers.co.kr/learn/courses/30/lessons/133502**"
      ],
      "metadata": {
        "id": "7Qefz5MNQtdh"
      }
    },
    {
      "cell_type": "code",
      "source": [
        "def solution(ingredient):\n",
        "    stack = []\n",
        "    answer = 0\n",
        "    for i in ingredient:\n",
        "        stack.append(i)\n",
        "        while len(stack) > 3:\n",
        "            if stack[-1] == 1 and stack[-2] == 3 and stack[-3] == 2 and stack[-4] == 1:\n",
        "                stack.pop()\n",
        "                stack.pop()\n",
        "                stack.pop()\n",
        "                stack.pop()\n",
        "                answer += 1\n",
        "            else:\n",
        "                break\n",
        "    return answer"
      ],
      "metadata": {
        "id": "bV9lERfBRaAP"
      },
      "execution_count": null,
      "outputs": []
    }
  ]
}