{
  "nbformat": 4,
  "nbformat_minor": 0,
  "metadata": {
    "colab": {
      "provenance": []
    },
    "kernelspec": {
      "name": "python3",
      "display_name": "Python 3"
    },
    "language_info": {
      "name": "python"
    }
  },
  "cells": [
    {
      "cell_type": "markdown",
      "source": [
        "# **두 개 뽑아서 더하기**\n",
        "\n",
        "\n",
        "**https://school.programmers.co.kr/learn/courses/30/lessons/68644**"
      ],
      "metadata": {
        "id": "7Qefz5MNQtdh"
      }
    },
    {
      "cell_type": "code",
      "source": [
        "from itertools import combinations\n",
        "def solution(numbers):\n",
        "    lst = [i for i in range(len(numbers))]\n",
        "    clst = list(combinations(lst, 2))\n",
        "    s = set()\n",
        "    for a, b in clst:\n",
        "        temp = numbers[a] + numbers[b]\n",
        "        s.add(temp)\n",
        "    answer = list(s)\n",
        "    answer.sort()\n",
        "    return answer"
      ],
      "metadata": {
        "id": "bV9lERfBRaAP"
      },
      "execution_count": null,
      "outputs": []
    }
  ]
}