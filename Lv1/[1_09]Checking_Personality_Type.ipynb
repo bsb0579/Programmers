{
  "nbformat": 4,
  "nbformat_minor": 0,
  "metadata": {
    "colab": {
      "provenance": []
    },
    "kernelspec": {
      "name": "python3",
      "display_name": "Python 3"
    },
    "language_info": {
      "name": "python"
    }
  },
  "cells": [
    {
      "cell_type": "markdown",
      "source": [
        "# **성격 유형 검사하기**\n",
        "**https://school.programmers.co.kr/learn/courses/30/lessons/118666?language=python3**"
      ],
      "metadata": {
        "id": "7Qefz5MNQtdh"
      }
    },
    {
      "cell_type": "code",
      "source": [
        "def solution(survey, choices):\n",
        "    dic = {}\n",
        "    sur = [\"RT\", \"TR\", \"FC\", \"CF\", \"MJ\", \"JM\", \"AN\", \"NA\"]\n",
        "    for elem in sur:\n",
        "        dic[elem] = 0\n",
        "    for i in range(len(choices)):\n",
        "        temp = dic[survey[i]]\n",
        "        temp = temp + choices[i] - 4\n",
        "        dic[survey[i]] = temp\n",
        "        dic[survey[i][::-1]] = - temp\n",
        "    answer = ''\n",
        "    if dic['RT'] > 0:\n",
        "        answer += 'T'\n",
        "    else:\n",
        "        answer += 'R'\n",
        "    if dic['CF'] > 0:\n",
        "        answer += 'F'\n",
        "    else:\n",
        "        answer += 'C'\n",
        "    if dic['JM'] > 0:\n",
        "        answer += 'M'\n",
        "    else:\n",
        "        answer += 'J'\n",
        "    if dic['AN'] > 0:\n",
        "        answer += 'N'\n",
        "    else:\n",
        "        answer += 'A'\n",
        "    return answer"
      ],
      "metadata": {
        "id": "bV9lERfBRaAP"
      },
      "execution_count": null,
      "outputs": []
    }
  ]
}