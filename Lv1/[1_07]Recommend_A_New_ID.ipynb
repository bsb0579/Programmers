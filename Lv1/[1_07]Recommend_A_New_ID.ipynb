{
  "nbformat": 4,
  "nbformat_minor": 0,
  "metadata": {
    "colab": {
      "provenance": []
    },
    "kernelspec": {
      "name": "python3",
      "display_name": "Python 3"
    },
    "language_info": {
      "name": "python"
    }
  },
  "cells": [
    {
      "cell_type": "markdown",
      "source": [
        "# **신규 아이디 추천**\n",
        "**https://school.programmers.co.kr/learn/courses/30/lessons/72410**"
      ],
      "metadata": {
        "id": "7Qefz5MNQtdh"
      }
    },
    {
      "cell_type": "code",
      "source": [
        "def solution(new_id):\n",
        "    setb = set(['-','_','.','1','2','0','3','4','5','6','7','8','9'])\n",
        "    temp = ''\n",
        "    prev = ''\n",
        "    for i in range(len(new_id)):\n",
        "        if new_id[i] in setb:\n",
        "            if prev == '.' and new_id[i] == '.':\n",
        "                continue\n",
        "            prev = new_id[i]\n",
        "            temp += new_id[i]\n",
        "        elif 97 <= ord(new_id[i].lower()) and ord(new_id[i].lower()) <= 122:\n",
        "            prev = new_id[i].lower()\n",
        "            temp += new_id[i].lower()\n",
        "    if len(temp) == 0:\n",
        "        temp = 'a'\n",
        "    if temp[0] == '.':\n",
        "        temp = temp[1:]\n",
        "        if len(temp) == 0:\n",
        "            temp = 'a'\n",
        "    if temp[-1] == '.':\n",
        "        temp = temp[:-1]\n",
        "        if len(temp) == 0:\n",
        "            temp = 'a'\n",
        "    if len(temp) > 15:\n",
        "        temp = temp[:15]\n",
        "        if temp[-1] == '.':\n",
        "            temp = temp[:-1]\n",
        "    if len(temp) == 1:\n",
        "        temp = temp + temp + temp\n",
        "    elif len(temp) == 2:\n",
        "        temp = temp + temp[-1]\n",
        "    answer = temp\n",
        "    return answer"
      ],
      "metadata": {
        "id": "bV9lERfBRaAP"
      },
      "execution_count": null,
      "outputs": []
    }
  ]
}