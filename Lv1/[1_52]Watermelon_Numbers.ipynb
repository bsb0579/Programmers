{
  "nbformat": 4,
  "nbformat_minor": 0,
  "metadata": {
    "colab": {
      "provenance": []
    },
    "kernelspec": {
      "name": "python3",
      "display_name": "Python 3"
    },
    "language_info": {
      "name": "python"
    }
  },
  "cells": [
    {
      "cell_type": "markdown",
      "source": [
        "# **수박수**\n",
        "\n",
        "\n",
        "**https://school.programmers.co.kr/learn/courses/30/lessons/12922?language=python3**"
      ],
      "metadata": {
        "id": "7Qefz5MNQtdh"
      }
    },
    {
      "cell_type": "code",
      "source": [
        "def solution(n):\n",
        "    a, b = divmod(n , 2)\n",
        "    answer = '수박'*a + '수'*b\n",
        "    return answer"
      ],
      "metadata": {
        "id": "bV9lERfBRaAP"
      },
      "execution_count": null,
      "outputs": []
    }
  ]
}