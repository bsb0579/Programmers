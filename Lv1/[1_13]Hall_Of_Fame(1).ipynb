{
  "nbformat": 4,
  "nbformat_minor": 0,
  "metadata": {
    "colab": {
      "provenance": []
    },
    "kernelspec": {
      "name": "python3",
      "display_name": "Python 3"
    },
    "language_info": {
      "name": "python"
    }
  },
  "cells": [
    {
      "cell_type": "markdown",
      "source": [
        "# **명예의 전당 (1)**\n",
        "\n",
        "\n",
        "**https://school.programmers.co.kr/learn/courses/30/lessons/138477**"
      ],
      "metadata": {
        "id": "7Qefz5MNQtdh"
      }
    },
    {
      "cell_type": "code",
      "source": [
        "from heapq import heappush, heappop\n",
        "def solution(k, score):\n",
        "    hk = []\n",
        "    answer = []\n",
        "    for s in score:\n",
        "        if len(hk) < k:\n",
        "            heappush(hk, s)\n",
        "            answer.append(hk[0])\n",
        "        else:\n",
        "            temp = heappop(hk)\n",
        "            if temp > s:\n",
        "                heappush(hk, temp)\n",
        "                answer.append(hk[0])\n",
        "            else:\n",
        "                heappush(hk, s)\n",
        "                answer.append(hk[0])\n",
        "    return answer"
      ],
      "metadata": {
        "id": "bV9lERfBRaAP"
      },
      "execution_count": null,
      "outputs": []
    }
  ]
}