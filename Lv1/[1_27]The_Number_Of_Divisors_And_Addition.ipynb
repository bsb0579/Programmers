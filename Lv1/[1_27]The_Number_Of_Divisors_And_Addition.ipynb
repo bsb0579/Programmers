{
  "nbformat": 4,
  "nbformat_minor": 0,
  "metadata": {
    "colab": {
      "provenance": []
    },
    "kernelspec": {
      "name": "python3",
      "display_name": "Python 3"
    },
    "language_info": {
      "name": "python"
    }
  },
  "cells": [
    {
      "cell_type": "markdown",
      "source": [
        "# **약수의 개수와 덧셈**\n",
        "\n",
        "\n",
        "**https://school.programmers.co.kr/learn/courses/30/lessons/77884**"
      ],
      "metadata": {
        "id": "7Qefz5MNQtdh"
      }
    },
    {
      "cell_type": "code",
      "source": [
        "def solution(left, right):\n",
        "    lst = [0]*(right+1)\n",
        "    def geti(n):\n",
        "        if n == 1:\n",
        "            return 1\n",
        "        elif n == 2:\n",
        "            return 2\n",
        "        temp = int(n ** (1/2)) + 1\n",
        "        for i in range(2, temp+1):\n",
        "            if n%i == 0:\n",
        "                return i\n",
        "        return -1\n",
        "    lst[1] = 1\n",
        "    lst[2] = 2\n",
        "    for i in range(3, right+1):\n",
        "        temp = geti(i)\n",
        "        if temp == -1:\n",
        "            lst[i] = 2\n",
        "        else:\n",
        "            ioc = 0\n",
        "            tempi = i\n",
        "            while tempi%temp == 0:\n",
        "                ioc += 1\n",
        "                tempi = tempi//temp\n",
        "            result = lst[i//temp]\n",
        "            result = result//ioc\n",
        "            result = result*(ioc+1)\n",
        "            lst[i] = result\n",
        "    answer = 0\n",
        "    for i in range(left, right+1):\n",
        "        if lst[i]%2 == 0:\n",
        "            answer += i\n",
        "        else:\n",
        "            answer -= i\n",
        "    return answer"
      ],
      "metadata": {
        "id": "bV9lERfBRaAP"
      },
      "execution_count": null,
      "outputs": []
    }
  ]
}