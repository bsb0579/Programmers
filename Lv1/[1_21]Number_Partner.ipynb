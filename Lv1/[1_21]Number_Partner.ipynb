{
  "nbformat": 4,
  "nbformat_minor": 0,
  "metadata": {
    "colab": {
      "provenance": []
    },
    "kernelspec": {
      "name": "python3",
      "display_name": "Python 3"
    },
    "language_info": {
      "name": "python"
    }
  },
  "cells": [
    {
      "cell_type": "markdown",
      "source": [
        "# **숫자 짝꿍**\n",
        "\n",
        "\n",
        "**https://school.programmers.co.kr/learn/courses/30/lessons/131128**"
      ],
      "metadata": {
        "id": "7Qefz5MNQtdh"
      }
    },
    {
      "cell_type": "code",
      "source": [
        "def solution(X, Y):\n",
        "    dicx = {}\n",
        "    dicy = {}\n",
        "    for x in X:\n",
        "        temp = int(x)\n",
        "        if temp not in dicx:\n",
        "            dicx[temp] = 1\n",
        "        else:\n",
        "            dicx[temp] += 1\n",
        "    for y in Y:\n",
        "        temp = int(y)\n",
        "        if temp not in dicy:\n",
        "            dicy[temp] = 1\n",
        "        else:\n",
        "            dicy[temp] += 1\n",
        "    answer = ''\n",
        "    flag = 0\n",
        "    for i in range(10):\n",
        "        if i not in dicx or i not in dicy:\n",
        "            if i != 0:\n",
        "                flag += 1\n",
        "            continue\n",
        "        else:\n",
        "            temp = min(dicx[i], dicy[i])\n",
        "            answer = str(i)*temp + answer\n",
        "    if answer == '':\n",
        "        return '-1'\n",
        "    if flag == 9:\n",
        "        return '0'\n",
        "    return answer"
      ],
      "metadata": {
        "id": "bV9lERfBRaAP"
      },
      "execution_count": null,
      "outputs": []
    }
  ]
}