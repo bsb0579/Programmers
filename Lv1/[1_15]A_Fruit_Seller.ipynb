{
  "nbformat": 4,
  "nbformat_minor": 0,
  "metadata": {
    "colab": {
      "provenance": []
    },
    "kernelspec": {
      "name": "python3",
      "display_name": "Python 3"
    },
    "language_info": {
      "name": "python"
    }
  },
  "cells": [
    {
      "cell_type": "markdown",
      "source": [
        "# **과일 장수**\n",
        "\n",
        "\n",
        "**https://school.programmers.co.kr/learn/courses/30/lessons/135808?language=python3**"
      ],
      "metadata": {
        "id": "7Qefz5MNQtdh"
      }
    },
    {
      "cell_type": "code",
      "source": [
        "def solution(k, m, score):\n",
        "    answer = 0\n",
        "    dic = {}\n",
        "    for i in score:\n",
        "        if i not in dic:\n",
        "            dic[i] = 1\n",
        "        else:\n",
        "            dic[i] += 1\n",
        "    lst = list(dic.keys())\n",
        "    lst.sort(reverse = True)\n",
        "    prev = 0\n",
        "    for i in lst:\n",
        "        temp = dic[i] + prev\n",
        "        temp1 = temp%m\n",
        "        temp2 = temp//m\n",
        "        answer += temp2*i*m\n",
        "        prev = temp1\n",
        "    return answer"
      ],
      "metadata": {
        "id": "bV9lERfBRaAP"
      },
      "execution_count": null,
      "outputs": []
    }
  ]
}