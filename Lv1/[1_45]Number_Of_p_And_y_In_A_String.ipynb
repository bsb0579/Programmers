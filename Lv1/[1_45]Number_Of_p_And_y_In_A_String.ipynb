{
  "nbformat": 4,
  "nbformat_minor": 0,
  "metadata": {
    "colab": {
      "provenance": []
    },
    "kernelspec": {
      "name": "python3",
      "display_name": "Python 3"
    },
    "language_info": {
      "name": "python"
    }
  },
  "cells": [
    {
      "cell_type": "markdown",
      "source": [
        "# **문자열 내 p와 y의 개수**\n",
        "\n",
        "\n",
        "**https://school.programmers.co.kr/learn/courses/30/lessons/12916?language=python3**"
      ],
      "metadata": {
        "id": "7Qefz5MNQtdh"
      }
    },
    {
      "cell_type": "code",
      "source": [
        "def solution(s):\n",
        "    p1 = 0\n",
        "    y1 = 0\n",
        "    for w in s:\n",
        "        if w == 'p' or w == 'P':\n",
        "            p1 += 1\n",
        "        elif w == 'y' or w == 'Y':\n",
        "            y1 += 1\n",
        "    answer = (p1 == y1)\n",
        "    return answer"
      ],
      "metadata": {
        "id": "bV9lERfBRaAP"
      },
      "execution_count": null,
      "outputs": []
    }
  ]
}