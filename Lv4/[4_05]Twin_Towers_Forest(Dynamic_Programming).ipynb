{
  "nbformat": 4,
  "nbformat_minor": 0,
  "metadata": {
    "colab": {
      "provenance": []
    },
    "kernelspec": {
      "name": "python3",
      "display_name": "Python 3"
    },
    "language_info": {
      "name": "python"
    }
  },
  "cells": [
    {
      "cell_type": "markdown",
      "source": [
        "# **쌍둥이 빌딩 숲**\n",
        "**https://school.programmers.co.kr/learn/courses/30/lessons/140105#** "
      ],
      "metadata": {
        "id": "7Qefz5MNQtdh"
      }
    },
    {
      "cell_type": "code",
      "source": [
        "#dp\n",
        "def solution(n, count):\n",
        "    lst = [[0 for i in range(count+1)] for i in range(n+1)]\n",
        "    def countn(n, count):\n",
        "        if count == 0:\n",
        "            return 0\n",
        "        if n < count:\n",
        "            return 0\n",
        "        elif n == count:\n",
        "            lst[n][count] = 1\n",
        "            return 1\n",
        "        else:\n",
        "            if lst[n-1][count-1] == 0:\n",
        "                temp = countn(n-1, count-1)\n",
        "            else:\n",
        "                temp = lst[n-1][count-1]\n",
        "            if lst[n-1][count] == 0:\n",
        "                temp2 = countn(n-1, count)\n",
        "            else:\n",
        "                temp2 = lst[n-1][count]\n",
        "            temp3 = temp + temp2*2*(n-1)\n",
        "            temp3 = temp3%1000000007\n",
        "            lst[n][count] = temp3\n",
        "            return temp3\n",
        "    answer = countn(n, count)\n",
        "    return answer"
      ],
      "metadata": {
        "id": "bV9lERfBRaAP"
      },
      "execution_count": null,
      "outputs": []
    }
  ]
}