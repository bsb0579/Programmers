{
  "nbformat": 4,
  "nbformat_minor": 0,
  "metadata": {
    "colab": {
      "provenance": []
    },
    "kernelspec": {
      "name": "python3",
      "display_name": "Python 3"
    },
    "language_info": {
      "name": "python"
    }
  },
  "cells": [
    {
      "cell_type": "markdown",
      "source": [
        "# **무지의 먹방 라이브**\n",
        "**https://school.programmers.co.kr/learn/courses/30/lessons/42891** "
      ],
      "metadata": {
        "id": "7Qefz5MNQtdh"
      }
    },
    {
      "cell_type": "code",
      "source": [
        "#heapq\n",
        "from heapq import heappush, heappop\n",
        "def solution(food_times, k):\n",
        "    h = []\n",
        "    answer = -1\n",
        "    for i, food in enumerate(food_times):\n",
        "        heappush(h, (food, i+1))\n",
        "    l = len(h)\n",
        "    prev = 0\n",
        "    while h:\n",
        "        temp = l*(h[0][0] - prev)\n",
        "        if temp <= k:\n",
        "            k -= temp\n",
        "            prev = heappop(h)[0]\n",
        "            l -= 1\n",
        "        else:\n",
        "            h.sort(key = lambda x : x[1])\n",
        "            answer = h[k%l][1]\n",
        "            break\n",
        "    return answer"
      ],
      "metadata": {
        "id": "bV9lERfBRaAP"
      },
      "execution_count": null,
      "outputs": []
    }
  ]
}