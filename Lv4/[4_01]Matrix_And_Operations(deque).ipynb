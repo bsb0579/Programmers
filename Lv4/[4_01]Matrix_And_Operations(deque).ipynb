{
  "nbformat": 4,
  "nbformat_minor": 0,
  "metadata": {
    "colab": {
      "provenance": []
    },
    "kernelspec": {
      "name": "python3",
      "display_name": "Python 3"
    },
    "language_info": {
      "name": "python"
    }
  },
  "cells": [
    {
      "cell_type": "markdown",
      "source": [
        "# **행렬과 연산**\n",
        "**https://school.programmers.co.kr/learn/courses/30/lessons/118670**"
      ],
      "metadata": {
        "id": "7Qefz5MNQtdh"
      }
    },
    {
      "cell_type": "code",
      "source": [
        "#deque\n",
        "from collections import deque\n",
        "def nshift(qleft, qright, qmid, curstate, n, ver):\n",
        "    n = n%(ver)\n",
        "    if n == 0:\n",
        "        return qleft, qright, qmid, curstate\n",
        "    else:\n",
        "        for i in range(n):\n",
        "            qleft, qright, qmid, curstate = shift(qleft, qright, qmid, curstate)\n",
        "    return qleft, qright, qmid, curstate\n",
        "\n",
        "def nrotate(qleft, qright, qmid, curstate, n, ver, hor):\n",
        "    rot = (ver + hor)*2 - 4\n",
        "    n = n%rot\n",
        "    if n == 0:\n",
        "        return qleft, qright, qmid, curstate\n",
        "    else:\n",
        "        for i in range(n):\n",
        "            qleft, qright, qmid, curstate = rotate(qleft, qright, qmid, curstate, ver)\n",
        "    return qleft, qright, qmid, curstate\n",
        "\n",
        "def shift(qleft, qright, qmid, curstate):\n",
        "    qleft.appendleft(qleft.pop())\n",
        "    qright.append(qright.popleft())\n",
        "    a = curstate.pop()\n",
        "    curstate.appendleft(a)\n",
        "    return qleft, qright, qmid, curstate\n",
        "\n",
        "def rotate(qleft, qright, qmid, curstate, ver):\n",
        "    a = qleft.popleft()\n",
        "    qmid[curstate[0]].appendleft(a)\n",
        "    b = qmid[curstate[0]].pop()\n",
        "    qright.append(b)\n",
        "    c = qright.popleft()\n",
        "    qmid[curstate[ver-1]].append(c)\n",
        "    d = qmid[curstate[ver-1]].popleft()\n",
        "    qleft.append(d)\n",
        "    return qleft, qright, qmid, curstate\n",
        "\n",
        "def solution(rc, operations):\n",
        "    ver = len(rc)\n",
        "    hor = len(rc[0])\n",
        "    qleft = deque([])\n",
        "    qright = deque([])\n",
        "    qmid = []\n",
        "    curstate = deque([i for i in range(ver)])\n",
        "    for i in range(ver):\n",
        "        qleft.append(rc[i][0])\n",
        "        qright.append(rc[ver-1-i][hor-1])\n",
        "    for i in range(ver):\n",
        "        qmid.append(deque(rc[i][1:hor-1]))\n",
        "    state = 0\n",
        "    n = 0\n",
        "    for op in operations:\n",
        "        if state == 0 and op[0] == 'S':\n",
        "            n += 1\n",
        "        elif state == 1 and op[0] == 'R':\n",
        "            n += 1\n",
        "        elif state == 0 and op[0] == 'R':\n",
        "            qleft, qright, qmid, curstate = nshift(qleft, qright, qmid, curstate, n, ver)\n",
        "            n = 1\n",
        "            state = 1\n",
        "        else:\n",
        "            qleft, qright, qmid, curstate = nrotate(qleft, qright, qmid, curstate, n, ver, hor)\n",
        "            n = 1\n",
        "            state = 0\n",
        "    if state == 0:\n",
        "        qleft, qright, qmid, curstate = nshift(qleft, qright, qmid, curstate, n, ver)\n",
        "    elif state == 1:\n",
        "        qleft, qright, qmid, curstate = nrotate(qleft, qright, qmid, curstate, n, ver, hor)\n",
        "    answer = []\n",
        "    for i in range(ver):\n",
        "        answer.append([qleft.popleft()])\n",
        "        if hor > 2:\n",
        "            answer[i] += list(qmid[curstate[i]])\n",
        "        answer[i].append(qright[ver-1-i])\n",
        "    return answer"
      ],
      "metadata": {
        "id": "bV9lERfBRaAP"
      },
      "execution_count": null,
      "outputs": []
    }
  ]
}