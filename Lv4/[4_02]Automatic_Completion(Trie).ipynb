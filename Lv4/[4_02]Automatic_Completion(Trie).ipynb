{
  "nbformat": 4,
  "nbformat_minor": 0,
  "metadata": {
    "colab": {
      "provenance": []
    },
    "kernelspec": {
      "name": "python3",
      "display_name": "Python 3"
    },
    "language_info": {
      "name": "python"
    }
  },
  "cells": [
    {
      "cell_type": "markdown",
      "source": [
        "# **자동완성**\n",
        "**https://school.programmers.co.kr/learn/courses/30/lessons/17685?language=python3** "
      ],
      "metadata": {
        "id": "7Qefz5MNQtdh"
      }
    },
    {
      "cell_type": "code",
      "source": [
        "#Trie\n",
        "def solution(words):\n",
        "    root = [0, {}]\n",
        "    answer = 0\n",
        "    for word in words:\n",
        "        node = root\n",
        "        for w in word:\n",
        "            if w not in node[1]:\n",
        "                node[1][w] = [0, {}]\n",
        "            node[0] += 1\n",
        "            node = node[1][w]\n",
        "        node[0] += 1\n",
        "    for word in words:\n",
        "        temp = 0\n",
        "        node = root\n",
        "        for w in word:\n",
        "            if node[0] == 1:\n",
        "                break\n",
        "            temp += 1\n",
        "            node = node[1][w]\n",
        "        answer += temp\n",
        "    return answer"
      ],
      "metadata": {
        "id": "bV9lERfBRaAP"
      },
      "execution_count": null,
      "outputs": []
    }
  ]
}