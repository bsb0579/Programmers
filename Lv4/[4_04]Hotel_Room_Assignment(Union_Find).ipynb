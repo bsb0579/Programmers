{
  "nbformat": 4,
  "nbformat_minor": 0,
  "metadata": {
    "colab": {
      "provenance": []
    },
    "kernelspec": {
      "name": "python3",
      "display_name": "Python 3"
    },
    "language_info": {
      "name": "python"
    }
  },
  "cells": [
    {
      "cell_type": "markdown",
      "source": [
        "# **호텔 방 배정**\n",
        "**https://school.programmers.co.kr/learn/courses/30/lessons/64063?language=python3** "
      ],
      "metadata": {
        "id": "7Qefz5MNQtdh"
      }
    },
    {
      "cell_type": "code",
      "source": [
        "#union_find\n",
        "def solution(k, room_number):\n",
        "    dic = {}\n",
        "    answer = []\n",
        "    for r in room_number:\n",
        "        lst = [] \n",
        "        temp = r\n",
        "        if temp not in dic:\n",
        "            dic[temp] = temp+1\n",
        "            answer.append(temp)\n",
        "            continue\n",
        "        while temp in dic:\n",
        "            lst.append(temp)\n",
        "            temp = dic[temp]\n",
        "        for l in lst:\n",
        "            dic[l] = temp+1\n",
        "        answer.append(temp)\n",
        "        dic[temp] = temp+1\n",
        "    return answer"
      ],
      "metadata": {
        "id": "bV9lERfBRaAP"
      },
      "execution_count": null,
      "outputs": []
    }
  ]
}