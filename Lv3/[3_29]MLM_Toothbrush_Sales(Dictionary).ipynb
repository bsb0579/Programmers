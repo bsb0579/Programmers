{
  "nbformat": 4,
  "nbformat_minor": 0,
  "metadata": {
    "colab": {
      "provenance": []
    },
    "kernelspec": {
      "name": "python3",
      "display_name": "Python 3"
    },
    "language_info": {
      "name": "python"
    }
  },
  "cells": [
    {
      "cell_type": "markdown",
      "source": [
        "# **다단계 칫솔 판매**\n",
        "**https://school.programmers.co.kr/learn/courses/30/lessons/77486?language=python3**"
      ],
      "metadata": {
        "id": "7Qefz5MNQtdh"
      }
    },
    {
      "cell_type": "code",
      "source": [
        "#dictionary\n",
        "def operation(dic, seller, amount):\n",
        "    tempup = int(amount*0.1)\n",
        "    tempcur = amount - tempup\n",
        "    temp = dic[seller]\n",
        "    dic[seller] = [temp[0], temp[1] + tempcur]\n",
        "    while temp[0] != '-' and tempup != 0:\n",
        "        tempcur = tempup - int(tempup*0.1)\n",
        "        tempup = int(tempup*0.1)\n",
        "        temp2 = dic[temp[0]]\n",
        "        dic[temp[0]] = [temp2[0], temp2[1] + tempcur]\n",
        "        temp = temp2\n",
        "        \n",
        "def solution(enroll, referral, seller, amount):\n",
        "    dic = {}\n",
        "    for i in range(len(enroll)):\n",
        "        dic[enroll[i]] = [referral[i], 0]\n",
        "    for i in range(len(seller)):\n",
        "        operation(dic, seller[i], amount[i]*100)\n",
        "    answer = [0]*len(enroll)\n",
        "    for i in range(len(enroll)):\n",
        "        answer[i] = dic[enroll[i]][1]\n",
        "    return answer"
      ],
      "metadata": {
        "id": "bV9lERfBRaAP"
      },
      "execution_count": null,
      "outputs": []
    }
  ]
}