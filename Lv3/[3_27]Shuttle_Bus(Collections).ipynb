{
  "nbformat": 4,
  "nbformat_minor": 0,
  "metadata": {
    "colab": {
      "provenance": []
    },
    "kernelspec": {
      "name": "python3",
      "display_name": "Python 3"
    },
    "language_info": {
      "name": "python"
    }
  },
  "cells": [
    {
      "cell_type": "markdown",
      "source": [
        "# **셔틀버스**\n",
        "**https://school.programmers.co.kr/learn/courses/30/lessons/17678?language=python3**"
      ],
      "metadata": {
        "id": "7Qefz5MNQtdh"
      }
    },
    {
      "cell_type": "code",
      "source": [
        "from collections import deque\n",
        "def timeto(time):\n",
        "    lst = time.split(':')\n",
        "    return int(lst[0])*60 + int(lst[1])\n",
        "def totime(time):\n",
        "    a = time//60\n",
        "    b = time%60\n",
        "    hour = str(a)\n",
        "    minu = str(b)\n",
        "    if a < 10:\n",
        "        hour = '0' + hour\n",
        "    if b < 10:\n",
        "        minu = '0' + minu\n",
        "    return hour + ':' + minu\n",
        "def solution(n, t, m, timetable):\n",
        "    n_temp = 1\n",
        "    time = timeto('09:00')\n",
        "    m_temp = 0\n",
        "    timetable.sort()\n",
        "    table = deque(timetable)\n",
        "    while table:\n",
        "        if n_temp == n and m_temp == m - 1:\n",
        "            break\n",
        "        b = table.popleft()\n",
        "        a = timeto(b)\n",
        "        if a <= time:\n",
        "            if m_temp < m:\n",
        "                m_temp += 1\n",
        "            elif m_temp == m:\n",
        "                m_temp = 1\n",
        "                n_temp += 1\n",
        "                time += t\n",
        "        else:\n",
        "            table.appendleft(b)\n",
        "            time += t\n",
        "            m_temp = 0\n",
        "            n_temp += 1\n",
        "    answer = ''\n",
        "    if not table:\n",
        "        answer = totime(540+(n-1)*t)\n",
        "    else:\n",
        "        temp = table.popleft()\n",
        "        tempint = timeto(temp)\n",
        "        if tempint > 540 + (n-1)*t:\n",
        "            answer = totime(540+(n-1)*t)\n",
        "        else:\n",
        "            answer = totime(tempint-1)\n",
        "    return answer"
      ],
      "metadata": {
        "id": "bV9lERfBRaAP"
      },
      "execution_count": null,
      "outputs": []
    }
  ]
}