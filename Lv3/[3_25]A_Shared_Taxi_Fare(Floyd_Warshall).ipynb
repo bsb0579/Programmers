{
  "nbformat": 4,
  "nbformat_minor": 0,
  "metadata": {
    "colab": {
      "provenance": []
    },
    "kernelspec": {
      "name": "python3",
      "display_name": "Python 3"
    },
    "language_info": {
      "name": "python"
    }
  },
  "cells": [
    {
      "cell_type": "markdown",
      "source": [
        "# **합승 택시 요금**\n",
        "**https://school.programmers.co.kr/learn/courses/30/lessons/72413?language=python3**"
      ],
      "metadata": {
        "id": "7Qefz5MNQtdh"
      }
    },
    {
      "cell_type": "code",
      "source": [
        "#Floyd_Warshall\n",
        "def solution(n, s, a, b, fares):\n",
        "    INF = int(1e9)\n",
        "    lst = [[INF]*(n+1) for i in range(n+1)]\n",
        "    for i in range(1, n+1):\n",
        "        lst[i][i] = 0\n",
        "    for elem in fares:\n",
        "        lst[elem[0]][elem[1]] = elem[2]\n",
        "        lst[elem[1]][elem[0]] = elem[2]\n",
        "    for k in range(1, n+1):\n",
        "        for i in range(1, n+1):\n",
        "            for j in range(1, n+1):\n",
        "                lst[i][j] = min(lst[i][j], lst[i][k] + lst[k][j])\n",
        "    answer = lst[s][a] + lst[s][b]\n",
        "    for i in range(1, n+1):\n",
        "        answer = min(answer, lst[s][i] + lst[i][a] + lst[i][b])\n",
        "    return answer"
      ],
      "metadata": {
        "id": "bV9lERfBRaAP"
      },
      "execution_count": null,
      "outputs": []
    }
  ]
}