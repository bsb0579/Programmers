{
  "nbformat": 4,
  "nbformat_minor": 0,
  "metadata": {
    "colab": {
      "provenance": []
    },
    "kernelspec": {
      "name": "python3",
      "display_name": "Python 3"
    },
    "language_info": {
      "name": "python"
    }
  },
  "cells": [
    {
      "cell_type": "markdown",
      "source": [
        "# **부대복귀**\n",
        "**https://school.programmers.co.kr/learn/courses/30/lessons/132266?language=python3**"
      ],
      "metadata": {
        "id": "7Qefz5MNQtdh"
      }
    },
    {
      "cell_type": "code",
      "source": [
        "#BFS\n",
        "from collections import deque\n",
        "def solution(n, roads, sources, destination):\n",
        "    des = [-1]*(n+1)\n",
        "    visited = [False]*(n+1)\n",
        "    des[destination] = 0\n",
        "    graph = [[] for i in range(n+1)]\n",
        "    for elem in roads:\n",
        "        graph[elem[0]] += [elem[1]]\n",
        "        graph[elem[1]] += [elem[0]]\n",
        "    q = deque([destination])\n",
        "    visited[destination] = True\n",
        "    while q:\n",
        "        a = q.popleft()\n",
        "        for elem in graph[a]:\n",
        "            if visited[elem] == False:\n",
        "                q.append(elem)\n",
        "                visited[elem] = True\n",
        "                des[elem] = des[a] + 1\n",
        "    answer = []\n",
        "    for elem in sources:\n",
        "        answer.append(des[elem])\n",
        "    return answer"
      ],
      "metadata": {
        "id": "bV9lERfBRaAP"
      },
      "execution_count": null,
      "outputs": []
    }
  ]
}