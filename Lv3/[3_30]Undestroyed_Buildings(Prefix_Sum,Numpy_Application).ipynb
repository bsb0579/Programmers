{
  "nbformat": 4,
  "nbformat_minor": 0,
  "metadata": {
    "colab": {
      "provenance": []
    },
    "kernelspec": {
      "name": "python3",
      "display_name": "Python 3"
    },
    "language_info": {
      "name": "python"
    }
  },
  "cells": [
    {
      "cell_type": "markdown",
      "source": [
        "# **파괴되지 않은 건물**\n",
        "**https://school.programmers.co.kr/learn/courses/30/lessons/92344**"
      ],
      "metadata": {
        "id": "7Qefz5MNQtdh"
      }
    },
    {
      "cell_type": "code",
      "source": [
        "#prefix sum(누적합), numpy operation\n",
        "import numpy as np\n",
        "def solution(board, skill):\n",
        "    x = len(board)\n",
        "    y = len(board[0])\n",
        "    npboard = np.array(board)\n",
        "    ver = np.zeros((x, y), dtype = int)\n",
        "    for skil in skill:\n",
        "        amount = skil[5]\n",
        "        if skil[0] == 1:\n",
        "            amount = -amount\n",
        "        ver[skil[1], skil[2]] += amount\n",
        "        if skil[3]+1 != x and skil[4]+1 != y:\n",
        "            ver[skil[3]+1, skil[4]+1] += amount\n",
        "            ver[skil[1], skil[4]+1] -= amount\n",
        "            ver[skil[3]+1, skil[2]] -= amount\n",
        "        elif skil[4]+1 != y:\n",
        "            ver[skil[1], skil[4]+1] -= amount\n",
        "        elif skil[3]+1 != x:\n",
        "            ver[skil[3]+1, skil[2]] -= amount\n",
        "    for i in range(1,y):\n",
        "        ver[0:x, i] += ver[0:x, i-1]\n",
        "    for i in range(1,x):\n",
        "        ver[i, 0:y] += ver[i-1, 0:y]\n",
        "    npboard += ver\n",
        "    answer = 0\n",
        "    for i in range(x):\n",
        "        for j in range(y):\n",
        "            if npboard[i][j] > 0:\n",
        "                answer += 1\n",
        "    return answer"
      ],
      "metadata": {
        "id": "bV9lERfBRaAP"
      },
      "execution_count": null,
      "outputs": []
    }
  ]
}