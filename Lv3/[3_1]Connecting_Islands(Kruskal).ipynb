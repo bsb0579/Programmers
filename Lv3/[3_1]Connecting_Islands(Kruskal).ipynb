{
  "nbformat": 4,
  "nbformat_minor": 0,
  "metadata": {
    "colab": {
      "provenance": []
    },
    "kernelspec": {
      "name": "python3",
      "display_name": "Python 3"
    },
    "language_info": {
      "name": "python"
    }
  },
  "cells": [
    {
      "cell_type": "markdown",
      "source": [
        "# **섬 연결하기**\n",
        "\n",
        "n개의 섬 사이에 다리를 건설하는 비용(costs)이 주어질 때, 최소의 비용으로 모든 섬이 서로 통행 가능하도록 만들 때 필요한 최소 비용을 return 하도록 solution을 완성하세요.\n",
        "\n",
        "다리를 여러 번 건너더라도, 도달할 수만 있으면 통행 가능하다고 봅니다. 예를 들어 A 섬과 B 섬 사이에 다리가 있고, B 섬과 C 섬 사이에 다리가 있으면 A 섬과 C 섬은 서로 통행 가능합니다.\n",
        "\n",
        "### **제한사항**\n",
        "*   섬의 개수 n은 1 이상 100 이하입니다.\n",
        "*   costs의 길이는 ((n-1) * n) / 2이하입니다.\n",
        "*   임의의 i에 대해, costs[i][0] 와 costs[i] [1]에는 다리가 연결되는 두 섬의 번호가 들어있고, costs[i] [2]에는 이 두 섬을 연결하는 다리를 건설할 때 드는 비용입니다.\n",
        "*   같은 연결은 두 번 주어지지 않습니다. 또한 순서가 바뀌더라도 같은 연결로 봅니다. 즉 0과 1 사이를 연결하는 비용이 주어졌을 때, 1과 0의 비용이 주어지지 않습니다.\n",
        "*   모든 섬 사이의 다리 건설 비용이 주어지지 않습니다. 이 경우, 두 섬 사이의 건설이 불가능한 것으로 봅니다.\n",
        "*   연결할 수 없는 섬은 주어지지 않습니다.\n",
        "\n",
        "**입출력 예**\n",
        "\n",
        "n\t= 4\n",
        "\n",
        "cost = [[0,1,1],[0,2,2],[1,2,5],[1,3,1],[2,3,8]]\n",
        "\n",
        "return : 4"
      ],
      "metadata": {
        "id": "MNHZPMfSW5at"
      }
    },
    {
      "cell_type": "code",
      "source": [
        "#kruskal algorithm\n",
        "# 1. Find parents\n",
        "def find_p(parents, i):\n",
        "    if parents[i] != i:\n",
        "        return find_p(parents, parents[i])\n",
        "    else: \n",
        "        return i"
      ],
      "metadata": {
        "id": "HDUfZwF7X5n7"
      },
      "execution_count": null,
      "outputs": []
    },
    {
      "cell_type": "code",
      "source": [
        "# 2. Union parents\n",
        "def union(parents, i, j):\n",
        "    a = find_p(parents, i)\n",
        "    b = find_p(parents, j)\n",
        "    c = parents[:]\n",
        "    if a < b:\n",
        "        c[b] = a\n",
        "        return c\n",
        "    elif a > b:\n",
        "        c[a] = b\n",
        "        return c\n",
        "    else:\n",
        "        return none"
      ],
      "metadata": {
        "id": "9UzBVxjJYAMF"
      },
      "execution_count": null,
      "outputs": []
    },
    {
      "cell_type": "code",
      "source": [
        "def solution(n, costs):\n",
        "    parents = list(range(n))\n",
        "    #print(parents)\n",
        "    temp = []\n",
        "    for i in costs:\n",
        "        temp.append(list(reversed(i)))\n",
        "    cost_sort = sorted(temp)\n",
        "    #print(cost_sort)\n",
        "    answer = 0\n",
        "    for i in cost_sort:\n",
        "        if find_p(parents, i[1]) != find_p(parents, i[2]):\n",
        "            parents = union(parents, i[1], i[2])\n",
        "            answer += i[0]\n",
        "            \n",
        "    return answer"
      ],
      "metadata": {
        "id": "17uPcmhUYFZZ"
      },
      "execution_count": null,
      "outputs": []
    }
  ]
}