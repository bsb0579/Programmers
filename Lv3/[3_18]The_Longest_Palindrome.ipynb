{
  "nbformat": 4,
  "nbformat_minor": 0,
  "metadata": {
    "colab": {
      "provenance": []
    },
    "kernelspec": {
      "name": "python3",
      "display_name": "Python 3"
    },
    "language_info": {
      "name": "python"
    }
  },
  "cells": [
    {
      "cell_type": "markdown",
      "source": [
        "# **가장 긴 팰린드롬**\n",
        "**문제설명**\n",
        "\n",
        "앞뒤를 뒤집어도 똑같은 문자열을 팰린드롬(palindrome)이라고 합니다.\n",
        "문자열 s가 주어질 때, s의 부분문자열(Substring)중 가장 긴 팰린드롬의 길이를 return 하는 solution 함수를 완성해 주세요.\n",
        "\n",
        "예를들면, 문자열 s가 \"abcdcba\"이면 7을 return하고 \"abacde\"이면 3을 return합니다.\n",
        "\n",
        "## **제한사항**\n",
        "\n",
        "*   문자열 s의 길이 : 2,500 이하의 자연수\n",
        "*   문자열 s는 알파벳 소문자로만 구성\n",
        "\n",
        "**입출력 예**\n",
        "\n",
        "![화면 캡처 2022-10-05 215813.png](data:image/png;base64,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)\n",
        "\n",
        "**입출력 예 설명**\n",
        "\n",
        "입출력 예 #1\n",
        "4번째자리 'd'를 기준으로 문자열 s 전체가 팰린드롬이 되므로 7을 return합니다.\n",
        "\n",
        "입출력 예 #2\n",
        "2번째자리 'b'를 기준으로 \"aba\"가 팰린드롬이 되므로 3을 return합니다."
      ],
      "metadata": {
        "id": "7Qefz5MNQtdh"
      }
    },
    {
      "cell_type": "code",
      "source": [
        "def solution(s):\n",
        "    answer = 1\n",
        "    for i in range(len(s)):\n",
        "        for j in range(i + 1, len(s)):\n",
        "            pre = s[i:j]\n",
        "            if 2*j - i - 1 <= len(s):\n",
        "                pos1 = s[j - 1:2*j - i - 1][::-1]\n",
        "                if pos1 == pre:\n",
        "                    answer = max(answer, len(pre)*2 - 1)\n",
        "            if 2*j - i <= len(s):\n",
        "                pos2 = s[j:2*j - i][::-1]\n",
        "                if pos2 == pre:\n",
        "                    answer = max(answer, len(pre)*2)\n",
        "    return answer"
      ],
      "metadata": {
        "id": "bV9lERfBRaAP"
      },
      "execution_count": null,
      "outputs": []
    }
  ]
}