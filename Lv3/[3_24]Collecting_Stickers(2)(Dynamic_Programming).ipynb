{
  "nbformat": 4,
  "nbformat_minor": 0,
  "metadata": {
    "colab": {
      "provenance": []
    },
    "kernelspec": {
      "name": "python3",
      "display_name": "Python 3"
    },
    "language_info": {
      "name": "python"
    }
  },
  "cells": [
    {
      "cell_type": "markdown",
      "source": [
        "# **스티커 모으기(2)**\n",
        "**https://school.programmers.co.kr/learn/courses/30/lessons/12971?language=python3**"
      ],
      "metadata": {
        "id": "7Qefz5MNQtdh"
      }
    },
    {
      "cell_type": "code",
      "source": [
        "#dynamic_programming\n",
        "def solution(sticker):\n",
        "    answer = 0\n",
        "    if len(sticker) < 4:\n",
        "        return max(sticker)\n",
        "    dp_list1 = [0]*len(sticker)\n",
        "    dp_list2 = [0]*len(sticker)\n",
        "    dp_list1[0] = sticker[0]\n",
        "    dp_list2[1] = sticker[1]\n",
        "    dp_list1[1] = max(dp_list1[0], sticker[1])\n",
        "    dp_list2[2] = max(dp_list2[1], sticker[2])\n",
        "    n = 2\n",
        "    while n < len(sticker)-1:\n",
        "        dp_list1[n] = max(dp_list1[n-1], dp_list1[n-2] + sticker[n])\n",
        "        dp_list2[n+1] = max(dp_list2[n], dp_list2[n-1] + sticker[n+1])\n",
        "        n += 1\n",
        "    answer = max(dp_list1[len(sticker)-2], dp_list2[len(sticker)-1])\n",
        "    return answer"
      ],
      "metadata": {
        "id": "bV9lERfBRaAP"
      },
      "execution_count": null,
      "outputs": []
    }
  ]
}