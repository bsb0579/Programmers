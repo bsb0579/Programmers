{
  "nbformat": 4,
  "nbformat_minor": 0,
  "metadata": {
    "colab": {
      "provenance": []
    },
    "kernelspec": {
      "name": "python3",
      "display_name": "Python 3"
    },
    "language_info": {
      "name": "python"
    }
  },
  "cells": [
    {
      "cell_type": "markdown",
      "source": [
        "# **길 찾기 게임**\n",
        "**https://school.programmers.co.kr/learn/courses/30/lessons/42892**"
      ],
      "metadata": {
        "id": "7Qefz5MNQtdh"
      }
    },
    {
      "cell_type": "code",
      "source": [
        "#Tree\n",
        "import sys\n",
        "sys.setrecursionlimit(10**6)\n",
        "\n",
        "class tree:\n",
        "    def __init__(self, nodelist):\n",
        "        self.data = max(nodelist, key = lambda x : x[1])\n",
        "        if len(nodelist) == 1:\n",
        "            self.left = None\n",
        "            self.right = None\n",
        "        else:\n",
        "            leftlist = []\n",
        "            rightlist = []\n",
        "            for node in nodelist:\n",
        "                if node[0] > self.data[0]:\n",
        "                    rightlist.append(node)\n",
        "                elif node[0] < self.data[0]:\n",
        "                    leftlist.append(node)\n",
        "            if len(leftlist) == 0:\n",
        "                self.left = None\n",
        "            else:\n",
        "                self.left = tree(leftlist)\n",
        "            if len(rightlist) == 0:\n",
        "                self.right = None\n",
        "            else:\n",
        "                self.right = tree(rightlist)\n",
        "    \n",
        "def post_pre(root, post, pre):\n",
        "    post.append(root.data)\n",
        "    if root.left is not None:\n",
        "        post_pre(root.left, post, pre)\n",
        "    if root.right is not None:\n",
        "        post_pre(root.right, post, pre)\n",
        "    pre.append(root.data)\n",
        "    \n",
        "def solution(nodeinfo):\n",
        "    answer = []\n",
        "    post = []\n",
        "    pre = []\n",
        "    root = tree(nodeinfo)\n",
        "    post_pre(root, post, pre)\n",
        "    dic = {}\n",
        "    for i, node in enumerate(nodeinfo):\n",
        "        dic[(node[0], node[1])] = i+1\n",
        "    postlst = []\n",
        "    prelst = []\n",
        "    for po in post:\n",
        "        postlst.append(dic[(po[0], po[1])])\n",
        "    for pr in pre:\n",
        "        prelst.append(dic[(pr[0], pr[1])])\n",
        "    answer.append(postlst)\n",
        "    answer.append(prelst)\n",
        "    return answer"
      ],
      "metadata": {
        "id": "bV9lERfBRaAP"
      },
      "execution_count": null,
      "outputs": []
    }
  ]
}