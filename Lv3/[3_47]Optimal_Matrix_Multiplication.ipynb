{
  "nbformat": 4,
  "nbformat_minor": 0,
  "metadata": {
    "colab": {
      "provenance": []
    },
    "kernelspec": {
      "name": "python3",
      "display_name": "Python 3"
    },
    "language_info": {
      "name": "python"
    }
  },
  "cells": [
    {
      "cell_type": "markdown",
      "source": [
        "# **최적의 행렬 곱셈**\n",
        "**https://school.programmers.co.kr/learn/courses/30/lessons/12942**"
      ],
      "metadata": {
        "id": "7Qefz5MNQtdh"
      }
    },
    {
      "cell_type": "code",
      "source": [
        "#Dynamic Programming\n",
        "def solution(matrix_sizes):\n",
        "    if len(matrix_sizes) == 1:\n",
        "        return 0\n",
        "    dplst = [[0 for i in range(len(matrix_sizes))] for j in range(len(matrix_sizes))]\n",
        "    for i in range(len(matrix_sizes)):\n",
        "        for elem in range(len(matrix_sizes)-i):\n",
        "            s = set()\n",
        "            for j in range(elem, elem+i):\n",
        "                s.add(dplst[elem][j] + dplst[j+1][elem+i] + matrix_sizes[elem][0]*matrix_sizes[j][1]*matrix_sizes[elem+i][1])\n",
        "            if s:\n",
        "                dplst[elem][elem+i] = min(s)\n",
        "    answer = dplst[0][-1]\n",
        "    return answer"
      ],
      "metadata": {
        "id": "bV9lERfBRaAP"
      },
      "execution_count": null,
      "outputs": []
    }
  ]
}