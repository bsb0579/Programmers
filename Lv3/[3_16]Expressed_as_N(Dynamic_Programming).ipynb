{
  "nbformat": 4,
  "nbformat_minor": 0,
  "metadata": {
    "colab": {
      "provenance": []
    },
    "kernelspec": {
      "name": "python3",
      "display_name": "Python 3"
    },
    "language_info": {
      "name": "python"
    }
  },
  "cells": [
    {
      "cell_type": "markdown",
      "source": [
        "# **N으로 표현**\n",
        "**문제설명**\n",
        "\n",
        "아래와 같이 5와 사칙연산만으로 12를 표현할 수 있습니다.\n",
        "\n",
        "12 = 5 + 5 + (5 / 5) + (5 / 5)\n",
        "12 = 55 / 5 + 5 / 5\n",
        "12 = (55 + 5) / 5\n",
        "\n",
        "5를 사용한 횟수는 각각 6,5,4 입니다. 그리고 이중 가장 작은 경우는 4입니다.\n",
        "이처럼 숫자 N과 number가 주어질 때, N과 사칙연산만 사용해서 표현 할 수 있는 방법 중 N 사용횟수의 최솟값을 return 하도록 solution 함수를 작성하세요.\n",
        "\n",
        "## **제한사항**\n",
        "\n",
        "*   N은 1 이상 9 이하입니다.\n",
        "*   number는 1 이상 32,000 이하입니다.\n",
        "*   수식에는 괄호와 사칙연산만 가능하며 나누기 연산에서 나머지는 무시합니다.\n",
        "*   최솟값이 8보다 크면 -1을 return 합니다.\n",
        "\n",
        "**입출력 예**\n",
        "\n",
        "![화면 캡처 2022-10-03 221901.png](data:image/png;base64,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)\n",
        "\n",
        "**입출력 예 설명**\n",
        "\n",
        "예제 #1\n",
        "문제에 나온 예와 같습니다.\n",
        "\n",
        "예제 #2\n",
        "11 = 22 / 2와 같이 2를 3번만 사용하여 표현할 수 있습니다."
      ],
      "metadata": {
        "id": "7Qefz5MNQtdh"
      }
    },
    {
      "cell_type": "code",
      "source": [
        "#dynamic_programming\n",
        "def operation(x, y, lst):\n",
        "    a = lst[x - 1]\n",
        "    b = lst[y - 1]\n",
        "    for i in a:\n",
        "        for j in b:\n",
        "            lst[x+y-1].add(i+j)\n",
        "            if i > j:\n",
        "                lst[x+y-1].add(i-j)\n",
        "                if i%j == 0:\n",
        "                    lst[x+y-1].add(i//j)\n",
        "            elif i < j:\n",
        "                lst[x+y-1].add(j-i)\n",
        "                if j%i == 0:\n",
        "                    lst[x+y-1].add(j//i)\n",
        "            lst[x+y-1].add(i*j)\n",
        "    return lst"
      ],
      "metadata": {
        "id": "bV9lERfBRaAP"
      },
      "execution_count": null,
      "outputs": []
    },
    {
      "cell_type": "code",
      "source": [
        "def solution(N, number):\n",
        "    lst = [set() for i in range(8)]\n",
        "    lst[0].add(N)\n",
        "    lst[1].add(11*N)\n",
        "    lst[1].add(1)\n",
        "    lst[2].add(111*N)\n",
        "    lst[3].add(1111*N)\n",
        "    lst[4].add(11111*N)\n",
        "    lst[5].add(111111*N)\n",
        "    lst[6].add(1111111*N)\n",
        "    lst[7].add(11111111*N)\n",
        "    operation(1, 1, lst)\n",
        "    operation(1, 2, lst)\n",
        "    operation(1, 3, lst)\n",
        "    operation(2, 2, lst)\n",
        "    operation(1, 4, lst)\n",
        "    operation(2, 3, lst)\n",
        "    operation(1, 5, lst)\n",
        "    operation(2, 4, lst)\n",
        "    operation(3, 3, lst)\n",
        "    operation(1, 6, lst)\n",
        "    operation(2, 5, lst)\n",
        "    operation(3, 4, lst)\n",
        "    operation(1, 7, lst)\n",
        "    operation(2, 6, lst)\n",
        "    operation(3, 5, lst)\n",
        "    operation(4, 4, lst)\n",
        "    if number in lst[0]:\n",
        "        answer = 1\n",
        "    elif number in lst[1]:\n",
        "        answer = 2\n",
        "    elif number in lst[2]:\n",
        "        answer = 3\n",
        "    elif number in lst[3]:\n",
        "        answer = 4\n",
        "    elif number in lst[4]:\n",
        "        answer = 5\n",
        "    elif number in lst[5]:\n",
        "        answer = 6\n",
        "    elif number in lst[6]:\n",
        "        answer = 7\n",
        "    elif number in lst[7]:\n",
        "        answer = 8\n",
        "    else:\n",
        "        answer = -1\n",
        "    return answer"
      ],
      "metadata": {
        "id": "ugTmRqZykkgF"
      },
      "execution_count": null,
      "outputs": []
    }
  ]
}