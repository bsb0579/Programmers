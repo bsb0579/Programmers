{
  "nbformat": 4,
  "nbformat_minor": 0,
  "metadata": {
    "colab": {
      "provenance": []
    },
    "kernelspec": {
      "name": "python3",
      "display_name": "Python 3"
    },
    "language_info": {
      "name": "python"
    }
  },
  "cells": [
    {
      "cell_type": "markdown",
      "source": [
        "# **등대**\n",
        "**https://school.programmers.co.kr/learn/courses/30/lessons/133500?language=python3#**"
      ],
      "metadata": {
        "id": "7Qefz5MNQtdh"
      }
    },
    {
      "cell_type": "code",
      "source": [
        "import sys\n",
        "sys.setrecursionlimit(10**6)\n",
        "def dfs(n, graph, visited):\n",
        "    visited[n] = True\n",
        "    nextlst = [i for i in graph[n] if not visited[i]]\n",
        "    if len(nextlst) == 0:\n",
        "        return 1, 0\n",
        "    else:\n",
        "        f, l = 1, 0\n",
        "        for nex in nextlst:\n",
        "            a, b = dfs(nex, graph, visited)\n",
        "            f += min(a, b)\n",
        "            l += a\n",
        "        return f, l\n",
        "        \n",
        "def solution(n, lighthouse):\n",
        "    answer = 0\n",
        "    visited = [False]*(n+1)\n",
        "    graph = {}\n",
        "    for a, b in lighthouse:\n",
        "        if a not in graph:\n",
        "            graph[a] = [b]\n",
        "        else:\n",
        "            graph[a].append(b)\n",
        "        if b not in graph:\n",
        "            graph[b] = [a]\n",
        "        else:\n",
        "            graph[b].append(a)\n",
        "    answer = min(dfs(1, graph, visited))\n",
        "    \"\"\"\n",
        "    while lighthouse:\n",
        "        graph = {}\n",
        "        for a, b in lighthouse:\n",
        "            if a not in graph:\n",
        "                graph[a] = [b]\n",
        "            else:\n",
        "                graph[a].append(b)\n",
        "            if b not in graph:\n",
        "                graph[b] = [a]\n",
        "            else:\n",
        "                graph[b].append(a)\n",
        "        oneline = set([])\n",
        "        for i, g in graph.items():\n",
        "            if len(g) == 1:\n",
        "                oneline.add(i)\n",
        "                temp = g[0]\n",
        "                if not visited[temp] and not visited[i]:\n",
        "                    visited[temp] = True\n",
        "                    answer += 1\n",
        "        lighthouse = [[x, y] for x, y in lighthouse if x not in oneline and y not in oneline]\n",
        "    \"\"\"\n",
        "    return answer"
      ],
      "metadata": {
        "id": "bV9lERfBRaAP"
      },
      "execution_count": null,
      "outputs": []
    }
  ]
}