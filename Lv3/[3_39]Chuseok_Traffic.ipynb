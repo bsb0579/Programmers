{
  "nbformat": 4,
  "nbformat_minor": 0,
  "metadata": {
    "colab": {
      "provenance": []
    },
    "kernelspec": {
      "name": "python3",
      "display_name": "Python 3"
    },
    "language_info": {
      "name": "python"
    }
  },
  "cells": [
    {
      "cell_type": "markdown",
      "source": [
        "# **추석 트래픽**\n",
        "**https://school.programmers.co.kr/learn/courses/30/lessons/17676?language=python3**"
      ],
      "metadata": {
        "id": "7Qefz5MNQtdh"
      }
    },
    {
      "cell_type": "code",
      "source": [
        "def gettime(line):\n",
        "    year, time, interval = line.split(' ')\n",
        "    hour, minu, seco = time.split(':')\n",
        "    rsec1, rsec2 = seco.split('.')\n",
        "    rint = int(hour)*3600*1000 + int(minu)*60*1000 + int(rsec1)*1000 + int(rsec2)\n",
        "    interval = interval[:-1]\n",
        "    temp = interval.split('.')\n",
        "    if len(temp) == 1:\n",
        "        rtime = int(temp[0])*1000\n",
        "    else:\n",
        "        elem = temp[1]\n",
        "        while len(elem) < 3:\n",
        "            elem = elem + '0'\n",
        "        rtime = int(temp[0])*1000 + int(elem)\n",
        "    rtime = rint - rtime + 1\n",
        "    return rtime, rint\n",
        "def intime(time, rtime, rint):\n",
        "    timei = time+999\n",
        "    if rint < time:\n",
        "        return False\n",
        "    if rtime > timei:\n",
        "        return False\n",
        "    return True\n",
        "def solution(lines):\n",
        "    h = []\n",
        "    biin = []\n",
        "    for line in lines:\n",
        "        rtime, rint = gettime(line)\n",
        "        biin\n",
        "        h.append(rtime)\n",
        "        h.append(rint)\n",
        "        biin.append((rtime, rint))\n",
        "    answer = 0\n",
        "    for time in h:\n",
        "        temp = 0\n",
        "        for rtime, rint in biin:\n",
        "            if intime(time, rtime, rint):\n",
        "                temp += 1\n",
        "        if temp > answer:\n",
        "            answer = temp\n",
        "    return answer"
      ],
      "metadata": {
        "id": "bV9lERfBRaAP"
      },
      "execution_count": null,
      "outputs": []
    }
  ]
}