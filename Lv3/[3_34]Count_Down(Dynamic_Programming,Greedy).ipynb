{
  "nbformat": 4,
  "nbformat_minor": 0,
  "metadata": {
    "colab": {
      "provenance": []
    },
    "kernelspec": {
      "name": "python3",
      "display_name": "Python 3"
    },
    "language_info": {
      "name": "python"
    }
  },
  "cells": [
    {
      "cell_type": "markdown",
      "source": [
        "# **카운트 다운**\n",
        "**https://school.programmers.co.kr/learn/courses/30/lessons/131129?language=python3#**"
      ],
      "metadata": {
        "id": "7Qefz5MNQtdh"
      }
    },
    {
      "cell_type": "code",
      "source": [
        "def solution(target):\n",
        "    dplst =  [[1, 1] for i in range(60)]\n",
        "    for i in range(51, 60):\n",
        "        dplst[i-1] = [2, 2]\n",
        "    for i in range(7, 21):\n",
        "        if 2*i > 20 and 2*i != 50:\n",
        "            dplst[2*i-1] = [1, 0]\n",
        "        if 3*i > 20:\n",
        "            dplst[3*i-1] = [1, 0]\n",
        "    a = [23, 25, 29, 31, 35, 37]\n",
        "    b = [41, 43, 44, 46, 47, 49]\n",
        "    for elm in a:\n",
        "        dplst[elm-1] = [2, 2]\n",
        "    for elm in b:\n",
        "        dplst[elm-1] = [2, 1]\n",
        "    answer = []\n",
        "    if target < 61:\n",
        "        return dplst[target-1]\n",
        "    cur60 = target//60\n",
        "    els60 = target%60\n",
        "    ans = [cur60 + dplst[els60-1][0], dplst[els60-1][1]]\n",
        "    for i in range(1, cur60+1):\n",
        "        cur = cur60 - i\n",
        "        temp = target - (cur)*60\n",
        "        cur50 = temp//50\n",
        "        els50 = temp%50\n",
        "        if els50 <= 10:\n",
        "            cur50 -= 1\n",
        "            els50 += 50\n",
        "        anstemp = [cur+cur50+dplst[els50-1][0], dplst[els50-1][1]+cur50]\n",
        "        if anstemp[0] < ans[0]:\n",
        "            ans = anstemp\n",
        "        elif anstemp[0] == ans[0] and anstemp[1] > ans[1]:\n",
        "            ans = anstemp\n",
        "    answer = ans\n",
        "    return answer"
      ],
      "metadata": {
        "id": "bV9lERfBRaAP"
      },
      "execution_count": 8,
      "outputs": []
    }
  ]
}