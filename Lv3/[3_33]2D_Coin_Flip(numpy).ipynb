{
  "nbformat": 4,
  "nbformat_minor": 0,
  "metadata": {
    "colab": {
      "provenance": []
    },
    "kernelspec": {
      "name": "python3",
      "display_name": "Python 3"
    },
    "language_info": {
      "name": "python"
    }
  },
  "cells": [
    {
      "cell_type": "markdown",
      "source": [
        "# **2차원 동전 뒤집기**\n",
        "**https://school.programmers.co.kr/learn/courses/30/lessons/131703?language=python3**"
      ],
      "metadata": {
        "id": "7Qefz5MNQtdh"
      }
    },
    {
      "cell_type": "code",
      "source": [
        "import numpy as np\n",
        "def flip_horizontal(x, n):\n",
        "    for i in n:\n",
        "        x[i] = x[i]^1\n",
        "    return x\n",
        "\n",
        "def flip_vertical(x, n):\n",
        "    for i in n:\n",
        "        x[:,i] = x[:,i]^1\n",
        "    return x\n",
        "    \n",
        "def solution(beginning, target):\n",
        "    beg = np.array(beginning)\n",
        "    tar = np.array(target)\n",
        "    xor = np.bitwise_xor(beginning, target)\n",
        "    vert1 = []\n",
        "    vert0 = []\n",
        "    hori1 = []\n",
        "    hori0 = []\n",
        "    for i in range(len(beginning)):\n",
        "        if xor[i, 0] == 1:\n",
        "            hori1 += [i]\n",
        "        else:\n",
        "            hori0 += [i]\n",
        "    a = flip_horizontal(xor.copy(), hori1)\n",
        "    b = flip_horizontal(xor.copy(), hori0)\n",
        "    for i in range(len(beginning[0])):\n",
        "        if a[0, i] == 1:\n",
        "            vert1 += [i]\n",
        "        if b[0, i] == 1:\n",
        "            vert0 += [i]\n",
        "    a = flip_vertical(a, vert1)\n",
        "    b = flip_vertical(b, vert0)\n",
        "    if not np.all(a == 0):\n",
        "        return -1\n",
        "    answer = min(len(hori1)+len(vert1), len(hori0)+len(vert0))\n",
        "    return answer"
      ],
      "metadata": {
        "id": "bV9lERfBRaAP"
      },
      "execution_count": null,
      "outputs": []
    }
  ]
}