{
  "nbformat": 4,
  "nbformat_minor": 0,
  "metadata": {
    "colab": {
      "provenance": []
    },
    "kernelspec": {
      "name": "python3",
      "display_name": "Python 3"
    },
    "language_info": {
      "name": "python"
    }
  },
  "cells": [
    {
      "cell_type": "markdown",
      "source": [
        "# **등대**\n",
        "**https://school.programmers.co.kr/learn/courses/30/lessons/133500?language=python3#**"
      ],
      "metadata": {
        "id": "7Qefz5MNQtdh"
      }
    },
    {
      "cell_type": "code",
      "source": [
        "def solution(n, lighthouse):\n",
        "    graph = [[] for i in range(n+1)]\n",
        "    length = [0]*(n+1)\n",
        "    for elem in lighthouse:\n",
        "        graph[elem[0]] += [elem[1]]\n",
        "        graph[elem[1]] += [elem[0]]\n",
        "    maxlen = 1\n",
        "    curlen = len(graph[1])\n",
        "    length[1] = curlen\n",
        "    for i in range(2, n+1):\n",
        "        length[i] = len(graph[i])\n",
        "        if length[i] > curlen:\n",
        "            curlen = length[i]\n",
        "            maxlen = i\n",
        "    answer = 0\n",
        "    while lighthouse:\n",
        "        answer += 1\n",
        "        dellst = []\n",
        "        for i in range(len(lighthouse)):\n",
        "            elem = lighthouse[i]\n",
        "            if elem[0] == maxlen:\n",
        "                length[elem[1]] -= 1\n",
        "            elif elem[1] == maxlen:\n",
        "                length[elem[0]] -= 1\n",
        "            else:\n",
        "                dellst += [elem]\n",
        "        lighthouse = dellst\n",
        "        length[maxlen] = 0\n",
        "        curlen = 0\n",
        "        for i in range(1, n+1):\n",
        "            if curlen < length[i]:\n",
        "                curlen = length[i]\n",
        "                maxlen = i\n",
        "    return answer"
      ],
      "metadata": {
        "id": "bV9lERfBRaAP"
      },
      "execution_count": 7,
      "outputs": []
    }
  ]
}