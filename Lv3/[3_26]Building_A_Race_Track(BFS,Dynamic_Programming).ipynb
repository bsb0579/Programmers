{
  "nbformat": 4,
  "nbformat_minor": 0,
  "metadata": {
    "colab": {
      "provenance": []
    },
    "kernelspec": {
      "name": "python3",
      "display_name": "Python 3"
    },
    "language_info": {
      "name": "python"
    }
  },
  "cells": [
    {
      "cell_type": "markdown",
      "source": [
        "# **[카카오 인턴] 경주로 건설**\n",
        "**https://school.programmers.co.kr/learn/courses/30/lessons/67259**"
      ],
      "metadata": {
        "id": "7Qefz5MNQtdh"
      }
    },
    {
      "cell_type": "code",
      "source": [
        "#bfs\n",
        "from collections import deque\n",
        "def bfs(board, dpup, dpdown, dpright, dpleft):\n",
        "    L = len(board)\n",
        "    q = deque([[0, 0]])\n",
        "    while q:\n",
        "        a = q.popleft()\n",
        "        if a[0] + 1 < L:\n",
        "            if board[a[0]+1][a[1]] == 0:\n",
        "                index = 0\n",
        "                if dpdown[a[0]+1][a[1]] > dpdown[a[0]][a[1]] + 100:\n",
        "                    dpdown[a[0]+1][a[1]] = dpdown[a[0]][a[1]] + 100\n",
        "                    index = 1\n",
        "                if dpright[a[0]+1][a[1]] > dpdown[a[0]][a[1]] + 600:\n",
        "                    dpright[a[0]+1][a[1]] = dpdown[a[0]][a[1]] + 600\n",
        "                    index = 1\n",
        "                if dpleft[a[0]+1][a[1]] > dpdown[a[0]][a[1]] + 600:\n",
        "                    dpleft[a[0]+1][a[1]] = dpdown[a[0]][a[1]] + 600\n",
        "                    index = 1\n",
        "                if index == 1:\n",
        "                    q.append([a[0]+1, a[1]])\n",
        "        if a[1] + 1 < L:\n",
        "            if board[a[0]][a[1]+1] == 0:\n",
        "                index = 0\n",
        "                if dpright[a[0]][a[1]+1] > dpright[a[0]][a[1]] + 100:\n",
        "                    dpright[a[0]][a[1]+1] = dpright[a[0]][a[1]] + 100\n",
        "                    index = 1\n",
        "                if dpup[a[0]][a[1]+1] > dpright[a[0]][a[1]] + 600:\n",
        "                    dpup[a[0]][a[1]+1] = dpright[a[0]][a[1]] + 600\n",
        "                    index = 1\n",
        "                if dpdown[a[0]][a[1]+1] > dpright[a[0]][a[1]] + 600:\n",
        "                    dpdown[a[0]][a[1]+1] = dpright[a[0]][a[1]] + 600\n",
        "                    index = 1\n",
        "                if index == 1:\n",
        "                    q.append([a[0], a[1]+1])\n",
        "        if a[0] - 1 >= 0:\n",
        "            if board[a[0]-1][a[1]] == 0:\n",
        "                index = 0\n",
        "                if dpup[a[0]-1][a[1]] > dpup[a[0]][a[1]] + 100:\n",
        "                    dpup[a[0]-1][a[1]] = dpup[a[0]][a[1]] + 100\n",
        "                    index = 1\n",
        "                if dpright[a[0]-1][a[1]] > dpup[a[0]][a[1]] + 600:\n",
        "                    dpright[a[0]-1][a[1]] = dpup[a[0]][a[1]] + 600\n",
        "                    index = 1\n",
        "                if dpleft[a[0]-1][a[1]] > dpup[a[0]][a[1]] + 600:\n",
        "                    dpleft[a[0]-1][a[1]] = dpup[a[0]][a[1]] + 600\n",
        "                    index = 1\n",
        "                if index == 1:\n",
        "                    q.append([a[0]-1, a[1]])\n",
        "        if a[1] - 1 >= 0:\n",
        "            if board[a[0]][a[1]-1] == 0:\n",
        "                index = 0\n",
        "                if dpleft[a[0]][a[1]-1] > dpleft[a[0]][a[1]] + 100:\n",
        "                    dpleft[a[0]][a[1]-1] = dpleft[a[0]][a[1]] + 100\n",
        "                    index = 1\n",
        "                if dpup[a[0]][a[1]-1] > dpleft[a[0]][a[1]] + 600:\n",
        "                    dpup[a[0]][a[1]-1] = dpleft[a[0]][a[1]] + 600\n",
        "                    index = 1\n",
        "                if dpdown[a[0]][a[1]-1] > dpleft[a[0]][a[1]] + 600:\n",
        "                    dpdown[a[0]][a[1]-1] = dpleft[a[0]][a[1]] + 600\n",
        "                    index = 1\n",
        "                if index == 1:\n",
        "                    q.append([a[0], a[1]-1])\n",
        "            \n",
        "            \n",
        "def solution(board):\n",
        "    N = len(board)\n",
        "    answer = 0\n",
        "    INF = int(1e9)\n",
        "    dpup = [[INF]*N for i in range(N)]\n",
        "    dpdown = [[INF]*N for i in range(N)]\n",
        "    dpright = [[INF]*N for i in range(N)]\n",
        "    dpleft = [[INF]*N for i in range(N)]\n",
        "    dpup[0][0], dpdown[0][0], dpright[0][0], dpleft[0][0] = 0, 0, 0, 0\n",
        "    bfs(board, dpup, dpdown, dpright, dpleft)\n",
        "    answer = min(dpdown[N-1][N-1], dpright[N-1][N-1])\n",
        "    return answer"
      ],
      "metadata": {
        "id": "bV9lERfBRaAP"
      },
      "execution_count": null,
      "outputs": []
    }
  ]
}