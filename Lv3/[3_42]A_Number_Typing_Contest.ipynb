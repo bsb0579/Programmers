{
  "nbformat": 4,
  "nbformat_minor": 0,
  "metadata": {
    "colab": {
      "provenance": []
    },
    "kernelspec": {
      "name": "python3",
      "display_name": "Python 3"
    },
    "language_info": {
      "name": "python"
    }
  },
  "cells": [
    {
      "cell_type": "markdown",
      "source": [
        "# **숫자 타자 대회**\n",
        "**https://school.programmers.co.kr/learn/courses/30/lessons/136797?language=python3**"
      ],
      "metadata": {
        "id": "7Qefz5MNQtdh"
      }
    },
    {
      "cell_type": "code",
      "source": [
        "def solution(numbers):\n",
        "    lst = [[1, 7, 6, 7, 5, 4, 5, 3, 2, 3], \n",
        "           [7, 1, 2, 4, 2, 3, 5, 4, 5, 6],\n",
        "           [6, 2, 1, 2, 3, 2, 3, 5, 4, 5],\n",
        "           [7, 4, 2, 1, 5, 3, 2, 6, 5, 4],\n",
        "           [5, 2, 3, 5, 1, 2, 4, 2, 3, 5],\n",
        "           [4, 3, 2, 3, 2, 1, 2, 3, 2, 3],\n",
        "           [5, 5, 3, 2, 4, 2, 1, 5, 3, 2],\n",
        "           [3, 4, 5, 6, 2, 3, 5, 1, 2, 4],\n",
        "           [2, 5, 4, 5, 3, 2, 3, 2, 1, 2],\n",
        "           [3, 6, 5, 4, 5, 3, 2, 4, 2, 1]]\n",
        "    l = 4\n",
        "    r = 6\n",
        "    dic = {}\n",
        "    dic[(l, r)] = 0\n",
        "    dic2 = {}\n",
        "    for num in numbers:\n",
        "        n = int(num)\n",
        "        for temp, w in dic.items():\n",
        "            ltemp, rtemp = temp\n",
        "            if n == ltemp or n == rtemp:\n",
        "                wtemp = dic2.get((ltemp, rtemp), w+100)\n",
        "                if w+1 < wtemp:\n",
        "                    dic2[(ltemp, rtemp)] = w + 1\n",
        "            else:\n",
        "                wtempl = dic2.get((n, rtemp), w+100)\n",
        "                wtempr = dic2.get((ltemp, n), w+100)\n",
        "                wl = w + lst[ltemp][n]\n",
        "                wr = w + lst[rtemp][n]\n",
        "                if wl < wtempl:\n",
        "                    dic2[(n, rtemp)] = wl\n",
        "                if wr < wtempr:\n",
        "                    dic2[(ltemp, n)] = wr\n",
        "        dic = dic2\n",
        "        dic2 = {}\n",
        "    answer = min(list(dic.values()))\n",
        "    return answer"
      ],
      "metadata": {
        "id": "bV9lERfBRaAP"
      },
      "execution_count": null,
      "outputs": []
    }
  ]
}