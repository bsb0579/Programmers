{
  "nbformat": 4,
  "nbformat_minor": 0,
  "metadata": {
    "colab": {
      "provenance": []
    },
    "kernelspec": {
      "name": "python3",
      "display_name": "Python 3"
    },
    "language_info": {
      "name": "python"
    }
  },
  "cells": [
    {
      "cell_type": "markdown",
      "source": [
        "# **표현 가능한 이진트리**\n",
        "**https://school.programmers.co.kr/learn/courses/30/lessons/150367**"
      ],
      "metadata": {
        "id": "7Qefz5MNQtdh"
      }
    },
    {
      "cell_type": "code",
      "source": [
        "from itertools import product\n",
        "def solution(numbers):\n",
        "    answer = []\n",
        "    def extend(n):\n",
        "        temp = bin(n)[2:]\n",
        "        l = len(temp)\n",
        "        cur = 1\n",
        "        while cur < l:\n",
        "            cur = 2*cur + 1\n",
        "        temp = '0'*(cur-l) + temp\n",
        "        return temp\n",
        "    def istree(binary):\n",
        "        temp = int(binary)\n",
        "        l = len(binary)//2\n",
        "        if temp == 0:\n",
        "            return False\n",
        "        if l == 0:\n",
        "            return True\n",
        "        if binary[l] == '0':\n",
        "            return False\n",
        "        else:\n",
        "            temp1 = binary[:l]\n",
        "            temp2 = binary[l+1:]\n",
        "            t1 = False\n",
        "            t2 = False\n",
        "            if int(temp1) == 0:\n",
        "                t1 = True\n",
        "            else:\n",
        "                t1 = istree(temp1)\n",
        "            if int(temp2) == 0:\n",
        "                t2 = True\n",
        "            else:\n",
        "                t2 = istree(temp2)\n",
        "            return t1 and t2\n",
        "    for n in numbers:\n",
        "        if istree(extend(n)):\n",
        "            answer.append(1)\n",
        "        else:\n",
        "            answer.append(0)    \n",
        "    \"\"\"\n",
        "    m = max(numbers)\n",
        "    s = set()\n",
        "    s.add(1)\n",
        "    lst = [0, 1]\n",
        "    l = 1\n",
        "    breaking = 0\n",
        "    while 1:\n",
        "        if breaking == 1:\n",
        "            break\n",
        "        co = list(product(lst, repeat = 2))\n",
        "        temp = [0]\n",
        "        for c1, c2 in co:\n",
        "            num = 2 ** l + c2 + c1*(2 ** (l+1))\n",
        "            temp.append(num)\n",
        "            s.add(num)\n",
        "            if num >= m:\n",
        "                breaking = 1\n",
        "        l = 2*l + 1\n",
        "        lst = temp\n",
        "    answer = []\n",
        "    for n in numbers:\n",
        "        if n in s:\n",
        "            answer.append(1)\n",
        "        else:\n",
        "            answer.append(0)\n",
        "    \"\"\"\n",
        "    return answer"
      ],
      "metadata": {
        "id": "bV9lERfBRaAP"
      },
      "execution_count": null,
      "outputs": []
    }
  ]
}