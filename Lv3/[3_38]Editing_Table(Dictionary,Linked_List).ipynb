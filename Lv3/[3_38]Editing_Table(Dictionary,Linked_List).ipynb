{
  "nbformat": 4,
  "nbformat_minor": 0,
  "metadata": {
    "colab": {
      "provenance": []
    },
    "kernelspec": {
      "name": "python3",
      "display_name": "Python 3"
    },
    "language_info": {
      "name": "python"
    }
  },
  "cells": [
    {
      "cell_type": "markdown",
      "source": [
        "# **표 편집**\n",
        "**https://school.programmers.co.kr/learn/courses/30/lessons/81303**"
      ],
      "metadata": {
        "id": "7Qefz5MNQtdh"
      }
    },
    {
      "cell_type": "code",
      "source": [
        "#Dictionary, Linked List\n",
        "def solution(n, k, cmd):\n",
        "    answer = ''\n",
        "    upnext = {}\n",
        "    donext = {}\n",
        "    for i in range(n):\n",
        "        upnext[i] = i-1\n",
        "        donext[i] = i+1\n",
        "    undo = []\n",
        "    for c in cmd:\n",
        "        if c[0] == 'U':\n",
        "            temp = int(c[2:])\n",
        "            for i in range(temp):\n",
        "                k = upnext[k]\n",
        "        elif c[0] == 'D':\n",
        "            temp = int(c[2:])\n",
        "            for i in range(temp):\n",
        "                k = donext[k]\n",
        "        elif c[0] == 'C':\n",
        "            if donext[k] == n:\n",
        "                temp1 = upnext[k]\n",
        "                temp2 = donext[k]\n",
        "                undo.append((k, temp1, temp2))\n",
        "                donext[temp1] = temp2\n",
        "                upnext[temp2] = temp1\n",
        "                k = temp1\n",
        "            else:\n",
        "                temp1 = upnext[k]\n",
        "                temp2 = donext[k]\n",
        "                undo.append((k, temp1, temp2))\n",
        "                donext[temp1] = temp2\n",
        "                upnext[temp2] = temp1\n",
        "                k = temp2\n",
        "        else:\n",
        "            ktemp, temp1, temp2 = undo.pop()\n",
        "            donext[temp1] = ktemp\n",
        "            upnext[temp2] = ktemp\n",
        "    ans = ['O' for i in range(n)]\n",
        "    for i, j, k in undo:\n",
        "        ans[i] = 'X'\n",
        "    answer = ''.join(ans)\n",
        "    return answer"
      ],
      "metadata": {
        "id": "bV9lERfBRaAP"
      },
      "execution_count": null,
      "outputs": []
    }
  ]
}