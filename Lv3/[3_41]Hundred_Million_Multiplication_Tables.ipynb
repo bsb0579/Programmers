{
  "nbformat": 4,
  "nbformat_minor": 0,
  "metadata": {
    "colab": {
      "provenance": []
    },
    "kernelspec": {
      "name": "python3",
      "display_name": "Python 3"
    },
    "language_info": {
      "name": "python"
    }
  },
  "cells": [
    {
      "cell_type": "markdown",
      "source": [
        "# **억억단을 외우자**\n",
        "**https://school.programmers.co.kr/learn/courses/30/lessons/138475?language=python3**"
      ],
      "metadata": {
        "id": "7Qefz5MNQtdh"
      }
    },
    {
      "cell_type": "code",
      "source": [
        "import math\n",
        "def solution(e, starts):\n",
        "    dplst = [0]*(e+1)\n",
        "    for i in range(2, e+1):\n",
        "        for j in range(1, min(e//i+1, i)):\n",
        "            dplst[i*j] += 2\n",
        "    for i in range(1, int(math.sqrt(e))+1):\n",
        "        dplst[i**2] += 1\n",
        "    s = min(starts)\n",
        "    ans = [0]*(e+1)\n",
        "    prev = e\n",
        "    prev2 = dplst[e]\n",
        "    for i in range(e, s-1, -1):\n",
        "        temp = dplst[i]\n",
        "        if temp >= prev2:\n",
        "            ans[i] = i\n",
        "            prev = i\n",
        "            prev2 = temp\n",
        "        else:\n",
        "            ans[i] = prev\n",
        "    answer = []\n",
        "    for s in starts:\n",
        "        answer.append(ans[s])\n",
        "    return answer"
      ],
      "metadata": {
        "id": "bV9lERfBRaAP"
      },
      "execution_count": null,
      "outputs": []
    }
  ]
}