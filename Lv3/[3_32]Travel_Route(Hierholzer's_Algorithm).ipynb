{
  "nbformat": 4,
  "nbformat_minor": 0,
  "metadata": {
    "colab": {
      "provenance": []
    },
    "kernelspec": {
      "name": "python3",
      "display_name": "Python 3"
    },
    "language_info": {
      "name": "python"
    }
  },
  "cells": [
    {
      "cell_type": "markdown",
      "source": [
        "# **여행경로**\n",
        "**https://school.programmers.co.kr/learn/courses/30/lessons/43164**"
      ],
      "metadata": {
        "id": "7Qefz5MNQtdh"
      }
    },
    {
      "cell_type": "code",
      "source": [
        "#Hierholzer's algorithm, DFS\n",
        "def solution(tickets):\n",
        "    dic_lst =  {}\n",
        "    for ticket in tickets:\n",
        "        if ticket[0] in dic_lst:\n",
        "            dic_lst[ticket[0]].append(ticket[1])\n",
        "        else:\n",
        "            dic_lst[ticket[0]] = [ticket[1]]\n",
        "    for keys in dic_lst:\n",
        "        dic_lst[keys].sort(reverse = True)\n",
        "    stack = ['ICN']\n",
        "    answer = []\n",
        "    while stack:\n",
        "        temp = stack[-1]\n",
        "        if temp in dic_lst and len(dic_lst[temp]) > 0:\n",
        "            stack.append(dic_lst[temp][-1])\n",
        "            dic_lst[temp].pop()\n",
        "        else:\n",
        "            stack.pop()\n",
        "            answer.append(temp)\n",
        "    answer.reverse()\n",
        "    return answer"
      ],
      "metadata": {
        "id": "bV9lERfBRaAP"
      },
      "execution_count": null,
      "outputs": []
    }
  ]
}