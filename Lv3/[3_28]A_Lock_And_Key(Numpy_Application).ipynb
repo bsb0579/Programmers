{
  "nbformat": 4,
  "nbformat_minor": 0,
  "metadata": {
    "colab": {
      "provenance": []
    },
    "kernelspec": {
      "name": "python3",
      "display_name": "Python 3"
    },
    "language_info": {
      "name": "python"
    }
  },
  "cells": [
    {
      "cell_type": "markdown",
      "source": [
        "# **자물쇠와 열쇠**\n",
        "**https://school.programmers.co.kr/learn/courses/30/lessons/60059?language=python3#**"
      ],
      "metadata": {
        "id": "7Qefz5MNQtdh"
      }
    },
    {
      "cell_type": "code",
      "source": [
        "#numpy operations(pad, array_equal, rot90)\n",
        "import numpy as np\n",
        "def shifting_check(npkey, nplock):\n",
        "    templock = 1-nplock\n",
        "    for x in range(1,len(npkey)+1):\n",
        "        for y in range(1,len(npkey)+1):\n",
        "            tempkey1 = npkey[:x, :y]\n",
        "            tempkey1 = np.pad(tempkey1, ((len(npkey)-x, 0),(len(npkey)-y, 0)), 'constant', constant_values = 0)\n",
        "            tempkey2 = npkey[-x:, -y:]\n",
        "            tempkey2 = np.pad(tempkey2, ((0, len(npkey)-x),(0, len(npkey)-y)), 'constant', constant_values = 0)\n",
        "            tempkey3 = npkey[:x, -y:]\n",
        "            tempkey3 = np.pad(tempkey3, ((len(npkey)-x, 0),(0, len(npkey)-y)), 'constant', constant_values = 0)\n",
        "            tempkey4 = npkey[-x:, :y]\n",
        "            tempkey4 = np.pad(tempkey4, ((0, len(npkey)-x),(len(npkey)-y, 0)), 'constant', constant_values = 0)\n",
        "            if np.array_equal(templock, tempkey1):\n",
        "                return True\n",
        "            if np.array_equal(templock, tempkey2):\n",
        "                return True\n",
        "            if np.array_equal(templock, tempkey3):\n",
        "                return True\n",
        "            if np.array_equal(templock, tempkey4):\n",
        "                return True\n",
        "    return False\n",
        "    \n",
        "def solution(key, lock):\n",
        "    key0 = np.array(key)\n",
        "    lock0 = np.array(lock)\n",
        "    if len(key) < len(lock):\n",
        "        L = len(lock)-len(key)\n",
        "        key0 = np.pad(key0, ((L,0),(L,0)), 'constant', constant_values = 0)\n",
        "    key90 = np.rot90(key0)\n",
        "    key180 = np.rot90(key90)\n",
        "    key270 = np.rot90(key180)\n",
        "    if shifting_check(key0, lock0):\n",
        "        return True\n",
        "    if shifting_check(key90, lock0):\n",
        "        return True\n",
        "    if shifting_check(key180, lock0):\n",
        "        return True\n",
        "    if shifting_check(key270, lock0):\n",
        "        return True\n",
        "    answer = False\n",
        "    return answer"
      ],
      "metadata": {
        "id": "bV9lERfBRaAP"
      },
      "execution_count": null,
      "outputs": []
    }
  ]
}