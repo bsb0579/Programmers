{
  "nbformat": 4,
  "nbformat_minor": 0,
  "metadata": {
    "colab": {
      "provenance": []
    },
    "kernelspec": {
      "name": "python3",
      "display_name": "Python 3"
    },
    "language_info": {
      "name": "python"
    }
  },
  "cells": [
    {
      "cell_type": "markdown",
      "source": [
        "# **최고의 집합**\n",
        "**문제설명**\n",
        "\n",
        "자연수 n 개로 이루어진 중복 집합(multi set, 편의상 이후에는 \"집합\"으로 통칭) 중에 다음 두 조건을 만족하는 집합을 최고의 집합이라고 합니다.\n",
        "\n",
        "1.   각 원소의 합이 S가 되는 수의 집합\n",
        "2.   위 조건을 만족하면서 각 원소의 곱 이 최대가 되는 집합\n",
        "\n",
        "예를 들어서 자연수 2개로 이루어진 집합 중 합이 9가 되는 집합은 다음과 같이 4개가 있습니다.\n",
        "{ 1, 8 }, { 2, 7 }, { 3, 6 }, { 4, 5 }\n",
        "그중 각 원소의 곱이 최대인 { 4, 5 }가 최고의 집합입니다.\n",
        "\n",
        "집합의 원소의 개수 n과 모든 원소들의 합 s가 매개변수로 주어질 때, 최고의 집합을 return 하는 solution 함수를 완성해주세요.\n",
        "\n",
        "## **제한사항**\n",
        "\n",
        "*   최고의 집합은 오름차순으로 정렬된 1차원 배열(list, vector) 로 return 해주세요.\n",
        "*   만약 최고의 집합이 존재하지 않는 경우에 크기가 1인 1차원 배열(list, vector) 에 -1 을 채워서 return 해주세요.\n",
        "*   자연수의 개수 n은 1 이상 10,000 이하의 자연수입니다.\n",
        "*   모든 원소들의 합 s는 1 이상, 100,000,000 이하의 자연수입니다.\n",
        "\n",
        "**입출력 예**\n",
        "\n",
        "![화면 캡처 2022-09-28 212627.png](data:image/png;base64,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)\n",
        "\n",
        "**입출력 예 설명**\n",
        "\n",
        "입출력 예#1\n",
        "문제의 예시와 같습니다.\n",
        "\n",
        "입출력 예#2\n",
        "자연수 2개를 가지고는 합이 1인 집합을 만들 수 없습니다. 따라서 -1이 들어있는 배열을 반환합니다.\n",
        "\n",
        "입출력 예#3\n",
        "자연수 2개로 이루어진 집합 중 원소의 합이 8인 집합은 다음과 같습니다.\n",
        "\n",
        "{ 1, 7 }, { 2, 6 }, { 3, 5 }, { 4, 4 }\n",
        "\n",
        "그중 각 원소의 곱이 최대인 { 4, 4 }가 최고의 집합입니다."
      ],
      "metadata": {
        "id": "7Qefz5MNQtdh"
      }
    },
    {
      "cell_type": "code",
      "source": [
        "def solution(n, s):\n",
        "    if n > s:\n",
        "        return [-1]\n",
        "    number, rest = divmod(s, n)\n",
        "    lst = [number] * n\n",
        "    for i in range(rest):\n",
        "        lst[i] += 1\n",
        "    lst.reverse()\n",
        "    answer = lst\n",
        "    return answer"
      ],
      "metadata": {
        "id": "bV9lERfBRaAP"
      },
      "execution_count": null,
      "outputs": []
    }
  ]
}