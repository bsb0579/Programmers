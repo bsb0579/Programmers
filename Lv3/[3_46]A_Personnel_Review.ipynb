{
  "nbformat": 4,
  "nbformat_minor": 0,
  "metadata": {
    "colab": {
      "provenance": []
    },
    "kernelspec": {
      "name": "python3",
      "display_name": "Python 3"
    },
    "language_info": {
      "name": "python"
    }
  },
  "cells": [
    {
      "cell_type": "markdown",
      "source": [
        "# **인사고과**\n",
        "**https://school.programmers.co.kr/learn/courses/30/lessons/152995?language=python3**"
      ],
      "metadata": {
        "id": "7Qefz5MNQtdh"
      }
    },
    {
      "cell_type": "code",
      "source": [
        "def solution(scores):\n",
        "    answer = 1\n",
        "    first = scores[0][0]\n",
        "    second = scores[0][1]\n",
        "    tot = first + second\n",
        "    scores.sort(key = lambda x : (x[0], -x[1]), reverse = True)\n",
        "    temp = 0\n",
        "    for s1, s2 in scores:\n",
        "        if s1 > first and s2 > second:\n",
        "            return -1\n",
        "        if temp <= s2:\n",
        "            if s1 + s2 > tot:\n",
        "                answer += 1\n",
        "            temp = s2\n",
        "    return answer"
      ],
      "metadata": {
        "id": "bV9lERfBRaAP"
      },
      "execution_count": null,
      "outputs": []
    }
  ]
}