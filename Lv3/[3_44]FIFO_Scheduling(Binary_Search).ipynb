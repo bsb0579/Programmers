{
  "nbformat": 4,
  "nbformat_minor": 0,
  "metadata": {
    "colab": {
      "provenance": []
    },
    "kernelspec": {
      "name": "python3",
      "display_name": "Python 3"
    },
    "language_info": {
      "name": "python"
    }
  },
  "cells": [
    {
      "cell_type": "markdown",
      "source": [
        "# **선입 선출 스케줄링**\n",
        "**https://school.programmers.co.kr/learn/courses/30/lessons/12920#**"
      ],
      "metadata": {
        "id": "7Qefz5MNQtdh"
      }
    },
    {
      "cell_type": "code",
      "source": [
        "def solution(n, cores):\n",
        "    if len(cores) >= n:\n",
        "        return n\n",
        "    else:\n",
        "        n -= len(cores)\n",
        "    start = 1\n",
        "    end = max(cores)*50000\n",
        "    while start <= end:\n",
        "        mid = (start+end)//2\n",
        "        works = sum(mid//core for core in cores)\n",
        "        if works >= (n):\n",
        "            end = mid - 1\n",
        "        else:\n",
        "            start = mid + 1\n",
        "    works = sum(end//core for core in cores)\n",
        "    n -= works\n",
        "    answer = 0\n",
        "    for i, c in enumerate(cores):\n",
        "        if n == 0:\n",
        "            answer = i\n",
        "            break\n",
        "        if (end+1)%c == 0:\n",
        "            n -= 1\n",
        "            if n == 0:\n",
        "                return i+1\n",
        "    return answer"
      ],
      "metadata": {
        "id": "bV9lERfBRaAP"
      },
      "execution_count": null,
      "outputs": []
    }
  ]
}