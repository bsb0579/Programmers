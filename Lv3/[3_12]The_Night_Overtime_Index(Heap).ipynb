{
  "nbformat": 4,
  "nbformat_minor": 0,
  "metadata": {
    "colab": {
      "provenance": []
    },
    "kernelspec": {
      "name": "python3",
      "display_name": "Python 3"
    },
    "language_info": {
      "name": "python"
    }
  },
  "cells": [
    {
      "cell_type": "markdown",
      "source": [
        "# **야근 지수**\n",
        "**문제설명**\n",
        "\n",
        "회사원 Demi는 가끔은 야근을 하는데요, 야근을 하면 야근 피로도가 쌓입니다. 야근 피로도는 야근을 시작한 시점에서 남은 일의 작업량을 제곱하여 더한 값입니다. Demi는 N시간 동안 야근 피로도를 최소화하도록 일할 겁니다.Demi가 1시간 동안 작업량 1만큼을 처리할 수 있다고 할 때, 퇴근까지 남은 N 시간과 각 일에 대한 작업량 works에 대해 야근 피로도를 최소화한 값을 리턴하는 함수 solution을 완성해주세요.\n",
        "\n",
        "## **제한사항**\n",
        "\n",
        "*   works는 길이 1 이상, 20,000 이하인 배열입니다.\n",
        "*   works의 원소는 50000 이하인 자연수입니다.\n",
        "*   n은 1,000,000 이하인 자연수입니다.\n",
        "\n",
        "**입출력 예**\n",
        "\n",
        "![화면 캡처 2022-09-29 200352.png](data:image/png;base64,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)\n",
        "\n",
        "**입출력 예 설명**\n",
        "\n",
        "입출력 예 #1\n",
        "\n",
        "n=4 일 때, 남은 일의 작업량이 [4, 3, 3] 이라면 야근 지수를 최소화하기 위해 4시간동안 일을 한 결과는 [2, 2, 2]입니다. 이 때 야근 지수는 22 + 22 + 22 = 12 입니다.\n",
        "\n",
        "입출력 예 #2\n",
        "\n",
        "n=1일 때, 남은 일의 작업량이 [2,1,2]라면 야근 지수를 최소화하기 위해 1시간동안 일을 한 결과는 [1,1,2]입니다. 야근지수는 12 + 12 + 22 = 6입니다.\n",
        "\n",
        "입출력 예 #3\n",
        "\n",
        "남은 작업량이 없으므로 피로도는 0입니다."
      ],
      "metadata": {
        "id": "7Qefz5MNQtdh"
      }
    },
    {
      "cell_type": "code",
      "source": [
        "#heapq\n",
        "from heapq import heappush, heappop\n",
        "def solution(n, works):\n",
        "    work_sum = sum(works)\n",
        "    if work_sum <= n:\n",
        "        return 0\n",
        "    work_hp = []\n",
        "    for elem in works:\n",
        "        heappush(work_hp, -elem)\n",
        "    for i in range(n):\n",
        "        a = heappop(work_hp)\n",
        "        heappush(work_hp, a + 1)\n",
        "    answer = 0\n",
        "    for elem in work_hp:\n",
        "        answer += elem ** 2\n",
        "    return answer"
      ],
      "metadata": {
        "id": "bV9lERfBRaAP"
      },
      "execution_count": null,
      "outputs": []
    }
  ]
}