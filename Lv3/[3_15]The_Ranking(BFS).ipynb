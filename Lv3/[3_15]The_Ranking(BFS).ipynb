{
  "nbformat": 4,
  "nbformat_minor": 0,
  "metadata": {
    "colab": {
      "provenance": []
    },
    "kernelspec": {
      "name": "python3",
      "display_name": "Python 3"
    },
    "language_info": {
      "name": "python"
    }
  },
  "cells": [
    {
      "cell_type": "markdown",
      "source": [
        "# **순위**\n",
        "**문제설명**\n",
        "\n",
        "n명의 권투선수가 권투 대회에 참여했고 각각 1번부터 n번까지 번호를 받았습니다. 권투 경기는 1대1 방식으로 진행이 되고, 만약 A 선수가 B 선수보다 실력이 좋다면 A 선수는 B 선수를 항상 이깁니다. 심판은 주어진 경기 결과를 가지고 선수들의 순위를 매기려 합니다. 하지만 몇몇 경기 결과를 분실하여 정확하게 순위를 매길 수 없습니다.\n",
        "\n",
        "선수의 수 n, 경기 결과를 담은 2차원 배열 results가 매개변수로 주어질 때 정확하게 순위를 매길 수 있는 선수의 수를 return 하도록 solution 함수를 작성해주세요.\n",
        "\n",
        "## **제한사항**\n",
        "\n",
        "*   선수의 수는 1명 이상 100명 이하입니다.\n",
        "*   경기 결과는 1개 이상 4,500개 이하입니다.\n",
        "*   results 배열 각 행 [A, B]는 A 선수가 B 선수를 이겼다는 의미입니다.\n",
        "*   모든 경기 결과에는 모순이 없습니다.\n",
        "\n",
        "**입출력 예**\n",
        "\n",
        "![화면 캡처 2022-10-02 210004.png](data:image/png;base64,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)\n",
        "\n",
        "**입출력 예 설명**\n",
        "\n",
        "2번 선수는 [1, 3, 4] 선수에게 패배했고 5번 선수에게 승리했기 때문에 4위입니다.\n",
        "5번 선수는 4위인 2번 선수에게 패배했기 때문에 5위입니다."
      ],
      "metadata": {
        "id": "7Qefz5MNQtdh"
      }
    },
    {
      "cell_type": "code",
      "source": [
        "#bfs\n",
        "from collections import deque\n",
        "def make_graph(n, graph):\n",
        "    g_win = [[] for i in range(n)]\n",
        "    g_lose = [[] for i in range(n)]\n",
        "    for elem in graph:\n",
        "        g_win[elem[0] - 1].append(elem[1] - 1)\n",
        "        g_lose[elem[1] - 1].append(elem[0] - 1)\n",
        "    return g_win, g_lose"
      ],
      "metadata": {
        "id": "bV9lERfBRaAP"
      },
      "execution_count": null,
      "outputs": []
    },
    {
      "cell_type": "code",
      "source": [
        "def bfs(n, graph, visited):\n",
        "    q = deque([n])\n",
        "    visited[n] = True\n",
        "    answer = 0\n",
        "    while q:\n",
        "        v = q.popleft()\n",
        "        for i in graph[v]:\n",
        "            if not visited[i]:\n",
        "                q.append(i)\n",
        "                visited[i] = True\n",
        "                answer += 1\n",
        "    return answer"
      ],
      "metadata": {
        "id": "ugTmRqZykkgF"
      },
      "execution_count": null,
      "outputs": []
    },
    {
      "cell_type": "code",
      "source": [
        "def solution(n, results):\n",
        "    g_win, g_lose = make_graph(n, results)\n",
        "    answer = 0\n",
        "    for i in range(n):\n",
        "        visited_win = [False] * n\n",
        "        visited_lose = [False] * n\n",
        "        a = bfs(i, g_win, visited_win)\n",
        "        b = bfs(i, g_lose, visited_lose)\n",
        "        if a + b +1 == n:\n",
        "            answer += 1\n",
        "    return answer"
      ],
      "metadata": {
        "id": "9He-rjiUkkos"
      },
      "execution_count": null,
      "outputs": []
    }
  ]
}