{
  "nbformat": 4,
  "nbformat_minor": 0,
  "metadata": {
    "colab": {
      "provenance": []
    },
    "kernelspec": {
      "name": "python3",
      "display_name": "Python 3"
    },
    "language_info": {
      "name": "python"
    }
  },
  "cells": [
    {
      "cell_type": "markdown",
      "source": [
        "# **거스름돈**\n",
        "**문제설명**\n",
        "\n",
        "Finn은 편의점에서 야간 아르바이트를 하고 있습니다. 야간에 손님이 너무 없어 심심한 Finn은 손님들께 거스름돈을 n 원을 줄 때 방법의 경우의 수를 구하기로 하였습니다.\n",
        "\n",
        "예를 들어서 손님께 5원을 거슬러 줘야 하고 1원, 2원, 5원이 있다면 다음과 같이 4가지 방법으로 5원을 거슬러 줄 수 있습니다.\n",
        "\n",
        "*   1원을 5개 사용해서 거슬러 준다.\n",
        "*   1원을 3개 사용하고, 2원을 1개 사용해서 거슬러 준다.\n",
        "*   1원을 1개 사용하고, 2원을 2개 사용해서 거슬러 준다.\n",
        "*   5원을 1개 사용해서 거슬러 준다.\n",
        "\n",
        "거슬러 줘야 하는 금액 n과 Finn이 현재 보유하고 있는 돈의 종류 money가 매개변수로 주어질 때, Finn이 n 원을 거슬러 줄 방법의 수를 return 하도록 solution 함수를 완성해 주세요.\n",
        "\n",
        "## **제한사항**\n",
        "\n",
        "*   n은 100,000 이하의 자연수입니다.\n",
        "*   화폐 단위는 100종류 이하입니다.\n",
        "*   모든 화폐는 무한하게 있다고 가정합니다.\n",
        "*   정답이 커질 수 있으니, 1,000,000,007로 나눈 나머지를 return 해주세요.\n",
        "\n",
        "**입출력 예**\n",
        "\n",
        "![화면 캡처 2022-10-04 210433.png](data:image/png;base64,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)\n",
        "\n",
        "**입출력 예 설명**\n",
        "\n",
        "입출력 예 #1\n",
        "문제의 예시와 같습니다."
      ],
      "metadata": {
        "id": "7Qefz5MNQtdh"
      }
    },
    {
      "cell_type": "code",
      "source": [
        "#dynamic_programming\n",
        "def solution(n, money):\n",
        "    money.sort()\n",
        "    while money[len(money)-1] > n:\n",
        "        money.pop()\n",
        "    lst = [0 for i in range(n+1)]\n",
        "    temp = money[0]\n",
        "    while temp <= n:\n",
        "        lst[temp] = 1\n",
        "        temp += money[0]\n",
        "    del money[0]\n",
        "    for elem in money:\n",
        "        for i in range(n+1):\n",
        "            if i < elem:\n",
        "                lst[i] = lst[i]\n",
        "            elif i == elem:\n",
        "                lst[i] = (lst[i] + 1)%1000000007\n",
        "            else:\n",
        "                lst[i] = (lst[i] + lst[i-elem])%1000000007\n",
        "    answer = lst[n]%1000000007\n",
        "    return answer"
      ],
      "metadata": {
        "id": "bV9lERfBRaAP"
      },
      "execution_count": null,
      "outputs": []
    }
  ]
}