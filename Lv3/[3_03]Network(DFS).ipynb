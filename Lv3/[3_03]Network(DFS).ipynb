{
  "nbformat": 4,
  "nbformat_minor": 0,
  "metadata": {
    "colab": {
      "provenance": []
    },
    "kernelspec": {
      "name": "python3",
      "display_name": "Python 3"
    },
    "language_info": {
      "name": "python"
    }
  },
  "cells": [
    {
      "cell_type": "markdown",
      "source": [
        "# **네트워크**\n",
        "네트워크란 컴퓨터 상호 간에 정보를 교환할 수 있도록 연결된 형태를 의미합니다. \n",
        "\n",
        "예를 들어, 컴퓨터 A와 컴퓨터 B가 직접적으로 연결되어있고, 컴퓨터 B와 컴퓨터 C가 \n",
        "\n",
        "직접적으로 연결되어 있을 때 컴퓨터 A와 컴퓨터 C도 간접적으로 연결되어 정보를 \n",
        "\n",
        "교환할 수 있습니다. 따라서 컴퓨터 A, B, C는 모두 같은 네트워크 상에 있다고 할 \n",
        "\n",
        "수 있습니다.\n",
        "\n",
        "컴퓨터의 개수 n, 연결에 대한 정보가 담긴 2차원 배열 computers가 매개변수로 \n",
        "\n",
        "주어질 때, 네트워크의 개수를 return 하도록 solution 함수를 작성하시오.\n",
        "\n",
        "## **제한사항**\n",
        "\n",
        "*   컴퓨터의 개수 n은 1 이상 200 이하인 자연수입니다.\n",
        "*   각 컴퓨터는 0부터 n-1인 정수로 표현합니다.\n",
        "*   i번 컴퓨터와 j번 컴퓨터가 연결되어 있으면 computers[i][j]를 1로 표현합니다.\n",
        "*   computer[i][i]는 항상 1입니다.\n",
        "\n",
        "**입출력 예**\n",
        "\n",
        "n\t= 3\n",
        "\n",
        "computers = [[1, 1, 0], [1, 1, 0], [0, 0, 1]]\n",
        "\n",
        "return = 2\n",
        "\n",
        "n\t= 3\n",
        "\n",
        "computers = [[1, 1, 0], [1, 1, 1], [0, 1, 1]]\n",
        "\n",
        "return = 1"
      ],
      "metadata": {
        "id": "7Qefz5MNQtdh"
      }
    },
    {
      "cell_type": "code",
      "source": [
        "#DFS\n",
        "def dfs(graph, visited, index):\n",
        "    visited[index] = True\n",
        "    for i, elem in enumerate(graph[index]):\n",
        "        if not visited[i] and elem == 1:\n",
        "            dfs(graph, visited, i)"
      ],
      "metadata": {
        "id": "bV9lERfBRaAP"
      },
      "execution_count": null,
      "outputs": []
    },
    {
      "cell_type": "code",
      "source": [
        "def solution(n, computers):\n",
        "    visited = [False] * n\n",
        "    answer = 0\n",
        "    for i in range(n):\n",
        "        if visited[i] == False:\n",
        "            dfs(computers, visited, i)\n",
        "            answer += 1\n",
        "        \n",
        "    return answer"
      ],
      "metadata": {
        "id": "hhDO6arrRoBr"
      },
      "execution_count": null,
      "outputs": []
    }
  ]
}