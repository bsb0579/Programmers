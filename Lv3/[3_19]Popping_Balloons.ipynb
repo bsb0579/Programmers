{
  "nbformat": 4,
  "nbformat_minor": 0,
  "metadata": {
    "colab": {
      "provenance": []
    },
    "kernelspec": {
      "name": "python3",
      "display_name": "Python 3"
    },
    "language_info": {
      "name": "python"
    }
  },
  "cells": [
    {
      "cell_type": "markdown",
      "source": [
        "# **풍선 터트리기**\n",
        "**문제설명**\n",
        "\n",
        "일렬로 나열된 n개의 풍선이 있습니다. 모든 풍선에는 서로 다른 숫자가 써져 있습니다. 당신은 다음 과정을 반복하면서 풍선들을 단 1개만 남을 때까지 계속 터트리려고 합니다.\n",
        "1. 임의의 인접한 두 풍선을 고른 뒤, 두 풍선 중 하나를 터트립니다.\n",
        "2. 터진 풍선으로 인해 풍선들 사이에 빈 공간이 생겼다면, 빈 공간이 없도록 풍선들을 중앙으로 밀착시킵니다.\n",
        "\n",
        "여기서 조건이 있습니다. 인접한 두 풍선 중에서 번호가 더 작은 풍선을 터트리는 행위는 최대 1번만 할 수 있습니다. 즉, 어떤 시점에서 인접한 두 풍선 중 번호가 더 작은 풍선을 터트렸다면, 그 이후에는 인접한 두 풍선을 고른 뒤 번호가 더 큰 풍선만을 터트릴 수 있습니다.\n",
        "\n",
        "당신은 어떤 풍선이 최후까지 남을 수 있는지 알아보고 싶습니다. 위에 서술된 조건대로 풍선을 터트리다 보면, 어떤 풍선은 최후까지 남을 수도 있지만, 어떤 풍선은 무슨 수를 쓰더라도 마지막까지 남기는 것이 불가능할 수도 있습니다.\n",
        "\n",
        "일렬로 나열된 풍선들의 번호가 담긴 배열 a가 주어집니다. 위에 서술된 규칙대로 풍선들을 1개만 남을 때까지 터트렸을 때 최후까지 남기는 것이 가능한 풍선들의 개수를 return 하도록 solution 함수를 완성해주세요.\n",
        "\n",
        "## **제한사항**\n",
        "\n",
        "*   a의 길이는 1 이상 1,000,000 이하입니다.\n",
        "  *   a[i]는 i+1 번째 풍선에 써진 숫자를 의미합니다.\n",
        "  *   a의 모든 수는 -1,000,000,000 이상 1,000,000,000 이하인 정수입니다.\n",
        "  *   a의 모든 수는 서로 다릅니다.\n",
        "\n",
        "**입출력 예**\n",
        "\n",
        "![화면 캡처 2022-10-06 154358.png](data:image/png;base64,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)\n",
        "\n",
        "**입출력 예 설명**\n",
        "\n",
        "입출력 예 #1\n",
        "\n",
        "*   첫 번째 풍선(9가 써진 풍선)을 최후까지 남기는 방법은 다음과 같습니다.\n",
        "   1. [9, -1, -5] 에서 -1, -5가 써진 풍선을 고른 뒤, -1이 써진 풍선(번호가 더 큰 것)을 터트립니다.\n",
        "   2. [9, -5] 에서 9, -5가 써진 풍선을 고른 뒤, -5가 써진 풍선(번호가 더 작은 것)을 터트립니다.\n",
        "*   두 번째 풍선(-1이 써진 풍선)을 최후까지 남기는 방법은 다음과 같습니다.\n",
        "   1. [9, -1, -5] 에서 9, -1이 써진 풍선을 고른 뒤, 9가 써진 풍선(번호가 더 큰 것)을 터트립니다.\n",
        "   2. [-1, -5] 에서 -1, -5가 써진 풍선을 고른 뒤, -5가 써진 풍선(번호가 더 작은 것)을 터트립니다.\n",
        "*   세 번째 풍선(-5가 써진 풍선)을 최후까지 남기는 방법은 다음과 같습니다.\n",
        "   1. [9, -1, -5] 에서 9, -1이 써진 풍선을 고른 뒤, 9가 써진 풍선(번호가 더 큰 것)을 터트립니다.\n",
        "   2. [-1, -5] 에서 -1, -5가 써진 풍선을 고른 뒤, -1이 써진 풍선(번호가 더 큰 것)을 터트립니다.\n",
        "*   3개의 풍선이 최후까지 남을 수 있으므로, 3을 return 해야 합니다.\n",
        "\n",
        "입출력 예 #2\n",
        "\n",
        "*   최후까지 남을 수 있는 풍선은 -16, -92, -71, -68, -61, -33이 써진 풍선으로 모두 6개입니다."
      ],
      "metadata": {
        "id": "7Qefz5MNQtdh"
      }
    },
    {
      "cell_type": "code",
      "source": [
        "def solution(a):\n",
        "    if len(a) <= 2:\n",
        "        return len(a)\n",
        "    left = a[0]\n",
        "    right = min(a[2:])\n",
        "    answer = 2\n",
        "    if left > a[1] or right > a[1]:\n",
        "        answer += 1\n",
        "    if len(a) > 3:\n",
        "        temp = [0 for i in range(len(a))]\n",
        "        for i in range(len(a)-1, -1, -1):\n",
        "            if i == len(a)-1:\n",
        "                temp[i] = a[i]\n",
        "            elif temp[i+1] > a[i]:\n",
        "                temp[i] = a[i]\n",
        "            else:\n",
        "                temp[i] = temp[i+1]\n",
        "        for i in range(2, len(a)-1):\n",
        "            left = min(left, a[i-1])\n",
        "            right = temp[i+1]\n",
        "            if left > a[i] or right > a[i]:\n",
        "                answer += 1\n",
        "    return answer"
      ],
      "metadata": {
        "id": "bV9lERfBRaAP"
      },
      "execution_count": null,
      "outputs": []
    }
  ]
}