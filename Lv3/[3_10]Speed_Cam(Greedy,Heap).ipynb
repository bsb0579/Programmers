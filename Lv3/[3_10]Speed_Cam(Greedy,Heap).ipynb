{
  "nbformat": 4,
  "nbformat_minor": 0,
  "metadata": {
    "colab": {
      "provenance": []
    },
    "kernelspec": {
      "name": "python3",
      "display_name": "Python 3"
    },
    "language_info": {
      "name": "python"
    }
  },
  "cells": [
    {
      "cell_type": "markdown",
      "source": [
        "# **단속카메라**\n",
        "**문제설명**\n",
        "\n",
        "고속도로를 이동하는 모든 차량이 고속도로를 이용하면서 단속용 카메라를 한 번은 만나도록 카메라를 설치하려고 합니다.\n",
        "\n",
        "고속도로를 이동하는 차량의 경로 routes가 매개변수로 주어질 때, 모든 차량이 한 번은 단속용 카메라를 만나도록 하려면 최소 몇 대의 카메라를 설치해야 하는지를 return 하도록 solution 함수를 완성하세요.\n",
        "\n",
        "## **제한사항**\n",
        "\n",
        "*   차량의 대수는 1대 이상 10,000대 이하입니다.\n",
        "*   routes에는 차량의 이동 경로가 포함되어 있으며 routes[i][0]에는 i번째 차량이 고속도로에 진입한 지점, routes[i][1]에는 i번째 차량이 고속도로에서 나간 지점이 적혀 있습니다.\n",
        "*   차량의 진입/진출 지점에 카메라가 설치되어 있어도 카메라를 만난것으로 간주합니다.\n",
        "*   차량의 진입 지점, 진출 지점은 -30,000 이상 30,000 이하입니다.\n",
        "\n",
        "**입출력 예**\n",
        "\n",
        "![화면 캡처 2022-09-27 202428.png](data:image/png;base64,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)\n",
        "\n",
        "**입출력 예 설명**\n",
        "\n",
        "*   -5 지점에 카메라를 설치하면 두 번째, 네 번째 차량이 카메라를 만납니다.\n",
        "\n",
        "*   -15 지점에 카메라를 설치하면 첫 번째, 세 번째 차량이 카메라를 만납니다."
      ],
      "metadata": {
        "id": "7Qefz5MNQtdh"
      }
    },
    {
      "cell_type": "code",
      "source": [
        "#greedy, heapq\n",
        "from heapq import heappush, heappop\n",
        "def solution(routes):\n",
        "    heap_out = []\n",
        "    for i in range(len(routes)):\n",
        "        heappush(heap_out, (routes[i][1], routes[i][0]))\n",
        "    r = routes[:]\n",
        "    answer = 0\n",
        "    while len(r) > 0:\n",
        "        a = heappop(heap_out)\n",
        "        if [a[1], a[0]] in r:\n",
        "            answer += 1\n",
        "            r = [elem for elem in r if elem[0] > a[0] or a[0] > elem[1]]\n",
        "    return answer"
      ],
      "metadata": {
        "id": "bV9lERfBRaAP"
      },
      "execution_count": null,
      "outputs": []
    }
  ]
}