{
  "nbformat": 4,
  "nbformat_minor": 0,
  "metadata": {
    "colab": {
      "provenance": []
    },
    "kernelspec": {
      "name": "python3",
      "display_name": "Python 3"
    },
    "language_info": {
      "name": "python"
    }
  },
  "cells": [
    {
      "cell_type": "markdown",
      "source": [
        "# **입국심사**\n",
        "**문제설명**\n",
        "\n",
        "n명이 입국심사를 위해 줄을 서서 기다리고 있습니다. 각 입국심사대에 있는 심사관마다 심사하는데 걸리는 시간은 다릅니다.\n",
        "\n",
        "처음에 모든 심사대는 비어있습니다. 한 심사대에서는 동시에 한 명만 심사를 할 수 있습니다. 가장 앞에 서 있는 사람은 비어 있는 심사대로 가서 심사를 받을 수 있습니다. 하지만 더 빨리 끝나는 심사대가 있으면 기다렸다가 그곳으로 가서 심사를 받을 수도 있습니다.\n",
        "\n",
        "모든 사람이 심사를 받는데 걸리는 시간을 최소로 하고 싶습니다.\n",
        "\n",
        "입국심사를 기다리는 사람 수 n, 각 심사관이 한 명을 심사하는데 걸리는 시간이 담긴 배열 times가 매개변수로 주어질 때, 모든 사람이 심사를 받는데 걸리는 시간의 최솟값을 return 하도록 solution 함수를 작성해주세요.\n",
        "\n",
        "## **제한사항**\n",
        "\n",
        "*   입국심사를 기다리는 사람은 1명 이상 1,000,000,000명 이하입니다.\n",
        "*   각 심사관이 한 명을 심사하는데 걸리는 시간은 1분 이상 1,000,000,000분 이하입니다.\n",
        "*   심사관은 1명 이상 100,000명 이하입니다.\n",
        "\n",
        "**입출력 예**\n",
        "\n",
        "![화면 캡처 2022-10-01 235546.png](data:image/png;base64,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)\n",
        "\n",
        "**입출력 예 설명**\n",
        "\n",
        "가장 첫 두 사람은 바로 심사를 받으러 갑니다.\n",
        "\n",
        "7분이 되었을 때, 첫 번째 심사대가 비고 3번째 사람이 심사를 받습니다.\n",
        "\n",
        "10분이 되었을 때, 두 번째 심사대가 비고 4번째 사람이 심사를 받습니다.\n",
        "\n",
        "14분이 되었을 때, 첫 번째 심사대가 비고 5번째 사람이 심사를 받습니다.\n",
        "\n",
        "20분이 되었을 때, 두 번째 심사대가 비지만 6번째 사람이 그곳에서 심사를 받지 않고 1분을 더 기다린 후에 첫 번째 심사대에서 심사를 받으면 28분에 모든 사람의 심사가 끝납니다."
      ],
      "metadata": {
        "id": "7Qefz5MNQtdh"
      }
    },
    {
      "cell_type": "code",
      "source": [
        "#binary_search\n",
        "def solution(n, times):\n",
        "    left = 0\n",
        "    right = max(times) * n\n",
        "    answer = right\n",
        "    while left <= right:\n",
        "        mid = (left + right)//2\n",
        "        people = sum(mid//time for time in times)\n",
        "        if people >= n:\n",
        "            answer = min(answer, mid)\n",
        "            right = mid - 1\n",
        "        else:\n",
        "            left = mid + 1\n",
        "            \n",
        "    return answer"
      ],
      "metadata": {
        "id": "bV9lERfBRaAP"
      },
      "execution_count": null,
      "outputs": []
    }
  ]
}