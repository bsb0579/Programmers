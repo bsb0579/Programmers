{
  "nbformat": 4,
  "nbformat_minor": 0,
  "metadata": {
    "colab": {
      "provenance": []
    },
    "kernelspec": {
      "name": "python3",
      "display_name": "Python 3"
    },
    "language_info": {
      "name": "python"
    }
  },
  "cells": [
    {
      "cell_type": "markdown",
      "source": [
        "# **등산코스 정하기**\n",
        "**https://school.programmers.co.kr/learn/courses/30/lessons/118669**"
      ],
      "metadata": {
        "id": "7Qefz5MNQtdh"
      }
    },
    {
      "cell_type": "code",
      "source": [
        "#Dijkstra Algorithm\n",
        "from heapq import heappush, heappop\n",
        "def solution(n, paths, gates, summits):\n",
        "    INF = int(1e9)\n",
        "    answer = [1, INF]\n",
        "    graph = [[] for i in range(n+1)]\n",
        "    for i, j, k in paths:\n",
        "        graph[i].append((j, k))\n",
        "        graph[j].append((i, k))\n",
        "    summitset = set(summits)\n",
        "    gateset = set(gates)\n",
        "    ans = [INF for i in range(n+1)]\n",
        "    h = []\n",
        "    for gate in gates:\n",
        "        heappush(h, (0, gate))\n",
        "        ans[gate] = 0\n",
        "    while h:\n",
        "        dist, node = heappop(h)\n",
        "        if node in summitset:\n",
        "            continue\n",
        "        if ans[node] < dist:\n",
        "            continue\n",
        "        for elem in graph[node]:\n",
        "            if elem[0] in gateset:\n",
        "                continue\n",
        "            tempdist = max(ans[node], elem[1])\n",
        "            if ans[elem[0]] > tempdist:\n",
        "                ans[elem[0]] = tempdist\n",
        "                heappush(h, (tempdist, elem[0]))\n",
        "    for summit in summits:\n",
        "        if ans[summit] < answer[1]:\n",
        "            answer = [summit, ans[summit]]\n",
        "        elif ans[summit] == answer[1] and summit < answer[0]:\n",
        "            answer = [summit, ans[summit]]\n",
        "    return answer"
      ],
      "metadata": {
        "id": "bV9lERfBRaAP"
      },
      "execution_count": null,
      "outputs": []
    }
  ]
}