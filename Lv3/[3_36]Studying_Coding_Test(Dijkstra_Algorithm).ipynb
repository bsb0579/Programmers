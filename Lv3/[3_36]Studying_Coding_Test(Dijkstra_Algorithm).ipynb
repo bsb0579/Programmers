{
  "nbformat": 4,
  "nbformat_minor": 0,
  "metadata": {
    "colab": {
      "provenance": []
    },
    "kernelspec": {
      "name": "python3",
      "display_name": "Python 3"
    },
    "language_info": {
      "name": "python"
    }
  },
  "cells": [
    {
      "cell_type": "markdown",
      "source": [
        "# **코딩 테스트 공부**\n",
        "**https://school.programmers.co.kr/learn/courses/30/lessons/118668?language=python3**"
      ],
      "metadata": {
        "id": "7Qefz5MNQtdh"
      }
    },
    {
      "cell_type": "code",
      "source": [
        "#Dijkstra Algorithm\n",
        "from heapq import heappush, heappop\n",
        "def solution(alp, cop, problems):\n",
        "    INF = int(1e6)\n",
        "    maxalp = 0\n",
        "    maxcop = 0\n",
        "    for alpq, copq, alpd, copd, cost in problems:\n",
        "        if alpq > maxalp:\n",
        "            maxalp = alpq\n",
        "        if copq > maxcop:\n",
        "            maxcop = copq\n",
        "    curalp = alp\n",
        "    curcop = cop\n",
        "    if alp >= maxalp and cop >= maxcop:\n",
        "        return 0\n",
        "    elif alp >= maxalp:\n",
        "        curalp = maxalp\n",
        "    elif cop >= maxcop:\n",
        "        curcop = maxcop\n",
        "    graph = [[INF for i in range(maxcop+1)] for i in range(maxalp+1)]\n",
        "    visited = [[False for i in range(maxcop+1)] for i in range(maxalp+1)]\n",
        "    graph[curalp][curcop] = 0\n",
        "    heap = []\n",
        "    heappush(heap, (0, curalp, curcop))\n",
        "    while heap:\n",
        "        cost, tempalp, tempcop = heappop(heap)\n",
        "        if visited[tempalp][tempcop]:\n",
        "            continue\n",
        "        visited[tempalp][tempcop] = True\n",
        "        if tempalp != maxalp:\n",
        "            tempcost = min(graph[tempalp+1][tempcop], cost+1)\n",
        "            heappush(heap, (tempcost, tempalp+1, tempcop))\n",
        "        if tempcop != maxcop:\n",
        "            tempcost = min(graph[tempalp][tempcop+1], cost+1)\n",
        "            heappush(heap, (tempcost, tempalp, tempcop+1))\n",
        "        for elem in problems:\n",
        "            if elem[0] <= tempalp and elem[1] <= tempcop:\n",
        "                plusalp = elem[2]\n",
        "                pluscop = elem[3]\n",
        "                if tempalp + elem[2] > maxalp:\n",
        "                    plusalp = maxalp - tempalp\n",
        "                if tempcop + elem[3] > maxcop:\n",
        "                    pluscop = maxcop - tempcop\n",
        "                tempcost = min(cost+elem[4], cost+plusalp+pluscop, graph[tempalp+plusalp][tempcop+pluscop])\n",
        "                graph[tempalp+plusalp][tempcop+pluscop] = tempcost\n",
        "                heappush(heap, (tempcost, tempalp+plusalp, tempcop+pluscop))\n",
        "    answer = graph[maxalp][maxcop]\n",
        "    return answer"
      ],
      "metadata": {
        "id": "bV9lERfBRaAP"
      },
      "execution_count": null,
      "outputs": []
    }
  ]
}