{
  "nbformat": 4,
  "nbformat_minor": 0,
  "metadata": {
    "colab": {
      "provenance": []
    },
    "kernelspec": {
      "name": "python3",
      "display_name": "Python 3"
    },
    "language_info": {
      "name": "python"
    }
  },
  "cells": [
    {
      "cell_type": "markdown",
      "source": [
        "# **스타 수열**\n",
        "**https://school.programmers.co.kr/learn/courses/30/lessons/70130#**"
      ],
      "metadata": {
        "id": "7Qefz5MNQtdh"
      }
    },
    {
      "cell_type": "code",
      "source": [
        "def solution(a):\n",
        "    if len(a) < 2:\n",
        "        return 0\n",
        "    answer = -1\n",
        "    n = len(a)\n",
        "    dstate = [(-1,-1) for i in range(n+2)]\n",
        "    dic = {}\n",
        "    a = [a[0]]+a+[a[-1]]\n",
        "    for i, elem in enumerate(a):\n",
        "        if i == 0 or i == n+1:\n",
        "            continue\n",
        "        temp, used = dstate[i-1]\n",
        "        temp2, used2 = dstate[i+1]\n",
        "        if a[i-1] != elem and used != elem:\n",
        "            dstate[i-1] = (temp, elem)\n",
        "            a1 = dic.get(elem, 0)\n",
        "            dic[elem] = a1+1\n",
        "        elif a[i+1] != elem and used2 != elem:\n",
        "            dstate[i+1] = (temp2, elem)\n",
        "            a1 = dic.get(elem, 0)\n",
        "            dic[elem] = a1+1\n",
        "    for i in dic.values():\n",
        "        if i*2 > answer:\n",
        "            answer = i*2\n",
        "\n",
        "    return answer"
      ],
      "metadata": {
        "id": "bV9lERfBRaAP"
      },
      "execution_count": null,
      "outputs": []
    }
  ]
}