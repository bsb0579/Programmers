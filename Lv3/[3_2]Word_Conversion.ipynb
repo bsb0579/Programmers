{
  "nbformat": 4,
  "nbformat_minor": 0,
  "metadata": {
    "colab": {
      "provenance": []
    },
    "kernelspec": {
      "name": "python3",
      "display_name": "Python 3"
    },
    "language_info": {
      "name": "python"
    }
  },
  "cells": [
    {
      "cell_type": "markdown",
      "source": [
        "# **단어 변환**\n",
        "두 개의 단어 begin, target과 단어의 집합 words가 있습니다. 아래와 같은 규칙을 \n",
        "\n",
        "이용하여 begin에서 target으로 변환하는 가장 짧은 변환 과정을 찾으려고 합니다.\n",
        "\n",
        "\n",
        "\n",
        "1.   한 번에 한 개의 알파벳만 바꿀 수 있습니다.\n",
        "2.   words에 있는 단어로만 변환할 수 있습니다.\n",
        "\n",
        "\n",
        "예를 들어 begin이 \"hit\", target가 \"cog\", words가 \n",
        "\n",
        "[\"hot\",\"dot\",\"dog\",\"lot\",\"log\",\"cog\"]라면 \"hit\" -> \"hot\" -> \"dot\" -> \"dog\" -> \n",
        "\n",
        "\"cog\"와 같이 4단계를 거쳐 변환할 수 있습니다.\n",
        "\n",
        "두 개의 단어 begin, target과 단어의 집합 words가 매개변수로 주어질 때, 최소 몇 \n",
        "\n",
        "단계의 과정을 거쳐 begin을 target으로 변환할 수 있는지 return 하도록 solution \n",
        "\n",
        "함수를 작성해주세요.\n",
        "\n",
        "## **제한사항**\n",
        "\n",
        "*   각 단어는 알파벳 소문자로만 이루어져 있습니다.\n",
        "*   각 단어의 길이는 3 이상 10 이하이며 모든 단어의 길이는 같습니다.\n",
        "*   words에는 3개 이상 50개 이하의 단어가 있으며 중복되는 단어는 없습니다.\n",
        "*   begin과 target은 같지 않습니다.\n",
        "*   변환할 수 없는 경우에는 0를 return 합니다.\n",
        "\n",
        "**입출력 예**\n",
        "\n",
        "begin\t= \"hit\"\n",
        "\n",
        "target = \"cog\"\n",
        "\n",
        "words = [\"hot\", \"dot\", \"dog\", \"lot\", \"log\", \"cog\"]\n",
        "\n",
        "return = 4\n",
        "\n",
        "begin\t= \"hit\"\n",
        "\n",
        "target = \"cog\"\n",
        "\n",
        "words = [\"hot\", \"dot\", \"dog\", \"lot\", \"log\"]\n",
        "\n",
        "return = 0"
      ],
      "metadata": {
        "id": "7Qefz5MNQtdh"
      }
    },
    {
      "cell_type": "code",
      "source": [
        "#BFS\n",
        "#그래프로 만들기\n",
        "from collections import deque\n",
        "def make_graph(graph, words_all, index):\n",
        "    l = len(words_all[0])\n",
        "    word = list(words_all[index])\n",
        "    tmp_list = []\n",
        "    tmp_word = []\n",
        "    tmp_elem = []\n",
        "    for i in range(l):\n",
        "        tmp_word = word[:i] + word[i+1:]\n",
        "        for j, elem in enumerate(words_all):\n",
        "            tmp_elem = list(elem)\n",
        "            tmp_elem = tmp_elem[:i] + tmp_elem[i+1:]\n",
        "            if tmp_elem == tmp_word and j != index:\n",
        "                tmp_list.append(j)\n",
        "    tmp_list.sort()\n",
        "    graph.append(tmp_list)\n",
        "    return graph"
      ],
      "metadata": {
        "id": "bV9lERfBRaAP"
      },
      "execution_count": null,
      "outputs": []
    },
    {
      "cell_type": "code",
      "source": [
        "# BFS\n",
        "def bfs(graph, visited, sequence, index):\n",
        "    queue = deque([index])\n",
        "    visited[index] = True\n",
        "    sequence[index] = 0\n",
        "    while queue:\n",
        "        v = queue.popleft()\n",
        "        for i in graph[v]:\n",
        "            if not visited[i]:\n",
        "                queue.append(i)\n",
        "                visited[i] = True\n",
        "                sequence[i] = sequence[v]+1\n",
        "    return sequence"
      ],
      "metadata": {
        "id": "VBs4oQTnRjpR"
      },
      "execution_count": null,
      "outputs": []
    },
    {
      "cell_type": "code",
      "source": [
        "def solution(begin, target, words):\n",
        "    if target not in words:\n",
        "        return 0\n",
        "    graph = []\n",
        "    words_all = [begin] + words\n",
        "    #print(words_all)\n",
        "    for i in range(len(words_all)):\n",
        "        graph = make_graph(graph, words_all, i)\n",
        "    #print(graph)\n",
        "    visited = [False]*len(words_all)\n",
        "    sequence = [100]*len(words_all)\n",
        "    sequence = bfs(graph, visited, sequence, 0)\n",
        "    index = words_all.index(target)\n",
        "    answer = sequence[index]\n",
        "    #print(sequence)\n",
        "    return answer"
      ],
      "metadata": {
        "id": "hhDO6arrRoBr"
      },
      "execution_count": null,
      "outputs": []
    }
  ]
}