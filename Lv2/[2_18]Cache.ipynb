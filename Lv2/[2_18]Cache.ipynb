{
  "nbformat": 4,
  "nbformat_minor": 0,
  "metadata": {
    "colab": {
      "provenance": []
    },
    "kernelspec": {
      "name": "python3",
      "display_name": "Python 3"
    },
    "language_info": {
      "name": "python"
    }
  },
  "cells": [
    {
      "cell_type": "markdown",
      "source": [
        "# **캐시**\n",
        "**https://school.programmers.co.kr/learn/courses/30/lessons/17680**"
      ],
      "metadata": {
        "id": "7Qefz5MNQtdh"
      }
    },
    {
      "cell_type": "code",
      "source": [
        "from collections import deque\n",
        "def solution(cacheSize, cities):\n",
        "    if cacheSize == 0:\n",
        "        return len(cities)*5\n",
        "    q = deque([])\n",
        "    answer = 0\n",
        "    for city in cities:\n",
        "        temp = city.lower()\n",
        "        if len(q) < cacheSize:\n",
        "            if temp in q:\n",
        "                q.remove(temp)\n",
        "                q.append(temp)\n",
        "                answer += 1\n",
        "            else:\n",
        "                q.append(temp)\n",
        "                answer += 5\n",
        "        else:\n",
        "            if temp in q:\n",
        "                q.remove(temp)\n",
        "                q.append(temp)\n",
        "                answer += 1\n",
        "            else:\n",
        "                q.append(temp)\n",
        "                q.popleft()\n",
        "                answer += 5   \n",
        "    return answer"
      ],
      "metadata": {
        "id": "bV9lERfBRaAP"
      },
      "execution_count": null,
      "outputs": []
    }
  ]
}