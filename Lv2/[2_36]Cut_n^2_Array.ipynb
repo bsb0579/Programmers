{
  "nbformat": 4,
  "nbformat_minor": 0,
  "metadata": {
    "colab": {
      "provenance": []
    },
    "kernelspec": {
      "name": "python3",
      "display_name": "Python 3"
    },
    "language_info": {
      "name": "python"
    }
  },
  "cells": [
    {
      "cell_type": "markdown",
      "source": [
        "# **n^2 배열 자르기**\n",
        "**https://school.programmers.co.kr/learn/courses/30/lessons/87390**"
      ],
      "metadata": {
        "id": "7Qefz5MNQtdh"
      }
    },
    {
      "cell_type": "code",
      "source": [
        "def solution(n, left, right):\n",
        "    answer = []\n",
        "    for i in range(left, right+1):\n",
        "        temp1 = (i+1)//n\n",
        "        temp2 = (i+1)%n\n",
        "        if temp2 == 0:\n",
        "            answer.append(n)\n",
        "        elif temp1 + 1 >= temp2:\n",
        "            answer.append(temp1+1)\n",
        "        else:\n",
        "            answer.append(temp2)\n",
        "    return answer"
      ],
      "metadata": {
        "id": "bV9lERfBRaAP"
      },
      "execution_count": null,
      "outputs": []
    }
  ]
}