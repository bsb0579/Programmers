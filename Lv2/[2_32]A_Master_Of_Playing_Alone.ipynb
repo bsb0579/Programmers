{
  "nbformat": 4,
  "nbformat_minor": 0,
  "metadata": {
    "colab": {
      "provenance": []
    },
    "kernelspec": {
      "name": "python3",
      "display_name": "Python 3"
    },
    "language_info": {
      "name": "python"
    }
  },
  "cells": [
    {
      "cell_type": "markdown",
      "source": [
        "# **혼자 놀기의 달인**\n",
        "**https://school.programmers.co.kr/learn/courses/30/lessons/131130?language=python3**"
      ],
      "metadata": {
        "id": "7Qefz5MNQtdh"
      }
    },
    {
      "cell_type": "code",
      "source": [
        "from heapq import heappush, heappop\n",
        "def solution(cards):\n",
        "    cards = [0] + cards\n",
        "    visited = [False]*len(cards)\n",
        "    ans = []\n",
        "    for i in range(1, len(cards)):\n",
        "        if visited[i] == True:\n",
        "            continue\n",
        "        temp = 0\n",
        "        tempi = i\n",
        "        while 1:\n",
        "            visited[tempi] = True\n",
        "            tempi = cards[tempi]\n",
        "            temp += 1\n",
        "            if visited[tempi] == True:\n",
        "                break\n",
        "        heappush(ans, -temp)\n",
        "    if len(ans) < 2:\n",
        "        return 0\n",
        "    answer = heappop(ans) * heappop(ans)\n",
        "    return answer"
      ],
      "metadata": {
        "id": "bV9lERfBRaAP"
      },
      "execution_count": null,
      "outputs": []
    }
  ]
}