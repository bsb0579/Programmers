{
  "nbformat": 4,
  "nbformat_minor": 0,
  "metadata": {
    "colab": {
      "provenance": []
    },
    "kernelspec": {
      "name": "python3",
      "display_name": "Python 3"
    },
    "language_info": {
      "name": "python"
    }
  },
  "cells": [
    {
      "cell_type": "markdown",
      "source": [
        "# **오픈채팅방**\n",
        "**https://school.programmers.co.kr/learn/courses/30/lessons/42888?language=python3**"
      ],
      "metadata": {
        "id": "7Qefz5MNQtdh"
      }
    },
    {
      "cell_type": "code",
      "source": [
        "def solution(record):\n",
        "    length = 0\n",
        "    dicname = {}\n",
        "    dicop = {}\n",
        "    for re in record:\n",
        "        if re[0] == 'L':\n",
        "            op, uid = re.split(' ')\n",
        "        else:\n",
        "            op, uid, name = re.split(' ')\n",
        "        if op[0] == 'C':\n",
        "            dicname[uid] = name\n",
        "        elif op[0] == 'E':\n",
        "            dicname[uid] = name\n",
        "            temp = dicop.get(uid, [])\n",
        "            temp.append((length, 'E'))\n",
        "            dicop[uid] = temp\n",
        "            length += 1\n",
        "        else:\n",
        "            temp = dicop.get(uid, [])\n",
        "            temp.append((length, 'L'))\n",
        "            dicop[uid] = temp\n",
        "            length += 1\n",
        "    answer = ['']*(length)\n",
        "    for key in dicname.keys():\n",
        "        name = dicname[key]\n",
        "        lst = dicop[key]\n",
        "        for i, op in lst:\n",
        "            if op == 'E':\n",
        "                temp = name+'님이 들어왔습니다.'\n",
        "            else:\n",
        "                temp = name+'님이 나갔습니다.'\n",
        "            answer[i] = temp\n",
        "    return answer"
      ],
      "metadata": {
        "id": "bV9lERfBRaAP"
      },
      "execution_count": null,
      "outputs": []
    }
  ]
}