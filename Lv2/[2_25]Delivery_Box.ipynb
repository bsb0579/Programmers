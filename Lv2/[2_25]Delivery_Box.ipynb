{
  "nbformat": 4,
  "nbformat_minor": 0,
  "metadata": {
    "colab": {
      "provenance": []
    },
    "kernelspec": {
      "name": "python3",
      "display_name": "Python 3"
    },
    "language_info": {
      "name": "python"
    }
  },
  "cells": [
    {
      "cell_type": "markdown",
      "source": [
        "# **택배상자**\n",
        "**https://school.programmers.co.kr/learn/courses/30/lessons/131704#**"
      ],
      "metadata": {
        "id": "7Qefz5MNQtdh"
      }
    },
    {
      "cell_type": "code",
      "source": [
        "def solution(order):\n",
        "    order = order[::-1]\n",
        "    answer = 0\n",
        "    stack = []\n",
        "    for i in range(1, len(order)+1):\n",
        "        target = order.pop()\n",
        "        if target != i:\n",
        "            order.append(target)\n",
        "            stack.append(i)\n",
        "            continue\n",
        "        answer += 1\n",
        "        while len(stack) > 0 and stack[len(stack)-1] == order[len(order)-1]:\n",
        "            stack.pop()\n",
        "            order.pop()\n",
        "            answer += 1\n",
        "    return answer"
      ],
      "metadata": {
        "id": "bV9lERfBRaAP"
      },
      "execution_count": null,
      "outputs": []
    }
  ]
}