{
  "nbformat": 4,
  "nbformat_minor": 0,
  "metadata": {
    "colab": {
      "provenance": []
    },
    "kernelspec": {
      "name": "python3",
      "display_name": "Python 3"
    },
    "language_info": {
      "name": "python"
    }
  },
  "cells": [
    {
      "cell_type": "markdown",
      "source": [
        "# **후보키**\n",
        "**https://school.programmers.co.kr/learn/courses/30/lessons/42890**"
      ],
      "metadata": {
        "id": "7Qefz5MNQtdh"
      }
    },
    {
      "cell_type": "code",
      "source": [
        "from itertools import combinations\n",
        "def solution(relation):\n",
        "    l = len(relation[0])\n",
        "    com = [i for i in range(l)]\n",
        "    dic = {}\n",
        "    anslst = []\n",
        "    for i in range(1, l+1):\n",
        "        temp = list(combinations(com, i))\n",
        "        for j in range(len(temp)):\n",
        "            tempset = set(temp[j])\n",
        "            isintersect = 0\n",
        "            for elem in anslst:\n",
        "                if len(tempset.intersection(elem)) == len(elem):\n",
        "                    isintersect = 1\n",
        "                    break\n",
        "            if isintersect == 1:\n",
        "                continue\n",
        "            iskey = 1\n",
        "            dic = {}\n",
        "            for elem in relation:\n",
        "                tempstr = ''\n",
        "                for idx in range(i):\n",
        "                    tempstr += elem[temp[j][idx]]\n",
        "                dictemp = dic.get(tempstr, 0)\n",
        "                if dictemp == 0:\n",
        "                    dic[tempstr] = 1\n",
        "                else:\n",
        "                    iskey = 0\n",
        "                    break\n",
        "            if iskey == 1:\n",
        "                anslst.append(set(temp[j]))\n",
        "    answer = len(anslst)\n",
        "    return answer"
      ],
      "metadata": {
        "id": "bV9lERfBRaAP"
      },
      "execution_count": null,
      "outputs": []
    }
  ]
}