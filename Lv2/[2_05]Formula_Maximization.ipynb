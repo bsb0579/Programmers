{
  "nbformat": 4,
  "nbformat_minor": 0,
  "metadata": {
    "colab": {
      "provenance": []
    },
    "kernelspec": {
      "name": "python3",
      "display_name": "Python 3"
    },
    "language_info": {
      "name": "python"
    }
  },
  "cells": [
    {
      "cell_type": "markdown",
      "source": [
        "# **수식 최대화**\n",
        "**https://school.programmers.co.kr/learn/courses/30/lessons/67257**"
      ],
      "metadata": {
        "id": "7Qefz5MNQtdh"
      }
    },
    {
      "cell_type": "code",
      "source": [
        "from collections import deque\n",
        "def getlst(que, expression):\n",
        "    temp = ''\n",
        "    for i in range(len(expression)):\n",
        "        if expression[i] == '-':\n",
        "            que.append(temp)\n",
        "            que.append('-')\n",
        "            temp = ''\n",
        "        elif expression[i] == '+':\n",
        "            que.append(temp)\n",
        "            que.append('+')\n",
        "            temp = ''\n",
        "        elif expression[i] == '*':\n",
        "            que.append(temp)\n",
        "            que.append('*')\n",
        "            temp = ''\n",
        "        elif i == len(expression)-1:\n",
        "            temp = temp + expression[i]\n",
        "            que.append(temp)\n",
        "        else:\n",
        "            temp = temp + expression[i]        \n",
        "    return que\n",
        "\n",
        "def plus(que):\n",
        "    quetemp = deque(que[:])\n",
        "    queplus = []\n",
        "    while(quetemp):\n",
        "        a = quetemp.popleft()\n",
        "        if a == '+':\n",
        "            x = queplus.pop()\n",
        "            y = quetemp.popleft()\n",
        "            queplus.append(str(int(x)+int(y)))\n",
        "        else:\n",
        "            queplus.append(a)\n",
        "    return queplus\n",
        "\n",
        "def minus(que):\n",
        "    quetemp = deque(que[:])\n",
        "    queminus = []\n",
        "    while(quetemp):\n",
        "        a = quetemp.popleft()\n",
        "        if a == '-':\n",
        "            x = queminus.pop()\n",
        "            y = quetemp.popleft()\n",
        "            queminus.append(str(int(x)-int(y)))\n",
        "        else:\n",
        "            queminus.append(a)\n",
        "    return queminus\n",
        "\n",
        "def product(que):\n",
        "    quetemp = deque(que[:])\n",
        "    queproduct = []\n",
        "    while(quetemp):\n",
        "        a = quetemp.popleft()\n",
        "        if a == '*':\n",
        "            x = queproduct.pop()\n",
        "            y = quetemp.popleft()\n",
        "            queproduct.append(str(int(x)*int(y)))\n",
        "        else:\n",
        "            queproduct.append(a)\n",
        "    return queproduct\n",
        "\n",
        "def solution(expression):\n",
        "    que = []\n",
        "    getlst(que, expression)\n",
        "    quepl = plus(que)\n",
        "    quemi = minus(que)\n",
        "    quepr = product(que)\n",
        "    queplmipr = int(product(minus(quepl))[0])\n",
        "    queplprmi = int(minus(product(quepl))[0])\n",
        "    quemiplpr = int(product(plus(quemi))[0])\n",
        "    quemiprpl = int(plus(product(quemi))[0])\n",
        "    queprplmi = int(minus(plus(quepr))[0])\n",
        "    queprmipl = int(plus(minus(quepr))[0])\n",
        "    answer = max(abs(queplmipr), abs(queplprmi), abs(quemiplpr), abs(quemiprpl), abs(queprplmi), abs(queprmipl))\n",
        "    return answer"
      ],
      "metadata": {
        "id": "bV9lERfBRaAP"
      },
      "execution_count": null,
      "outputs": []
    }
  ]
}