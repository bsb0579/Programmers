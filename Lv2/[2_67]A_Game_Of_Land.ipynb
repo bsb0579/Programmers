{
  "nbformat": 4,
  "nbformat_minor": 0,
  "metadata": {
    "colab": {
      "provenance": []
    },
    "kernelspec": {
      "name": "python3",
      "display_name": "Python 3"
    },
    "language_info": {
      "name": "python"
    }
  },
  "cells": [
    {
      "cell_type": "markdown",
      "source": [
        "# **땅따먹기**\n",
        "**https://school.programmers.co.kr/learn/courses/30/lessons/12913?language=python3** "
      ],
      "metadata": {
        "id": "7Qefz5MNQtdh"
      }
    },
    {
      "cell_type": "code",
      "source": [
        "from heapq import heappush, heappop\n",
        "def solution(land):\n",
        "    dplst = [[0, 0, 0, 0] for i in range(len(land))]\n",
        "    for i in range(4):\n",
        "        dplst[0][i] = land[0][i]\n",
        "    for i in range(1, len(land)):\n",
        "        dplst[i][0] = land[i][0] + max(dplst[i-1][1],dplst[i-1][2],dplst[i-1][3])\n",
        "        dplst[i][1] = land[i][1] + max(dplst[i-1][0],dplst[i-1][2],dplst[i-1][3])\n",
        "        dplst[i][2] = land[i][2] + max(dplst[i-1][1],dplst[i-1][0],dplst[i-1][3])\n",
        "        dplst[i][3] = land[i][3] + max(dplst[i-1][1],dplst[i-1][2],dplst[i-1][0])\n",
        "    answer = max(dplst[len(land)-1][1],dplst[len(land)-1][2],dplst[len(land)-1][0],dplst[len(land)-1][3])\n",
        "\n",
        "    return answer"
      ],
      "metadata": {
        "id": "bV9lERfBRaAP"
      },
      "execution_count": null,
      "outputs": []
    }
  ]
}