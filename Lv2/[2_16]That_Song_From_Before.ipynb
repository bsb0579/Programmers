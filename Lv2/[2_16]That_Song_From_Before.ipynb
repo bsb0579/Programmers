{
  "nbformat": 4,
  "nbformat_minor": 0,
  "metadata": {
    "colab": {
      "provenance": []
    },
    "kernelspec": {
      "name": "python3",
      "display_name": "Python 3"
    },
    "language_info": {
      "name": "python"
    }
  },
  "cells": [
    {
      "cell_type": "markdown",
      "source": [
        "# **방금그곡**\n",
        "**https://school.programmers.co.kr/learn/courses/30/lessons/17683**"
      ],
      "metadata": {
        "id": "7Qefz5MNQtdh"
      }
    },
    {
      "cell_type": "code",
      "source": [
        "from heapq import heappush, heappop\n",
        "def parsemusic(musicinfo):\n",
        "    t1, t2, name, lyric = musicinfo.split(',')\n",
        "    h1, m1 = t1.split(':')\n",
        "    h2, m2 = t2.split(':')\n",
        "    tt1 = int(h1)*60 + int(m1)\n",
        "    tt2 = int(h2)*60 + int(m2)\n",
        "    sub = tt2 - tt1\n",
        "    mp = ''\n",
        "    for st in lyric:\n",
        "        if st == '#':\n",
        "            tmp = mp[-1]\n",
        "            mp = mp[:-1]\n",
        "            if tmp == 'A':\n",
        "                mp = mp + 'H'\n",
        "            elif tmp == 'C':\n",
        "                mp = mp + 'I'\n",
        "            elif tmp == 'D':\n",
        "                mp = mp + 'J'\n",
        "            elif tmp == 'E':\n",
        "                mp = mp + 'K'\n",
        "            else:\n",
        "                mp = mp + 'L'\n",
        "        else:\n",
        "            mp = mp + st\n",
        "    if len(mp) >= sub:\n",
        "        mp = mp[:sub]\n",
        "    else:\n",
        "        pre, nex = divmod(sub, len(mp))\n",
        "        mp = mp*pre + mp[:nex]\n",
        "    return sub, name, mp\n",
        "\n",
        "def solution(m, musicinfos):\n",
        "    answer = ''\n",
        "    mp = ''\n",
        "    #a:a b:b c:c d:d e:e f:f g:g a#:h c#:i d#:j e#:k g#:l\n",
        "    for st in m:\n",
        "        if st == '#':\n",
        "            tmp = mp[-1]\n",
        "            mp = mp[:-1]\n",
        "            if tmp == 'A':\n",
        "                mp = mp + 'H'\n",
        "            elif tmp == 'C':\n",
        "                mp = mp + 'I'\n",
        "            elif tmp == 'D':\n",
        "                mp = mp + 'J'\n",
        "            elif tmp == 'E':\n",
        "                mp = mp + 'K'\n",
        "            else:\n",
        "                mp = mp + 'L'\n",
        "        else:\n",
        "            mp = mp + st  \n",
        "    h = []\n",
        "    for i, musicinfo in enumerate(musicinfos):\n",
        "        sub, name, mpp = parsemusic(musicinfo)\n",
        "        flag = 0\n",
        "        if len(mp) > len(mpp):\n",
        "            continue\n",
        "        else:\n",
        "            tmp = 0\n",
        "            for j in range(len(mp), len(mpp)+1):\n",
        "                if mp == mpp[tmp:j]:\n",
        "                    flag = 1\n",
        "                    break\n",
        "                tmp += 1\n",
        "        if flag == 1:\n",
        "            heappush(h, (-sub, i, name))\n",
        "    if len(h) == 0:\n",
        "        return \"(None)\"\n",
        "    else:\n",
        "        answer = heappop(h)[2]\n",
        "    return answer"
      ],
      "metadata": {
        "id": "bV9lERfBRaAP"
      },
      "execution_count": null,
      "outputs": []
    }
  ]
}