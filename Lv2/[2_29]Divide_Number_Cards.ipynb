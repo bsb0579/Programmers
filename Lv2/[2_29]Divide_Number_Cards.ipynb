{
  "nbformat": 4,
  "nbformat_minor": 0,
  "metadata": {
    "colab": {
      "provenance": []
    },
    "kernelspec": {
      "name": "python3",
      "display_name": "Python 3"
    },
    "language_info": {
      "name": "python"
    }
  },
  "cells": [
    {
      "cell_type": "markdown",
      "source": [
        "# **숫자 카드 나누기**\n",
        "**https://school.programmers.co.kr/learn/courses/30/lessons/135807?language=python3**"
      ],
      "metadata": {
        "id": "7Qefz5MNQtdh"
      }
    },
    {
      "cell_type": "code",
      "source": [
        "import math\n",
        "def solution(arrayA, arrayB):\n",
        "    atemp = 0\n",
        "    btemp = 0\n",
        "    answer = 0\n",
        "    for a in arrayA:\n",
        "        atemp = math.gcd(a, atemp)\n",
        "        if atemp == 1:\n",
        "            break\n",
        "    for b in arrayB:\n",
        "        btemp = math.gcd(b, btemp)\n",
        "        if btemp == 1:\n",
        "            break\n",
        "    aflag = 0\n",
        "    bflag = 0\n",
        "    for b in arrayB:\n",
        "        if b%atemp == 0:\n",
        "            aflag = 1\n",
        "            break\n",
        "    for a in arrayA:\n",
        "        if a%btemp == 0:\n",
        "            bflag = 1\n",
        "            break\n",
        "    if aflag != 1:\n",
        "        answer = max(atemp, answer)\n",
        "    if bflag != 1:\n",
        "        answer = max(btemp, answer)\n",
        "    return answer"
      ],
      "metadata": {
        "id": "bV9lERfBRaAP"
      },
      "execution_count": null,
      "outputs": []
    }
  ]
}