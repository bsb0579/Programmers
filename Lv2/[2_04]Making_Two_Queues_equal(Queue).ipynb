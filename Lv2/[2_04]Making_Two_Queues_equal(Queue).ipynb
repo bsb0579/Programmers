{
  "nbformat": 4,
  "nbformat_minor": 0,
  "metadata": {
    "colab": {
      "provenance": []
    },
    "kernelspec": {
      "name": "python3",
      "display_name": "Python 3"
    },
    "language_info": {
      "name": "python"
    }
  },
  "cells": [
    {
      "cell_type": "markdown",
      "source": [
        "# **두 큐 합 같게 만들기**\n",
        "**https://school.programmers.co.kr/learn/courses/30/lessons/118667**"
      ],
      "metadata": {
        "id": "7Qefz5MNQtdh"
      }
    },
    {
      "cell_type": "code",
      "source": [
        "#queue\n",
        "from collections import deque\n",
        "def solution(queue1, queue2):\n",
        "    q1 = deque(queue1)\n",
        "    q2 = deque(queue2)\n",
        "    sum1 = sum(queue1)\n",
        "    sum2 = sum(queue2)\n",
        "    if sum1 == sum2:\n",
        "        return 0\n",
        "    index = 0\n",
        "    while sum1 != sum2:\n",
        "        if index > len(queue1)*4:\n",
        "            return -1\n",
        "        if sum1 > sum2:\n",
        "            a = q1.popleft()\n",
        "            q2.append(a)\n",
        "            sum1 -= a\n",
        "            sum2 += a\n",
        "        elif sum1 < sum2:\n",
        "            a = q2.popleft()\n",
        "            q1.append(a)\n",
        "            sum1 += a\n",
        "            sum2 -= a\n",
        "        index += 1\n",
        "    answer = index\n",
        "    return answer"
      ],
      "metadata": {
        "id": "bV9lERfBRaAP"
      },
      "execution_count": null,
      "outputs": []
    }
  ]
}