{
  "nbformat": 4,
  "nbformat_minor": 0,
  "metadata": {
    "colab": {
      "provenance": []
    },
    "kernelspec": {
      "name": "python3",
      "display_name": "Python 3"
    },
    "language_info": {
      "name": "python"
    }
  },
  "cells": [
    {
      "cell_type": "markdown",
      "source": [
        "# **미로 탈출**\n",
        "**https://school.programmers.co.kr/learn/courses/30/lessons/159993** "
      ],
      "metadata": {
        "id": "7Qefz5MNQtdh"
      }
    },
    {
      "cell_type": "code",
      "source": [
        "from collections import deque\n",
        "def solution(maps):\n",
        "    xl = len(maps)\n",
        "    yl = len(maps[0])\n",
        "    visited = [[False for i in range(yl)] for j in range(xl)]\n",
        "    visited2 = [[False for i in range(yl)] for j in range(xl)]\n",
        "    ans = [[-1 for i in range(yl)] for j in range(xl)]\n",
        "    ans2 = [[-1 for i in range(yl)] for j in range(xl)]\n",
        "    dic = {}\n",
        "    for i in range(xl):\n",
        "        for j in range(yl):\n",
        "            if maps[i][j] == 'S':\n",
        "                dic['S'] = (i, j)\n",
        "            if maps[i][j] == 'L':\n",
        "                dic['L'] = (i, j)\n",
        "            if maps[i][j] == 'E':\n",
        "                dic['E'] = (i, j)\n",
        "    a, b = dic['S']\n",
        "    q = deque()\n",
        "    q.append((a,b))\n",
        "    visited[a][b] = True\n",
        "    ans[a][b] = 0\n",
        "    while q:\n",
        "        a, b = q.popleft()\n",
        "        temp = ans[a][b]\n",
        "        if a + 1 < xl and not visited[a+1][b] and maps[a+1][b] != 'X':\n",
        "            visited[a+1][b] = True\n",
        "            ans[a+1][b] = temp + 1\n",
        "            q.append((a+1, b))\n",
        "        if b + 1 < yl and not visited[a][b+1] and maps[a][b+1] != 'X':\n",
        "            visited[a][b+1] = True\n",
        "            ans[a][b+1] = temp + 1\n",
        "            q.append((a, b+1))\n",
        "        if a > 0 and not visited[a-1][b] and maps[a-1][b] != 'X':\n",
        "            visited[a-1][b] = True\n",
        "            ans[a-1][b] = temp + 1\n",
        "            q.append((a-1, b))\n",
        "        if b > 0 and not visited[a][b-1] and maps[a][b-1] != 'X':\n",
        "            visited[a][b-1] = True\n",
        "            ans[a][b-1] = temp + 1\n",
        "            q.append((a, b-1))\n",
        "    a, b = dic['L']\n",
        "    if ans[a][b] == -1:\n",
        "        return -1\n",
        "    q = deque()\n",
        "    q.append((a, b))\n",
        "    visited2[a][b] = True\n",
        "    ans2[a][b] = ans[a][b]\n",
        "    while q:\n",
        "        a, b = q.popleft()\n",
        "        temp = ans2[a][b]\n",
        "        if a + 1 < xl and not visited2[a+1][b] and maps[a+1][b] != 'X':\n",
        "            visited2[a+1][b] = True\n",
        "            ans2[a+1][b] = temp + 1\n",
        "            q.append((a+1, b))\n",
        "        if b + 1 < yl and not visited2[a][b+1] and maps[a][b+1] != 'X':\n",
        "            visited2[a][b+1] = True\n",
        "            ans2[a][b+1] = temp + 1\n",
        "            q.append((a, b+1))\n",
        "        if a > 0 and not visited2[a-1][b] and maps[a-1][b] != 'X':\n",
        "            visited2[a-1][b] = True\n",
        "            ans2[a-1][b] = temp + 1\n",
        "            q.append((a-1, b))\n",
        "        if b > 0 and not visited2[a][b-1] and maps[a][b-1] != 'X':\n",
        "            visited2[a][b-1] = True\n",
        "            ans2[a][b-1] = temp + 1\n",
        "            q.append((a, b-1))\n",
        "    a, b = dic['E']\n",
        "    if ans2[a][b] == -1:\n",
        "        return -1\n",
        "    answer = ans2[a][b]\n",
        "    return answer"
      ],
      "metadata": {
        "id": "bV9lERfBRaAP"
      },
      "execution_count": null,
      "outputs": []
    }
  ]
}