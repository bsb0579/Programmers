{
  "nbformat": 4,
  "nbformat_minor": 0,
  "metadata": {
    "colab": {
      "provenance": []
    },
    "kernelspec": {
      "name": "python3",
      "display_name": "Python 3"
    },
    "language_info": {
      "name": "python"
    }
  },
  "cells": [
    {
      "cell_type": "markdown",
      "source": [
        "# **더 맵게**\n",
        "**https://school.programmers.co.kr/learn/courses/30/lessons/42626**"
      ],
      "metadata": {
        "id": "7Qefz5MNQtdh"
      }
    },
    {
      "cell_type": "code",
      "source": [
        "from heapq import heapify, heappop, heappush\n",
        "def solution(scoville, K):\n",
        "    heapify(scoville)\n",
        "    if len(scoville) == 1:\n",
        "        if heappop(scoville) < K:\n",
        "            return -1\n",
        "        else:\n",
        "            return 0\n",
        "    answer = 0\n",
        "    while len(scoville) > 1:\n",
        "        temp = heappop(scoville)\n",
        "        if temp < K:\n",
        "            temp2 = heappop(scoville)\n",
        "            temp = temp + temp2*2\n",
        "            answer += 1\n",
        "            heappush(scoville, temp)\n",
        "        else:\n",
        "            break\n",
        "    if scoville[0] < K:\n",
        "        return -1\n",
        "    return answer"
      ],
      "metadata": {
        "id": "bV9lERfBRaAP"
      },
      "execution_count": null,
      "outputs": []
    }
  ]
}