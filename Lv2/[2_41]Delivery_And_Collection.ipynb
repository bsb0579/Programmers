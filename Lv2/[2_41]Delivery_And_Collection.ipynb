{
  "nbformat": 4,
  "nbformat_minor": 0,
  "metadata": {
    "colab": {
      "provenance": []
    },
    "kernelspec": {
      "name": "python3",
      "display_name": "Python 3"
    },
    "language_info": {
      "name": "python"
    }
  },
  "cells": [
    {
      "cell_type": "markdown",
      "source": [
        "# **택배 배달과 수거하기**\n",
        "**https://school.programmers.co.kr/learn/courses/30/lessons/150369**"
      ],
      "metadata": {
        "id": "7Qefz5MNQtdh"
      }
    },
    {
      "cell_type": "code",
      "source": [
        "from heapq import heappush, heappop\n",
        "def solution(cap, n, deliveries, pickups):\n",
        "    hd = []\n",
        "    hp = []\n",
        "    answer = 0\n",
        "    for i in range(len(deliveries)):\n",
        "        if deliveries[i] != 0:\n",
        "            heappush(hd, [-(i+1), deliveries[i]])\n",
        "        if pickups[i] != 0:\n",
        "            heappush(hp, [-(i+1), pickups[i]])\n",
        "    while hd or hp:\n",
        "        ans = 0\n",
        "        temp = cap\n",
        "        while hd:\n",
        "            td1, td2 = heappop(hd)\n",
        "            if temp > td2:\n",
        "                temp -= td2\n",
        "                ans = max(ans, -td1)\n",
        "            elif temp == td2:\n",
        "                ans = max(ans, -td1)\n",
        "                break\n",
        "            else:\n",
        "                ans = max(ans, -td1)\n",
        "                td2 -= temp\n",
        "                heappush(hd, [td1, td2])\n",
        "                break\n",
        "        temp = 0\n",
        "        while hp:\n",
        "            tp1, tp2 = heappop(hp)\n",
        "            if tp2 + temp < cap:\n",
        "                temp += tp2\n",
        "                ans = max(ans, -tp1)\n",
        "            elif tp2 + temp == cap:\n",
        "                ans = max(ans, -tp1)\n",
        "                break\n",
        "            else:\n",
        "                ans = max(ans, -tp1)\n",
        "                tp2 = tp2 - (cap-temp)\n",
        "                heappush(hp, [tp1, tp2])\n",
        "                break\n",
        "        answer += ans*2\n",
        "    return answer"
      ],
      "metadata": {
        "id": "bV9lERfBRaAP"
      },
      "execution_count": null,
      "outputs": []
    }
  ]
}