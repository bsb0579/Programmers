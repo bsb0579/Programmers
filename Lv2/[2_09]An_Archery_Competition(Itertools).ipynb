{
  "nbformat": 4,
  "nbformat_minor": 0,
  "metadata": {
    "colab": {
      "provenance": []
    },
    "kernelspec": {
      "name": "python3",
      "display_name": "Python 3"
    },
    "language_info": {
      "name": "python"
    }
  },
  "cells": [
    {
      "cell_type": "markdown",
      "source": [
        "# **양궁대회**\n",
        "**https://school.programmers.co.kr/learn/courses/30/lessons/92342#**"
      ],
      "metadata": {
        "id": "7Qefz5MNQtdh"
      }
    },
    {
      "cell_type": "code",
      "source": [
        "#Itertools\n",
        "import numpy as np\n",
        "import itertools\n",
        "def winsub(x, info):\n",
        "    countx = 0\n",
        "    countinfo = 0\n",
        "    for i in range(len(info)-1):\n",
        "        if info[i] < x[i]:\n",
        "            countx = countx + 10 - i\n",
        "        elif info[i] > 0:\n",
        "            countinfo = countinfo + 10 - i\n",
        "    return countx - countinfo\n",
        "\n",
        "def compare(temp, ans):\n",
        "    for i in range(10):\n",
        "        if temp[10-i] == ans[10-i]:\n",
        "            continue\n",
        "        elif temp[10-i] > ans[10-i]:\n",
        "            return True\n",
        "        else:\n",
        "            return False\n",
        "    return False\n",
        "\n",
        "def solution(n, info):\n",
        "    x = winsub([1,1,2,0,1,2,2,0,0,0,0], info)\n",
        "    npin = np.array(info)\n",
        "    hig = npin + 1\n",
        "    high = hig.tolist()\n",
        "    high[len(high)-1] = 0\n",
        "    su = sum(high)\n",
        "    if su <= n:\n",
        "        high[len(high)-1] = n-su\n",
        "        return high\n",
        "    wi = [0, 1, 2, 3, 4, 5, 6, 7, 8, 9]\n",
        "    answer = [-1]\n",
        "    cur = -1\n",
        "    for i in range(10):\n",
        "        temp = [0 for i in range(11)]\n",
        "        tempsum = high[i]\n",
        "        temp[i] = tempsum\n",
        "        if tempsum > n:\n",
        "            continue\n",
        "        temp[10] = n-tempsum\n",
        "        a = winsub(temp, info)\n",
        "        if a <= 0:\n",
        "            continue\n",
        "        elif a > cur:\n",
        "            answer = temp\n",
        "            cur = a\n",
        "        elif a == cur and temp < answer:\n",
        "            answer = temp\n",
        "    getlst = []\n",
        "    for i in range(2, 10):\n",
        "        getlst += itertools.combinations(wi, i)\n",
        "    for elem in getlst:\n",
        "        temp = [0 for i in range(11)]\n",
        "        tempsum = 0\n",
        "        for e in elem:\n",
        "            tempsum += high[e]\n",
        "            temp[e] = high[e]\n",
        "        if tempsum > n:\n",
        "            continue\n",
        "        temp[10] = n-tempsum\n",
        "        a = winsub(temp, info)\n",
        "        if a <= 0:\n",
        "            continue\n",
        "        elif a > cur:\n",
        "            answer = temp\n",
        "            cur = a\n",
        "        elif a == cur and compare(temp, answer):\n",
        "            answer = temp\n",
        "    return answer"
      ],
      "metadata": {
        "id": "bV9lERfBRaAP"
      },
      "execution_count": null,
      "outputs": []
    }
  ]
}