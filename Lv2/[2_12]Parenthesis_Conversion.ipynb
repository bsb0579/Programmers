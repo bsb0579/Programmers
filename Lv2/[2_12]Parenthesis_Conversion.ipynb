{
  "nbformat": 4,
  "nbformat_minor": 0,
  "metadata": {
    "colab": {
      "provenance": []
    },
    "kernelspec": {
      "name": "python3",
      "display_name": "Python 3"
    },
    "language_info": {
      "name": "python"
    }
  },
  "cells": [
    {
      "cell_type": "markdown",
      "source": [
        "# **괄호 변환**\n",
        "**https://school.programmers.co.kr/learn/courses/30/lessons/60058**"
      ],
      "metadata": {
        "id": "7Qefz5MNQtdh"
      }
    },
    {
      "cell_type": "code",
      "source": [
        "def getuv(p):\n",
        "    curr = 0\n",
        "    if len(p) == 0:\n",
        "        return '', ''\n",
        "    if p[0] == '(':\n",
        "        curr = 1\n",
        "    elif p[0] == ')':\n",
        "        curr = -1\n",
        "    idx = 1\n",
        "    while curr != 0:\n",
        "        if p[idx] == '(':\n",
        "            curr += 1\n",
        "        elif p[idx] == ')':\n",
        "            curr -= 1\n",
        "        idx += 1\n",
        "    u = p[0:idx]\n",
        "    v = p[idx:]\n",
        "    return u, v\n",
        "\n",
        "def iscorrect(u):\n",
        "    if u == '':\n",
        "        return True\n",
        "    curr = 0\n",
        "    if u[0] == '(':\n",
        "        curr = 1\n",
        "    elif u[0] == ')':\n",
        "        return False\n",
        "    idx = 1\n",
        "    while curr != 0:\n",
        "        if u[idx] == '(':\n",
        "            curr += 1\n",
        "        elif u[idx] == ')':\n",
        "            curr -= 1\n",
        "        idx += 1\n",
        "        if curr < 0:\n",
        "            return False\n",
        "    return True\n",
        "\n",
        "def uv4(p):\n",
        "    if p == '':\n",
        "        return ''\n",
        "    u, v = getuv(p)\n",
        "    temp = ''\n",
        "    if not iscorrect(u):\n",
        "        vtemp = uv4(v)\n",
        "        temp = '(' + vtemp + ')'\n",
        "        utemp = ''\n",
        "        for i in range(1, len(u)-1):\n",
        "            if u[i] == '(':\n",
        "                utemp += ')'\n",
        "            else:\n",
        "                utemp += '('\n",
        "        temp = temp + utemp\n",
        "        return temp\n",
        "    else:\n",
        "        return u+uv4(v)\n",
        "        \n",
        "def solution(p):\n",
        "    if len(p) == 0:\n",
        "        return ''\n",
        "    temp = uv4(p)\n",
        "    answer = temp\n",
        "    return answer"
      ],
      "metadata": {
        "id": "bV9lERfBRaAP"
      },
      "execution_count": null,
      "outputs": []
    }
  ]
}