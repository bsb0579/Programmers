{
  "nbformat": 4,
  "nbformat_minor": 0,
  "metadata": {
    "colab": {
      "provenance": []
    },
    "kernelspec": {
      "name": "python3",
      "display_name": "Python 3"
    },
    "language_info": {
      "name": "python"
    }
  },
  "cells": [
    {
      "cell_type": "markdown",
      "source": [
        "# **숫자의 표현**\n",
        "**https://school.programmers.co.kr/learn/courses/30/lessons/12924** "
      ],
      "metadata": {
        "id": "7Qefz5MNQtdh"
      }
    },
    {
      "cell_type": "code",
      "source": [
        "def solution(n):\n",
        "    if n == 1 or n == 2:\n",
        "        return 1\n",
        "    answer = 0\n",
        "    temp = int((n*2) ** (1/2))\n",
        "    temp2 = temp*(temp+1)//2\n",
        "    if temp2 == n:\n",
        "        answer += 1\n",
        "    for i in range(1, temp):\n",
        "        if i%2 == 0:\n",
        "            if n%i == i//2:\n",
        "                answer += 1\n",
        "        else:\n",
        "            if n%i == 0:\n",
        "                answer += 1\n",
        "    return answer"
      ],
      "metadata": {
        "id": "bV9lERfBRaAP"
      },
      "execution_count": null,
      "outputs": []
    }
  ]
}