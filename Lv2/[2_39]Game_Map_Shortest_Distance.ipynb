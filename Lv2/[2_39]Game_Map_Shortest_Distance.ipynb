{
  "nbformat": 4,
  "nbformat_minor": 0,
  "metadata": {
    "colab": {
      "provenance": []
    },
    "kernelspec": {
      "name": "python3",
      "display_name": "Python 3"
    },
    "language_info": {
      "name": "python"
    }
  },
  "cells": [
    {
      "cell_type": "markdown",
      "source": [
        "# **게임 맵 최단거리**\n",
        "**https://school.programmers.co.kr/learn/courses/30/lessons/1844**"
      ],
      "metadata": {
        "id": "7Qefz5MNQtdh"
      }
    },
    {
      "cell_type": "code",
      "source": [
        "from collections import deque\n",
        "def solution(maps):\n",
        "    n = len(maps)\n",
        "    m = len(maps[0])\n",
        "    visited = [[False for i in range(m)] for j in range(n)]\n",
        "    INF = 10 ** 6\n",
        "    lenmap = [[INF for i in range(m)] for j in range(n)]\n",
        "    lenmap[0][0] = 1\n",
        "    visited[0][0] = True\n",
        "    q = deque([(0, 0)])\n",
        "    while q:\n",
        "        x, y = q.popleft()\n",
        "        temp = lenmap[x][y]\n",
        "        x1, y1 = x+1, y\n",
        "        x2, y2 = x-1, y\n",
        "        x3, y3 = x, y+1\n",
        "        x4, y4 = x, y-1\n",
        "        if x1 < n and maps[x1][y1] == 1 and visited[x1][y1] == False:\n",
        "            q.append((x1, y1))\n",
        "            lenmap[x1][y1] = temp+1\n",
        "            visited[x1][y1] = True\n",
        "        if x2 > -1 and maps[x2][y2] == 1 and visited[x2][y2] == False:\n",
        "            q.append((x2, y2))\n",
        "            lenmap[x2][y2] = temp+1\n",
        "            visited[x2][y2] = True\n",
        "        if y3 < m and maps[x3][y3] == 1 and visited[x3][y3] == False:\n",
        "            q.append((x3, y3))\n",
        "            lenmap[x3][y3] = temp+1\n",
        "            visited[x3][y3] = True\n",
        "        if y4 > -1 and maps[x4][y4] == 1 and visited[x4][y4] == False:\n",
        "            q.append((x4, y4))\n",
        "            lenmap[x4][y4] = temp+1\n",
        "            visited[x4][y4] = True\n",
        "    answer = lenmap[n-1][m-1]\n",
        "    if answer == INF:\n",
        "        return -1\n",
        "    return answer"
      ],
      "metadata": {
        "id": "bV9lERfBRaAP"
      },
      "execution_count": null,
      "outputs": []
    }
  ]
}