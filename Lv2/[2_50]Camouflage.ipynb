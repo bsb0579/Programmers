{
  "nbformat": 4,
  "nbformat_minor": 0,
  "metadata": {
    "colab": {
      "provenance": []
    },
    "kernelspec": {
      "name": "python3",
      "display_name": "Python 3"
    },
    "language_info": {
      "name": "python"
    }
  },
  "cells": [
    {
      "cell_type": "markdown",
      "source": [
        "# **위장**\n",
        "**https://school.programmers.co.kr/learn/courses/30/lessons/42578**"
      ],
      "metadata": {
        "id": "7Qefz5MNQtdh"
      }
    },
    {
      "cell_type": "code",
      "source": [
        "def solution(clothes):\n",
        "    dic = {}\n",
        "    for name, category in clothes:\n",
        "        if category not in dic:\n",
        "            dic[category] = [name]\n",
        "        else:\n",
        "            dic[category].append(name)\n",
        "    answer = 1\n",
        "    for elem in dic.keys():\n",
        "        temp = len(dic[elem])+1\n",
        "        answer *= temp\n",
        "    answer -= 1\n",
        "    return answer"
      ],
      "metadata": {
        "id": "bV9lERfBRaAP"
      },
      "execution_count": null,
      "outputs": []
    }
  ]
}