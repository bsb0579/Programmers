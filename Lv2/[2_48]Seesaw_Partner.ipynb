{
  "nbformat": 4,
  "nbformat_minor": 0,
  "metadata": {
    "colab": {
      "provenance": []
    },
    "kernelspec": {
      "name": "python3",
      "display_name": "Python 3"
    },
    "language_info": {
      "name": "python"
    }
  },
  "cells": [
    {
      "cell_type": "markdown",
      "source": [
        "# **시소 짝꿍**\n",
        "**https://school.programmers.co.kr/learn/courses/30/lessons/152996?language=python3**"
      ],
      "metadata": {
        "id": "7Qefz5MNQtdh"
      }
    },
    {
      "cell_type": "code",
      "source": [
        "def solution(weights):\n",
        "    dic = {}\n",
        "    for w in weights:\n",
        "        if w not in dic:\n",
        "            dic[w] = 1\n",
        "        else:\n",
        "            dic[w] += 1\n",
        "        if 2*w not in dic:\n",
        "            dic[2*w] = 1\n",
        "        else:\n",
        "            dic[2*w] += 1\n",
        "        if w%2 == 0:\n",
        "            if w//2 not in dic:\n",
        "                dic[w//2] = 1\n",
        "            else:\n",
        "                dic[w//2] += 1\n",
        "            if 3*w//2 not in dic:\n",
        "                dic[3*w//2] = 1\n",
        "            else:\n",
        "                dic[3*w//2] += 1\n",
        "        if w%3 == 0:\n",
        "            if 2*w//3 not in dic:\n",
        "                dic[2*w//3] = 1\n",
        "            else:\n",
        "                dic[2*w//3] += 1\n",
        "            if 4*w//3 not in dic:\n",
        "                dic[4*w//3] = 1\n",
        "            else:\n",
        "                dic[4*w//3] += 1\n",
        "        if w%4 == 0:\n",
        "            if 3*w//4 not in dic:\n",
        "                dic[3*w//4] = 1\n",
        "            else:\n",
        "                dic[3*w//4] += 1\n",
        "    answer = 0\n",
        "    for w in weights:\n",
        "        answer = answer + dic[w] - 1\n",
        "    answer = answer//2\n",
        "    return answer"
      ],
      "metadata": {
        "id": "bV9lERfBRaAP"
      },
      "execution_count": null,
      "outputs": []
    }
  ]
}