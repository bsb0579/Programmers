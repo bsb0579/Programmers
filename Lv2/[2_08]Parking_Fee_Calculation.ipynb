{
  "nbformat": 4,
  "nbformat_minor": 0,
  "metadata": {
    "colab": {
      "provenance": []
    },
    "kernelspec": {
      "name": "python3",
      "display_name": "Python 3"
    },
    "language_info": {
      "name": "python"
    }
  },
  "cells": [
    {
      "cell_type": "markdown",
      "source": [
        "# **주차 요금 계산**\n",
        "**https://school.programmers.co.kr/learn/courses/30/lessons/92341?language=python3**"
      ],
      "metadata": {
        "id": "7Qefz5MNQtdh"
      }
    },
    {
      "cell_type": "code",
      "source": [
        "import math\n",
        "from heapq import heappush, heappop\n",
        "def solution(fees, records):\n",
        "    maxt = 23*60+59\n",
        "    dic = {}\n",
        "    for elem in records:\n",
        "        time, carnum, IOO = elem.split(' ')\n",
        "        curtime = int(time[0:2])*60 + int(time[3:5])\n",
        "        temp = dic.get(int(carnum), [0, 0, 0])\n",
        "        if IOO[0] == 'I':\n",
        "            temp[1] = curtime\n",
        "            temp[2] = 0\n",
        "            dic[int(carnum)] = temp\n",
        "        else:\n",
        "            temp[0] = temp[0] + curtime - temp[1]\n",
        "            temp[1] = 0\n",
        "            temp[2] = 1\n",
        "            dic[int(carnum)] = temp\n",
        "    h = []\n",
        "    for key in dic.keys():\n",
        "        fee = 0\n",
        "        ans, curtime, IOO = dic[key]\n",
        "        if IOO == 0:\n",
        "            ans = ans + maxt - curtime\n",
        "        if ans <= fees[0]:\n",
        "            fee = fees[1]\n",
        "        else:\n",
        "            fee = fees[1] + math.ceil((ans - fees[0])/fees[2])*fees[3]\n",
        "        heappush(h, (key, fee))\n",
        "    answer = []\n",
        "    while h:\n",
        "        a, b = heappop(h)\n",
        "        answer.append(b)\n",
        "    return answer"
      ],
      "metadata": {
        "id": "bV9lERfBRaAP"
      },
      "execution_count": null,
      "outputs": []
    }
  ]
}