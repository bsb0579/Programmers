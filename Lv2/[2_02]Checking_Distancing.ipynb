{
  "nbformat": 4,
  "nbformat_minor": 0,
  "metadata": {
    "colab": {
      "provenance": []
    },
    "kernelspec": {
      "name": "python3",
      "display_name": "Python 3"
    },
    "language_info": {
      "name": "python"
    }
  },
  "cells": [
    {
      "cell_type": "markdown",
      "source": [
        "# **거리두기 확인하기**\n",
        "**https://school.programmers.co.kr/learn/courses/30/lessons/81302**"
      ],
      "metadata": {
        "id": "7Qefz5MNQtdh"
      }
    },
    {
      "cell_type": "code",
      "source": [
        "def solution(places):\n",
        "    answer = []\n",
        "    for a in places:\n",
        "        temp = True\n",
        "        for i in range(5):\n",
        "            if(temp == False):\n",
        "                break\n",
        "            for j in range(5): \n",
        "                if a[i][j] == 'P' and not find_if_P(i,j,a):\n",
        "                    answer.append(0)\n",
        "                    #print(1)\n",
        "                    temp = False\n",
        "                    break\n",
        "        if temp != False:\n",
        "            answer.append(1)\n",
        "    return answer\n",
        "\n",
        "def man_len(x_a, y_a, x_b, y_b):\n",
        "    return abs(x_a-x_b) + abs(y_a-y_b)\n",
        "\n",
        "def find_if_P(x, y, p):\n",
        "    temp = [(2,0),(1,0),(-1,0),(-2,0),(0,2),(0,1),(0,-1),(0,-2),(1,1),(1,-1),(-1,1),(-1,-1)]\n",
        "    for i,j in temp:\n",
        "        if x + i < 0 or y + j < 0 or x + i > 4 or y + j > 4 :\n",
        "            continue\n",
        "        if abs(i) + abs(j) == 1 :\n",
        "            if p[x+i][y+j] == 'P':\n",
        "                return 0\n",
        "            else:\n",
        "                continue\n",
        "        else:\n",
        "            if p[x+i][y+j] == 'P':\n",
        "                if i == 2 and p[x+1][y] == 'X':\n",
        "                    continue\n",
        "                elif i == -2 and p[x-1][y] == 'X':\n",
        "                    continue\n",
        "                elif j == 2 and p[x][y+1] == 'X':\n",
        "                    continue\n",
        "                elif j == -2 and p[x][y-1] == 'X':\n",
        "                    continue\n",
        "                elif i == 1 and j == 1 and p[x][y+1] == 'X' and p[x+1][y] == 'X':\n",
        "                    continue\n",
        "                elif i == 1 and j == -1 and p[x][y-1] == 'X' and p[x+1][y] == 'X':\n",
        "                    continue\n",
        "                elif i == -1 and j == 1 and p[x][y+1] == 'X' and p[x-1][y] == 'X':\n",
        "                    continue\n",
        "                elif i == -1 and j == -1 and p[x][y-1] == 'X' and p[x-1][y] == 'X':\n",
        "                    continue\n",
        "                else:\n",
        "                    return 0\n",
        "            else:\n",
        "                continue\n",
        "    return 1"
      ],
      "metadata": {
        "id": "bV9lERfBRaAP"
      },
      "execution_count": null,
      "outputs": []
    }
  ]
}