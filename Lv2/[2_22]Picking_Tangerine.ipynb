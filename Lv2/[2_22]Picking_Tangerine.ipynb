{
  "nbformat": 4,
  "nbformat_minor": 0,
  "metadata": {
    "colab": {
      "provenance": []
    },
    "kernelspec": {
      "name": "python3",
      "display_name": "Python 3"
    },
    "language_info": {
      "name": "python"
    }
  },
  "cells": [
    {
      "cell_type": "markdown",
      "source": [
        "# **귤 고르기**\n",
        "**https://school.programmers.co.kr/learn/courses/30/lessons/138476**"
      ],
      "metadata": {
        "id": "7Qefz5MNQtdh"
      }
    },
    {
      "cell_type": "code",
      "source": [
        "from heapq import heappush, heappop\n",
        "def solution(k, tangerine):\n",
        "    dic = {}\n",
        "    for t in tangerine:\n",
        "        temp = dic.get(t, 0)\n",
        "        temp += 1\n",
        "        dic[t] = temp\n",
        "    h = []\n",
        "    for key in dic.keys():\n",
        "        heappush(h, -dic[key])\n",
        "    le = 0\n",
        "    while h:\n",
        "        temp = -heappop(h)\n",
        "        le += temp\n",
        "        if le >= k:\n",
        "            break\n",
        "    answer = len(dic) - len(h)\n",
        "    return answer"
      ],
      "metadata": {
        "id": "bV9lERfBRaAP"
      },
      "execution_count": null,
      "outputs": []
    }
  ]
}