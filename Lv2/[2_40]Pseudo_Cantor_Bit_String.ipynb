{
  "nbformat": 4,
  "nbformat_minor": 0,
  "metadata": {
    "colab": {
      "provenance": []
    },
    "kernelspec": {
      "name": "python3",
      "display_name": "Python 3"
    },
    "language_info": {
      "name": "python"
    }
  },
  "cells": [
    {
      "cell_type": "markdown",
      "source": [
        "# **유사 칸토어 비트열**\n",
        "**https://school.programmers.co.kr/learn/courses/30/lessons/148652**"
      ],
      "metadata": {
        "id": "7Qefz5MNQtdh"
      }
    },
    {
      "cell_type": "code",
      "source": [
        "def solution(n, l, r):\n",
        "    answer = 0\n",
        "    def cut(x):\n",
        "        if x == 0:\n",
        "            return 0\n",
        "        elif x == 1:\n",
        "            return 1\n",
        "        elif x == 2 or x == 3:\n",
        "            return 2\n",
        "        elif x == 4:\n",
        "            return 3\n",
        "        elif x == 5:\n",
        "            return 4\n",
        "        temp = 0\n",
        "        while 5 ** temp < x:\n",
        "            temp += 1\n",
        "        temp1 = x//(5**(temp-1))\n",
        "        temp2 = x%(5**(temp-1))\n",
        "        if temp1 > 2:\n",
        "            return (temp1-1)*(4**(temp-1)) + cut(temp2)\n",
        "        elif temp1 == 2:\n",
        "            return temp1*(4**(temp-1))\n",
        "        else:\n",
        "            return temp1*(4**(temp-1)) + cut(temp2)\n",
        "    answer =  cut(r) - cut(l-1)\n",
        "    return answer"
      ],
      "metadata": {
        "id": "bV9lERfBRaAP"
      },
      "execution_count": null,
      "outputs": []
    }
  ]
}