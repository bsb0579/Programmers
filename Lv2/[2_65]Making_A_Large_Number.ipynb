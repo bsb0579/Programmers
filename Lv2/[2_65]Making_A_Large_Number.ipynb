{
  "nbformat": 4,
  "nbformat_minor": 0,
  "metadata": {
    "colab": {
      "provenance": []
    },
    "kernelspec": {
      "name": "python3",
      "display_name": "Python 3"
    },
    "language_info": {
      "name": "python"
    }
  },
  "cells": [
    {
      "cell_type": "markdown",
      "source": [
        "# **큰 수 만들기**\n",
        "**https://school.programmers.co.kr/learn/courses/30/lessons/42883#** "
      ],
      "metadata": {
        "id": "7Qefz5MNQtdh"
      }
    },
    {
      "cell_type": "code",
      "source": [
        "def solution(number, k):\n",
        "    def getn(number, k):\n",
        "        mac = 0\n",
        "        temp = 0\n",
        "        l = len(number)\n",
        "        if l == k:\n",
        "            return '', 0, -1\n",
        "        for i in range(k+1):\n",
        "            if int(number[i]) > mac:\n",
        "                mac = int(number[i])\n",
        "                temp = i\n",
        "                if mac == 9:\n",
        "                    break\n",
        "        return number[temp+1:], k - temp, mac\n",
        "    answer = ''\n",
        "    while k > 0:\n",
        "        number, k, mac = getn(number, k)\n",
        "        if mac != -1:\n",
        "            answer += str(mac)\n",
        "    answer += number\n",
        "    return answer"
      ],
      "metadata": {
        "id": "bV9lERfBRaAP"
      },
      "execution_count": null,
      "outputs": []
    }
  ]
}