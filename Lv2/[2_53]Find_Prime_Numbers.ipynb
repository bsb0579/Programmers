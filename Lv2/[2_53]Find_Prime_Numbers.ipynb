{
  "nbformat": 4,
  "nbformat_minor": 0,
  "metadata": {
    "colab": {
      "provenance": []
    },
    "kernelspec": {
      "name": "python3",
      "display_name": "Python 3"
    },
    "language_info": {
      "name": "python"
    }
  },
  "cells": [
    {
      "cell_type": "markdown",
      "source": [
        "# **소수 찾기**\n",
        "**https://school.programmers.co.kr/learn/courses/30/lessons/42839** "
      ],
      "metadata": {
        "id": "7Qefz5MNQtdh"
      }
    },
    {
      "cell_type": "code",
      "source": [
        "from itertools import permutations\n",
        "def isprime(n):\n",
        "    if n == 1 or n == 0:\n",
        "        return False\n",
        "    if n == 2:\n",
        "        return True\n",
        "    temp = n ** (1/2)\n",
        "    temp = int(temp)+1\n",
        "    for i in range(2,temp):\n",
        "        if n%i == 0:\n",
        "            return False\n",
        "    return True\n",
        "\n",
        "def solution(numbers):\n",
        "    lst = [i for i in range(len(numbers))]\n",
        "    clst = []\n",
        "    for i in range(1, len(lst)+1):\n",
        "        clst = clst + list(permutations(lst, i))\n",
        "    answer = 0\n",
        "    s = set()\n",
        "    for l in clst:\n",
        "        temp = ''\n",
        "        for i in l:\n",
        "            temp += str(numbers[i])\n",
        "        temp1 = int(temp)\n",
        "        s.add(temp1)\n",
        "    for i in s:\n",
        "        if isprime(i):\n",
        "            answer += 1\n",
        "    return answer"
      ],
      "metadata": {
        "id": "bV9lERfBRaAP"
      },
      "execution_count": null,
      "outputs": []
    }
  ]
}