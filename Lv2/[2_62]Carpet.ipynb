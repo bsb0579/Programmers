{
  "nbformat": 4,
  "nbformat_minor": 0,
  "metadata": {
    "colab": {
      "provenance": []
    },
    "kernelspec": {
      "name": "python3",
      "display_name": "Python 3"
    },
    "language_info": {
      "name": "python"
    }
  },
  "cells": [
    {
      "cell_type": "markdown",
      "source": [
        "# **카펫**\n",
        "**https://school.programmers.co.kr/learn/courses/30/lessons/42842** "
      ],
      "metadata": {
        "id": "7Qefz5MNQtdh"
      }
    },
    {
      "cell_type": "code",
      "source": [
        "def solution(brown, yellow):\n",
        "    temp = (brown-4)//2\n",
        "    answer = []\n",
        "    for i in range(1, temp//2+2):\n",
        "        if i*(temp-i) == yellow:\n",
        "            answer = [i+2, temp-i+2]\n",
        "    answer.sort(reverse = True)\n",
        "    return answer"
      ],
      "metadata": {
        "id": "bV9lERfBRaAP"
      },
      "execution_count": null,
      "outputs": []
    }
  ]
}