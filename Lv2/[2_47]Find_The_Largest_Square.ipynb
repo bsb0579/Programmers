{
  "nbformat": 4,
  "nbformat_minor": 0,
  "metadata": {
    "colab": {
      "provenance": []
    },
    "kernelspec": {
      "name": "python3",
      "display_name": "Python 3"
    },
    "language_info": {
      "name": "python"
    }
  },
  "cells": [
    {
      "cell_type": "markdown",
      "source": [
        "# **가장 큰 정사각형 찾기**\n",
        "**https://school.programmers.co.kr/learn/courses/30/lessons/12905**"
      ],
      "metadata": {
        "id": "7Qefz5MNQtdh"
      }
    },
    {
      "cell_type": "code",
      "source": [
        "def solution(board):\n",
        "    n = len(board)\n",
        "    m = len(board[0])\n",
        "    dplst = [[0 for i in range(m)] for j in range(n)]\n",
        "    answer = 0\n",
        "    for i in range(n):\n",
        "        for j in range(m):\n",
        "            if board[i][j] == 0:\n",
        "                continue\n",
        "            if i == 0 and j == 0:\n",
        "                dplst[i][j] = board[i][j]\n",
        "                answer = board[i][j]\n",
        "                continue\n",
        "            if i == 0:\n",
        "                temp = 1\n",
        "                dplst[i][j] = temp\n",
        "                if temp > answer:\n",
        "                    answer = temp\n",
        "            elif j == 0:\n",
        "                temp = 1\n",
        "                dplst[i][j] = temp\n",
        "                if temp > answer:\n",
        "                    answer = temp\n",
        "            else:\n",
        "                temp = min(dplst[i-1][j], dplst[i-1][j-1], dplst[i][j-1]) + 1\n",
        "                dplst[i][j] = temp\n",
        "                if temp > answer:\n",
        "                    answer = temp\n",
        "    return answer ** 2"
      ],
      "metadata": {
        "id": "bV9lERfBRaAP"
      },
      "execution_count": null,
      "outputs": []
    }
  ]
}