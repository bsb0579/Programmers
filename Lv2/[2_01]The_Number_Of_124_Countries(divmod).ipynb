{
  "nbformat": 4,
  "nbformat_minor": 0,
  "metadata": {
    "colab": {
      "provenance": []
    },
    "kernelspec": {
      "name": "python3",
      "display_name": "Python 3"
    },
    "language_info": {
      "name": "python"
    }
  },
  "cells": [
    {
      "cell_type": "markdown",
      "source": [
        "# **124 나라의 숫자**\n",
        "**https://school.programmers.co.kr/learn/courses/30/lessons/12899**"
      ],
      "metadata": {
        "id": "7Qefz5MNQtdh"
      }
    },
    {
      "cell_type": "code",
      "source": [
        "def solution(n):\n",
        "    temp = n\n",
        "    ans_lst = []\n",
        "    while temp > 2:\n",
        "        temp, b = divmod(temp, 3)\n",
        "        if b == 0:\n",
        "            ans_lst.append(4)\n",
        "            temp = temp - 1\n",
        "        else:\n",
        "            ans_lst.append(b)\n",
        "    if temp != 0:\n",
        "        ans_lst.append(temp)\n",
        "    ans_lst.reverse()\n",
        "    \n",
        "    answer = ''.join(list(map(str, ans_lst)))\n",
        "    return answer"
      ],
      "metadata": {
        "id": "bV9lERfBRaAP"
      },
      "execution_count": null,
      "outputs": []
    }
  ]
}