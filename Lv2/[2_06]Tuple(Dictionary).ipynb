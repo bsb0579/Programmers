{
  "nbformat": 4,
  "nbformat_minor": 0,
  "metadata": {
    "colab": {
      "provenance": []
    },
    "kernelspec": {
      "name": "python3",
      "display_name": "Python 3"
    },
    "language_info": {
      "name": "python"
    }
  },
  "cells": [
    {
      "cell_type": "markdown",
      "source": [
        "# **튜플**\n",
        "**https://school.programmers.co.kr/learn/courses/30/lessons/64065**"
      ],
      "metadata": {
        "id": "7Qefz5MNQtdh"
      }
    },
    {
      "cell_type": "code",
      "source": [
        "def dicelem(dic, t):\n",
        "    a = list(map(int, t.split(',')))\n",
        "    dic[len(a)] = sum(a)\n",
        "def solution(s):\n",
        "    dic = {}\n",
        "    the = s[2:len(s)-2].split('},{')\n",
        "    for t in the:\n",
        "        dicelem(dic, t)\n",
        "    temp = 0\n",
        "    answer = []\n",
        "    for i in range(1, len(the)+1):\n",
        "        ans = dic[i] - temp\n",
        "        temp = dic[i]\n",
        "        answer.append(ans)\n",
        "    return answer"
      ],
      "metadata": {
        "id": "bV9lERfBRaAP"
      },
      "execution_count": null,
      "outputs": []
    }
  ]
}