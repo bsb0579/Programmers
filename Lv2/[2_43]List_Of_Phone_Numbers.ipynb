{
  "nbformat": 4,
  "nbformat_minor": 0,
  "metadata": {
    "colab": {
      "provenance": []
    },
    "kernelspec": {
      "name": "python3",
      "display_name": "Python 3"
    },
    "language_info": {
      "name": "python"
    }
  },
  "cells": [
    {
      "cell_type": "markdown",
      "source": [
        "# **전화번호 목록**\n",
        "**https://school.programmers.co.kr/learn/courses/30/lessons/42577**"
      ],
      "metadata": {
        "id": "7Qefz5MNQtdh"
      }
    },
    {
      "cell_type": "code",
      "source": [
        "def solution(phone_book):\n",
        "    s = set()\n",
        "    answer = True\n",
        "    for p in phone_book:\n",
        "        temp = ''\n",
        "        for w in p[:-1]:\n",
        "            temp += w\n",
        "            s.add(temp)\n",
        "    for p in phone_book:\n",
        "        if p in s:\n",
        "            answer = False\n",
        "            break\n",
        "    return answer"
      ],
      "metadata": {
        "id": "bV9lERfBRaAP"
      },
      "execution_count": null,
      "outputs": []
    }
  ]
}