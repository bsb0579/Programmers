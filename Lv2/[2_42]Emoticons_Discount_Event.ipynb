{
  "nbformat": 4,
  "nbformat_minor": 0,
  "metadata": {
    "colab": {
      "provenance": []
    },
    "kernelspec": {
      "name": "python3",
      "display_name": "Python 3"
    },
    "language_info": {
      "name": "python"
    }
  },
  "cells": [
    {
      "cell_type": "markdown",
      "source": [
        "# **이모티콘 할인행사**\n",
        "**https://school.programmers.co.kr/learn/courses/30/lessons/150368**"
      ],
      "metadata": {
        "id": "7Qefz5MNQtdh"
      }
    },
    {
      "cell_type": "code",
      "source": [
        "from itertools import product\n",
        "def solution(users, emoticons):\n",
        "    l = len(emoticons)\n",
        "    lst = [10, 20, 30, 40]\n",
        "    com = list(product(lst, repeat = l))\n",
        "    answer = [0, 0]\n",
        "    for co in com:\n",
        "        ans = [0, 0]\n",
        "        for perc, user in users:\n",
        "            temp = 0\n",
        "            for i in range(l):\n",
        "                if perc <= co[i]:\n",
        "                    temp += (100-co[i])*emoticons[i]//100\n",
        "            if temp < user:\n",
        "                ans[1] += temp\n",
        "            else:\n",
        "                ans[0] += 1\n",
        "        if ans[0] > answer[0]:\n",
        "            answer = ans\n",
        "        elif ans[0] == answer[0] and ans[1] > answer[1]:\n",
        "            answer = ans  \n",
        "    return answer"
      ],
      "metadata": {
        "id": "bV9lERfBRaAP"
      },
      "execution_count": null,
      "outputs": []
    }
  ]
}