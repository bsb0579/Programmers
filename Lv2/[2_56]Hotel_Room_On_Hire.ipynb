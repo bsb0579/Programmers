{
  "nbformat": 4,
  "nbformat_minor": 0,
  "metadata": {
    "colab": {
      "provenance": []
    },
    "kernelspec": {
      "name": "python3",
      "display_name": "Python 3"
    },
    "language_info": {
      "name": "python"
    }
  },
  "cells": [
    {
      "cell_type": "markdown",
      "source": [
        "# **호텔 대실**\n",
        "**https://school.programmers.co.kr/learn/courses/30/lessons/155651** "
      ],
      "metadata": {
        "id": "7Qefz5MNQtdh"
      }
    },
    {
      "cell_type": "code",
      "source": [
        "def solution(book_time):\n",
        "    newtime = []\n",
        "    gettime = set()\n",
        "    answer = 0\n",
        "    for a, b in book_time:\n",
        "        a1, a2 = a.split(':')\n",
        "        b1, b2 = b.split(':')\n",
        "        atime = int(a1)*60 + int(a2)\n",
        "        btime = int(b1)*60 + int(b2) + 10\n",
        "        gettime.add(atime)\n",
        "        gettime.add(btime)\n",
        "        newtime.append((atime, btime))\n",
        "    for s in gettime:\n",
        "        temp = 0\n",
        "        for n1, n2 in newtime:\n",
        "            if n1 < s and s <= n2:\n",
        "                temp += 1\n",
        "        answer = max(answer, temp)\n",
        "    return answer"
      ],
      "metadata": {
        "id": "bV9lERfBRaAP"
      },
      "execution_count": null,
      "outputs": []
    }
  ]
}