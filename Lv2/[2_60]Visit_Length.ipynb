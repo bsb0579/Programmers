{
  "nbformat": 4,
  "nbformat_minor": 0,
  "metadata": {
    "colab": {
      "provenance": []
    },
    "kernelspec": {
      "name": "python3",
      "display_name": "Python 3"
    },
    "language_info": {
      "name": "python"
    }
  },
  "cells": [
    {
      "cell_type": "markdown",
      "source": [
        "# **방문 길이**\n",
        "**https://school.programmers.co.kr/learn/courses/30/lessons/49994** "
      ],
      "metadata": {
        "id": "7Qefz5MNQtdh"
      }
    },
    {
      "cell_type": "code",
      "source": [
        "def solution(dirs):\n",
        "    dic = {}\n",
        "    answer = 0\n",
        "    cur = [0,0]\n",
        "    for d in dirs:\n",
        "        if d == 'U':\n",
        "            tempx = cur[0]\n",
        "            tempy = cur[1] + 1\n",
        "            if tempy > 5:\n",
        "                continue\n",
        "            if (cur[0], cur[1], tempx, tempy) not in dic:\n",
        "                dic[(cur[0], cur[1], tempx, tempy)] = 1\n",
        "                dic[(tempx, tempy, cur[0], cur[1])] = 1\n",
        "                answer += 1\n",
        "            cur = [tempx, tempy]\n",
        "        elif d == 'D':\n",
        "            tempx = cur[0]\n",
        "            tempy = cur[1] - 1\n",
        "            if tempy < -5:\n",
        "                continue\n",
        "            if (cur[0], cur[1], tempx, tempy) not in dic:\n",
        "                dic[(cur[0], cur[1], tempx, tempy)] = 1\n",
        "                dic[(tempx, tempy, cur[0], cur[1])] = 1\n",
        "                answer += 1\n",
        "            cur = [tempx, tempy]\n",
        "        elif d == 'R':\n",
        "            tempx = cur[0] + 1\n",
        "            tempy = cur[1]\n",
        "            if tempx > 5:\n",
        "                continue\n",
        "            if (cur[0], cur[1], tempx, tempy) not in dic:\n",
        "                dic[(cur[0], cur[1], tempx, tempy)] = 1\n",
        "                dic[(tempx, tempy, cur[0], cur[1])] = 1\n",
        "                answer += 1\n",
        "            cur = [tempx, tempy]\n",
        "        else:\n",
        "            tempx = cur[0] - 1\n",
        "            tempy = cur[1]\n",
        "            if tempx < -5:\n",
        "                continue\n",
        "            if (cur[0], cur[1], tempx, tempy) not in dic:\n",
        "                dic[(cur[0], cur[1], tempx, tempy)] = 1\n",
        "                dic[(tempx, tempy, cur[0], cur[1])] = 1\n",
        "                answer += 1\n",
        "            cur = [tempx, tempy]\n",
        "    return answer"
      ],
      "metadata": {
        "id": "bV9lERfBRaAP"
      },
      "execution_count": null,
      "outputs": []
    }
  ]
}