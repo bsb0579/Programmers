{
  "nbformat": 4,
  "nbformat_minor": 0,
  "metadata": {
    "colab": {
      "provenance": []
    },
    "kernelspec": {
      "name": "python3",
      "display_name": "Python 3"
    },
    "language_info": {
      "name": "python"
    }
  },
  "cells": [
    {
      "cell_type": "markdown",
      "source": [
        "# **영어 끝말잇기**\n",
        "**https://school.programmers.co.kr/learn/courses/30/lessons/12981** "
      ],
      "metadata": {
        "id": "7Qefz5MNQtdh"
      }
    },
    {
      "cell_type": "code",
      "source": [
        "def solution(n, words):\n",
        "    answer = []\n",
        "    flag = 0\n",
        "    al = 0\n",
        "    start  = ''\n",
        "    s = set()\n",
        "    for w in words:\n",
        "        if start == '':\n",
        "            s.add(w)\n",
        "            start = w[-1]\n",
        "            al += 1\n",
        "        else:\n",
        "            if start == w[0] and w not in s:\n",
        "                s.add(w)\n",
        "                al += 1\n",
        "                start = w[-1]\n",
        "            else:\n",
        "                flag = 1\n",
        "                al += 1\n",
        "                break\n",
        "    if flag == 0:\n",
        "        return [0, 0]\n",
        "    answer = [al%n, al//n + 1]\n",
        "    if al%n == 0:\n",
        "        answer = [n, al//n]\n",
        "    return answer"
      ],
      "metadata": {
        "id": "bV9lERfBRaAP"
      },
      "execution_count": null,
      "outputs": []
    }
  ]
}