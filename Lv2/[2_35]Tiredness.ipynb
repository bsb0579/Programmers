{
  "nbformat": 4,
  "nbformat_minor": 0,
  "metadata": {
    "colab": {
      "provenance": []
    },
    "kernelspec": {
      "name": "python3",
      "display_name": "Python 3"
    },
    "language_info": {
      "name": "python"
    }
  },
  "cells": [
    {
      "cell_type": "markdown",
      "source": [
        "# **피로도**\n",
        "**https://school.programmers.co.kr/learn/courses/30/lessons/87946**"
      ],
      "metadata": {
        "id": "7Qefz5MNQtdh"
      }
    },
    {
      "cell_type": "code",
      "source": [
        "from itertools import permutations\n",
        "def solution(k, dungeons):\n",
        "    l = len(dungeons)\n",
        "    lst = [i for i in range(l)]\n",
        "    clst = list(permutations(lst, l))\n",
        "    answer = 0\n",
        "    for c in clst:\n",
        "        temp = k\n",
        "        ans = 0\n",
        "        for i in c:\n",
        "            a, b = dungeons[i]\n",
        "            if a > temp:\n",
        "                answer = max(answer, ans)\n",
        "                break\n",
        "            elif b > temp:\n",
        "                answer = max(answer, ans)\n",
        "                break\n",
        "            else:\n",
        "                temp -= b\n",
        "                ans += 1\n",
        "                answer = max(answer, ans)\n",
        "    return answer"
      ],
      "metadata": {
        "id": "bV9lERfBRaAP"
      },
      "execution_count": null,
      "outputs": []
    }
  ]
}