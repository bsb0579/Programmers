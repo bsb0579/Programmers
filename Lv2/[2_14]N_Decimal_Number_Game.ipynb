{
  "nbformat": 4,
  "nbformat_minor": 0,
  "metadata": {
    "colab": {
      "provenance": []
    },
    "kernelspec": {
      "name": "python3",
      "display_name": "Python 3"
    },
    "language_info": {
      "name": "python"
    }
  },
  "cells": [
    {
      "cell_type": "markdown",
      "source": [
        "# **n진수 게임**\n",
        "**https://school.programmers.co.kr/learn/courses/30/lessons/17687**"
      ],
      "metadata": {
        "id": "7Qefz5MNQtdh"
      }
    },
    {
      "cell_type": "code",
      "source": [
        "def numbern(n, x, dic):\n",
        "    lst = ''\n",
        "    while x != 0:\n",
        "        tempb = ''\n",
        "        x, b = divmod(x, n)\n",
        "        if b > 9:\n",
        "            tempb = dic[b]\n",
        "        else:\n",
        "            tempb = str(b)\n",
        "        lst += tempb\n",
        "    lst = lst[::-1]\n",
        "    return lst\n",
        "def solution(n, t, m, p):\n",
        "    get = m*t\n",
        "    dic = {}\n",
        "    dic[10] = 'A'\n",
        "    dic[11] = 'B'\n",
        "    dic[12] = 'C'\n",
        "    dic[13] = 'D'\n",
        "    dic[14] = 'E'\n",
        "    dic[15] = 'F'\n",
        "    answer = ''\n",
        "    leng = 0\n",
        "    cur = 1\n",
        "    ans = '0'\n",
        "    while leng < get:\n",
        "        lst = numbern(n, cur, dic)\n",
        "        leng += len(lst)\n",
        "        ans += lst\n",
        "        cur += 1\n",
        "    cur = p-1\n",
        "    tlen = 0\n",
        "    while tlen < t:\n",
        "        answer += ans[cur]\n",
        "        cur += m\n",
        "        tlen += 1\n",
        "    return answer"
      ],
      "metadata": {
        "id": "bV9lERfBRaAP"
      },
      "execution_count": null,
      "outputs": []
    }
  ]
}