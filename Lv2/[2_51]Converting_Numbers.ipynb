{
  "nbformat": 4,
  "nbformat_minor": 0,
  "metadata": {
    "colab": {
      "provenance": []
    },
    "kernelspec": {
      "name": "python3",
      "display_name": "Python 3"
    },
    "language_info": {
      "name": "python"
    }
  },
  "cells": [
    {
      "cell_type": "markdown",
      "source": [
        "# **숫자 변환하기**\n",
        "**https://school.programmers.co.kr/learn/courses/30/lessons/154538**"
      ],
      "metadata": {
        "id": "7Qefz5MNQtdh"
      }
    },
    {
      "cell_type": "code",
      "source": [
        "def solution(x, y, n):\n",
        "    if x == y:\n",
        "        return 0\n",
        "    dic = {}\n",
        "    s = set()\n",
        "    s.add(x)\n",
        "    answer = 0\n",
        "    while s:\n",
        "        temp = set()\n",
        "        answer += 1\n",
        "        for i in s:\n",
        "            temp1 = i + n\n",
        "            temp2 = 2*i\n",
        "            temp3 = 3*i\n",
        "            if temp1 == y or temp2 == y or temp3 == y:\n",
        "                return answer\n",
        "                break\n",
        "            if temp1 < y:\n",
        "                temp.add(temp1)\n",
        "            if temp2 < y:\n",
        "                temp.add(temp2)\n",
        "            if temp3 < y:\n",
        "                temp.add(temp3)\n",
        "        s = temp\n",
        "    answer = -1\n",
        "    return answer"
      ],
      "metadata": {
        "id": "bV9lERfBRaAP"
      },
      "execution_count": null,
      "outputs": []
    }
  ]
}