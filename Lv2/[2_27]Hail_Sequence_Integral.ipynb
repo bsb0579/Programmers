{
  "nbformat": 4,
  "nbformat_minor": 0,
  "metadata": {
    "colab": {
      "provenance": []
    },
    "kernelspec": {
      "name": "python3",
      "display_name": "Python 3"
    },
    "language_info": {
      "name": "python"
    }
  },
  "cells": [
    {
      "cell_type": "markdown",
      "source": [
        "# **우박수열 정적분**\n",
        "**https://school.programmers.co.kr/learn/courses/30/lessons/134239**"
      ],
      "metadata": {
        "id": "7Qefz5MNQtdh"
      }
    },
    {
      "cell_type": "code",
      "source": [
        "def solution(k, ranges):\n",
        "    lst = [0.0]\n",
        "    start = k\n",
        "    i = 1\n",
        "    while start != 1:\n",
        "        prev = start\n",
        "        if start%2 == 0:\n",
        "            start = start//2\n",
        "        else:\n",
        "            start = start*3 + 1\n",
        "        ab = (start + prev)/2\n",
        "        lst.append(ab+lst[-1])\n",
        "        i += 1\n",
        "    answer = []\n",
        "    for j, k in ranges:\n",
        "        if j > len(lst)-1 or k < -len(lst)+1:\n",
        "            answer.append(-1)\n",
        "            continue\n",
        "        temp1 = lst[j]\n",
        "        temp2 = lst[k-1]\n",
        "        if i + k -1 < j:\n",
        "            answer.append(-1)\n",
        "        else:\n",
        "            answer.append(temp2-temp1)\n",
        "    return answer"
      ],
      "metadata": {
        "id": "bV9lERfBRaAP"
      },
      "execution_count": null,
      "outputs": []
    }
  ]
}