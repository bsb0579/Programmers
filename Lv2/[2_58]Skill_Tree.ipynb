{
  "nbformat": 4,
  "nbformat_minor": 0,
  "metadata": {
    "colab": {
      "provenance": []
    },
    "kernelspec": {
      "name": "python3",
      "display_name": "Python 3"
    },
    "language_info": {
      "name": "python"
    }
  },
  "cells": [
    {
      "cell_type": "markdown",
      "source": [
        "# **스킬트리**\n",
        "**https://school.programmers.co.kr/learn/courses/30/lessons/49993** "
      ],
      "metadata": {
        "id": "7Qefz5MNQtdh"
      }
    },
    {
      "cell_type": "code",
      "source": [
        "def solution(skill, skill_trees):\n",
        "    answer = 0\n",
        "    dic = {}\n",
        "    for i in range(len(skill)):\n",
        "        dic[skill[i]] = i+1\n",
        "    for sk in skill_trees:\n",
        "        state = 1\n",
        "        istrue = 1\n",
        "        for s in sk:\n",
        "            if s in dic:\n",
        "                if dic[s] == state:\n",
        "                    state += 1\n",
        "                else:\n",
        "                    istrue = 0\n",
        "                    break\n",
        "        if istrue:\n",
        "            answer += 1\n",
        "    return answer"
      ],
      "metadata": {
        "id": "bV9lERfBRaAP"
      },
      "execution_count": null,
      "outputs": []
    }
  ]
}