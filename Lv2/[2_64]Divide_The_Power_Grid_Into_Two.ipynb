{
  "nbformat": 4,
  "nbformat_minor": 0,
  "metadata": {
    "colab": {
      "provenance": []
    },
    "kernelspec": {
      "name": "python3",
      "display_name": "Python 3"
    },
    "language_info": {
      "name": "python"
    }
  },
  "cells": [
    {
      "cell_type": "markdown",
      "source": [
        "# **전력망을 둘로 나누기**\n",
        "**https://school.programmers.co.kr/learn/courses/30/lessons/86971** "
      ],
      "metadata": {
        "id": "7Qefz5MNQtdh"
      }
    },
    {
      "cell_type": "code",
      "source": [
        "def solution(n, wires):\n",
        "    answer = 200\n",
        "    graph = [[] for i in range(n+1)]\n",
        "    for a, b in wires:\n",
        "        graph[a].append(b)\n",
        "        graph[b].append(a)\n",
        "    for i in range(len(wires)):\n",
        "        a, b = wires[i]\n",
        "        visited = [False]*(n+1)\n",
        "        visited[1] = True\n",
        "        ans = 1\n",
        "        stack = [1]\n",
        "        while stack:\n",
        "            temp = stack.pop()\n",
        "            visited[temp] = True\n",
        "            for i in graph[temp]:\n",
        "                if not visited[i]:\n",
        "                    if temp == a and i == b:\n",
        "                        continue\n",
        "                    elif temp == b and i == a:\n",
        "                        continue\n",
        "                    else:\n",
        "                        ans += 1\n",
        "                        stack.append(i)\n",
        "        anst = n - 2*ans\n",
        "        if anst < 0:\n",
        "            anst = -anst\n",
        "        if anst < answer:\n",
        "            answer = anst\n",
        "    return answer"
      ],
      "metadata": {
        "id": "bV9lERfBRaAP"
      },
      "execution_count": null,
      "outputs": []
    }
  ]
}