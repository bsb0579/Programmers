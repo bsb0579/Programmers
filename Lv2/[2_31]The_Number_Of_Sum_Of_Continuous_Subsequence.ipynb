{
  "nbformat": 4,
  "nbformat_minor": 0,
  "metadata": {
    "colab": {
      "provenance": []
    },
    "kernelspec": {
      "name": "python3",
      "display_name": "Python 3"
    },
    "language_info": {
      "name": "python"
    }
  },
  "cells": [
    {
      "cell_type": "markdown",
      "source": [
        "# **연속 부분 수열 합의 개수**\n",
        "**https://school.programmers.co.kr/learn/courses/30/lessons/131701**"
      ],
      "metadata": {
        "id": "7Qefz5MNQtdh"
      }
    },
    {
      "cell_type": "code",
      "source": [
        "def solution(elements):\n",
        "    ma = set(elements)\n",
        "    lst = elements + elements\n",
        "    if len(elements) == 1:\n",
        "        return 1\n",
        "    for i in range(2, len(elements)+1):\n",
        "        temp = 0\n",
        "        for j in range(i):\n",
        "            temp += lst[j]\n",
        "        ma.add(temp)\n",
        "        for j in range(len(elements)):\n",
        "            temp -= lst[j]\n",
        "            temp += lst[j+i]\n",
        "            ma.add(temp)\n",
        "    answer = len(ma)\n",
        "    return answer"
      ],
      "metadata": {
        "id": "bV9lERfBRaAP"
      },
      "execution_count": null,
      "outputs": []
    }
  ]
}