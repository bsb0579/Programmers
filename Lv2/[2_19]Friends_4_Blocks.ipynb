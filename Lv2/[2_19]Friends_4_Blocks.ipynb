{
  "nbformat": 4,
  "nbformat_minor": 0,
  "metadata": {
    "colab": {
      "provenance": []
    },
    "kernelspec": {
      "name": "python3",
      "display_name": "Python 3"
    },
    "language_info": {
      "name": "python"
    }
  },
  "cells": [
    {
      "cell_type": "markdown",
      "source": [
        "# **프렌즈4블록**\n",
        "**https://school.programmers.co.kr/learn/courses/30/lessons/17679?language=python3**"
      ],
      "metadata": {
        "id": "7Qefz5MNQtdh"
      }
    },
    {
      "cell_type": "code",
      "source": [
        "def operation(m, n, board):\n",
        "    tempset = set()\n",
        "    for i in range(n-1):\n",
        "        for j in range(m-1):\n",
        "            temp1 = board[i][j]\n",
        "            temp2 = board[i+1][j]\n",
        "            temp3 = board[i][j+1]\n",
        "            temp4 = board[i+1][j+1]\n",
        "            if temp1 == temp2 and temp2 == temp3 and temp3 == temp4 and temp1 != '1':\n",
        "                tempset.add((i,j))\n",
        "                tempset.add((i+1,j))\n",
        "                tempset.add((i,j+1))\n",
        "                tempset.add((i+1,j+1))\n",
        "    ans = len(tempset)            \n",
        "    for i, j in tempset:\n",
        "        board[i][j] = '1'\n",
        "    tempboard = []\n",
        "    for lst in board:\n",
        "        tmpo = []\n",
        "        tmp = []\n",
        "        for i in lst:\n",
        "            if i == '1':\n",
        "                tmpo.append(i)\n",
        "            else:\n",
        "                tmp.append(i)\n",
        "        tempboard.append(tmpo+tmp)\n",
        "    return tempboard, ans\n",
        "\n",
        "def solution(m, n, board):\n",
        "    board = [[board[j][i] for j in range(m)] for i in range(n)]\n",
        "    ans = 10\n",
        "    answer = 0\n",
        "    while ans != 0: \n",
        "        board, ans = operation(m, n, board)\n",
        "        answer += ans\n",
        "    return answer"
      ],
      "metadata": {
        "id": "bV9lERfBRaAP"
      },
      "execution_count": null,
      "outputs": []
    }
  ]
}