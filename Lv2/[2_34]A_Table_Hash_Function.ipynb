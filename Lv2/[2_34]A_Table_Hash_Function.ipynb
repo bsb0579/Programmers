{
  "nbformat": 4,
  "nbformat_minor": 0,
  "metadata": {
    "colab": {
      "provenance": []
    },
    "kernelspec": {
      "name": "python3",
      "display_name": "Python 3"
    },
    "language_info": {
      "name": "python"
    }
  },
  "cells": [
    {
      "cell_type": "markdown",
      "source": [
        "# **테이블 해시 함수**\n",
        "**https://school.programmers.co.kr/learn/courses/30/lessons/147354?language=python3**"
      ],
      "metadata": {
        "id": "7Qefz5MNQtdh"
      }
    },
    {
      "cell_type": "code",
      "source": [
        "def solution(data, col, row_begin, row_end):\n",
        "    data.sort(key = lambda x : (x[col-1], -x[0]))\n",
        "    answer = 0\n",
        "    l = len(data[0])\n",
        "    for i in range(row_begin, row_end+1):\n",
        "        temp = 0\n",
        "        for j in range(l):\n",
        "            temp += data[i-1][j]%i\n",
        "        if i == row_begin:\n",
        "            answer += temp\n",
        "        else:\n",
        "            answer = answer^temp\n",
        "    return answer"
      ],
      "metadata": {
        "id": "bV9lERfBRaAP"
      },
      "execution_count": null,
      "outputs": []
    }
  ]
}