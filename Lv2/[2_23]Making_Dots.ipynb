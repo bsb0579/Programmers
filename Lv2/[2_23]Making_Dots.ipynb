{
  "nbformat": 4,
  "nbformat_minor": 0,
  "metadata": {
    "colab": {
      "provenance": []
    },
    "kernelspec": {
      "name": "python3",
      "display_name": "Python 3"
    },
    "language_info": {
      "name": "python"
    }
  },
  "cells": [
    {
      "cell_type": "markdown",
      "source": [
        "# **점 찍기**\n",
        "**https://school.programmers.co.kr/learn/courses/30/lessons/140107**"
      ],
      "metadata": {
        "id": "7Qefz5MNQtdh"
      }
    },
    {
      "cell_type": "code",
      "source": [
        "import math\n",
        "def solution(k, d):\n",
        "    if d == 0:\n",
        "        return 1\n",
        "    if d == 1:\n",
        "        return 3\n",
        "    dm = d**2\n",
        "    answer = 0\n",
        "    for i in range(d//k+1):\n",
        "        temp = dm - (i*k)**2\n",
        "        temp = int(math.sqrt(temp))\n",
        "        answer += temp//k + 1\n",
        "    return answer"
      ],
      "metadata": {
        "id": "bV9lERfBRaAP"
      },
      "execution_count": null,
      "outputs": []
    }
  ]
}