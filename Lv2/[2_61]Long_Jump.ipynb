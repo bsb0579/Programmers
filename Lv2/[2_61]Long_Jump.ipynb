{
  "nbformat": 4,
  "nbformat_minor": 0,
  "metadata": {
    "colab": {
      "provenance": []
    },
    "kernelspec": {
      "name": "python3",
      "display_name": "Python 3"
    },
    "language_info": {
      "name": "python"
    }
  },
  "cells": [
    {
      "cell_type": "markdown",
      "source": [
        "# **멀리 뛰기**\n",
        "**https://school.programmers.co.kr/learn/courses/30/lessons/12914** "
      ],
      "metadata": {
        "id": "7Qefz5MNQtdh"
      }
    },
    {
      "cell_type": "code",
      "source": [
        "def solution(n):\n",
        "    if n < 3:\n",
        "        return n\n",
        "    temp = [0]*(n+1)\n",
        "    temp[1] = 1\n",
        "    temp[2] = 2\n",
        "    l = 3\n",
        "    while l < n+1:\n",
        "        temp[l] = (temp[l-1] + temp[l-2])%1234567\n",
        "        l += 1\n",
        "    answer = temp[-1]\n",
        "    return answer"
      ],
      "metadata": {
        "id": "bV9lERfBRaAP"
      },
      "execution_count": null,
      "outputs": []
    }
  ]
}