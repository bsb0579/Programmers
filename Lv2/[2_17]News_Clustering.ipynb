{
  "nbformat": 4,
  "nbformat_minor": 0,
  "metadata": {
    "colab": {
      "provenance": []
    },
    "kernelspec": {
      "name": "python3",
      "display_name": "Python 3"
    },
    "language_info": {
      "name": "python"
    }
  },
  "cells": [
    {
      "cell_type": "markdown",
      "source": [
        "# **뉴스 클러스터링**\n",
        "**https://school.programmers.co.kr/learn/courses/30/lessons/17677?language=python3**"
      ],
      "metadata": {
        "id": "7Qefz5MNQtdh"
      }
    },
    {
      "cell_type": "code",
      "source": [
        "def solution(str1, str2):\n",
        "    answer = 0\n",
        "    strd1 = {}\n",
        "    strd2 = {}\n",
        "    temp1 = str1[0].upper()\n",
        "    for i in range(1, len(str1)):\n",
        "        temp2 = str1[i].upper()\n",
        "        tmp = temp1 + temp2\n",
        "        if not temp1.isupper() or not temp2.isupper():\n",
        "            temp1 = temp2\n",
        "            continue\n",
        "        st1 = strd1.get(tmp, 0)\n",
        "        strd1[tmp] = st1+1\n",
        "        temp1 = temp2\n",
        "    temp1 = str2[0].upper()\n",
        "    for i in range(1, len(str2)):\n",
        "        temp2 = str2[i].upper()\n",
        "        tmp = temp1 + temp2\n",
        "        if not temp1.isupper() or not temp2.isupper():\n",
        "            temp1 = temp2\n",
        "            continue\n",
        "        st2 = strd2.get(tmp, 0)\n",
        "        strd2[tmp] = st2+1\n",
        "        temp1 = temp2\n",
        "    inter = 0\n",
        "    union = {}\n",
        "    uni = 0\n",
        "    for key in strd1.keys():\n",
        "        tmp1 = strd1[key]\n",
        "        tmp2 = strd2.get(key, 0)\n",
        "        if tmp1 > tmp2:\n",
        "            inter += tmp2\n",
        "            union[key] = tmp1\n",
        "        else:\n",
        "            inter += tmp1\n",
        "            union[key] = tmp2\n",
        "    for key in strd2.keys():\n",
        "        tmp2 = strd2[key]\n",
        "        tmp1 = strd1.get(key, 0)\n",
        "        if tmp1 == 0:\n",
        "            union[key] = tmp2\n",
        "    for value in union.values():\n",
        "        uni += value\n",
        "    if uni == 0:\n",
        "        return 65536\n",
        "    answer = (inter*65536)//uni\n",
        "    return answer"
      ],
      "metadata": {
        "id": "bV9lERfBRaAP"
      },
      "execution_count": null,
      "outputs": []
    }
  ]
}