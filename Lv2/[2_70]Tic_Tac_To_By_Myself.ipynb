{
  "nbformat": 4,
  "nbformat_minor": 0,
  "metadata": {
    "colab": {
      "provenance": []
    },
    "kernelspec": {
      "name": "python3",
      "display_name": "Python 3"
    },
    "language_info": {
      "name": "python"
    }
  },
  "cells": [
    {
      "cell_type": "markdown",
      "source": [
        "# **혼자서 하는 틱택토**\n",
        "**https://school.programmers.co.kr/learn/courses/30/lessons/160585** "
      ],
      "metadata": {
        "id": "7Qefz5MNQtdh"
      }
    },
    {
      "cell_type": "code",
      "source": [
        "def solution(board):\n",
        "    numo = 0\n",
        "    numx = 0\n",
        "    for boa in board:\n",
        "        for b in boa:\n",
        "            if b == 'O':\n",
        "                numo += 1\n",
        "            elif b == 'X':\n",
        "                numx += 1\n",
        "    if numo < numx or numo > numx + 1:\n",
        "        return 0\n",
        "    iso = 0\n",
        "    isx = 0\n",
        "    for boa in board:\n",
        "        if boa == 'OOO':\n",
        "            iso = 1\n",
        "        if boa == 'XXX':\n",
        "            isx = 1\n",
        "    for i in range(3):\n",
        "        if board[0][i] == 'O' and board[1][i] == 'O' and board[2][i] == 'O':\n",
        "            iso = 1\n",
        "        if board[0][i] == 'X' and board[1][i] == 'X' and board[2][i] == 'X':\n",
        "            isx = 1\n",
        "    if board[0][0] == 'O' and board[1][1] == 'O' and board[2][2] == 'O':\n",
        "        iso = 1\n",
        "    if board[0][0] == 'X' and board[1][1] == 'X' and board[2][2] == 'X':\n",
        "        isx = 1\n",
        "    if board[2][0] == 'O' and board[1][1] == 'O' and board[0][2] == 'O':\n",
        "        iso = 1\n",
        "    if board[2][0] == 'X' and board[1][1] == 'X' and board[0][2] == 'X':\n",
        "        isx = 1\n",
        "    if iso == 1 and isx == 1:\n",
        "        return 0\n",
        "    if isx == 1 and numo != numx:\n",
        "        return 0\n",
        "    if iso == 1 and numo != numx+1:\n",
        "        return 0\n",
        "    answer = 1\n",
        "    return answer"
      ],
      "metadata": {
        "id": "bV9lERfBRaAP"
      },
      "execution_count": null,
      "outputs": []
    }
  ]
}