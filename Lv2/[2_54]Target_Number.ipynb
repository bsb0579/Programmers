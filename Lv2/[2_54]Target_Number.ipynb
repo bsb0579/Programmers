{
  "nbformat": 4,
  "nbformat_minor": 0,
  "metadata": {
    "colab": {
      "provenance": []
    },
    "kernelspec": {
      "name": "python3",
      "display_name": "Python 3"
    },
    "language_info": {
      "name": "python"
    }
  },
  "cells": [
    {
      "cell_type": "markdown",
      "source": [
        "# **타겟 넘버**\n",
        "**https://school.programmers.co.kr/learn/courses/30/lessons/43165** "
      ],
      "metadata": {
        "id": "7Qefz5MNQtdh"
      }
    },
    {
      "cell_type": "code",
      "source": [
        "from itertools import combinations\n",
        "def solution(numbers, target):\n",
        "    lst = [i for i in range(len(numbers))]\n",
        "    al = sum(numbers)\n",
        "    answer = 0\n",
        "    for i in range(1, len(numbers)+1):\n",
        "        clst = list(combinations(lst, i))\n",
        "        for li in clst:\n",
        "            temp = al\n",
        "            for l in li:\n",
        "                temp -= 2*numbers[l]\n",
        "            if temp == target:\n",
        "                answer += 1\n",
        "    return answer"
      ],
      "metadata": {
        "id": "bV9lERfBRaAP"
      },
      "execution_count": null,
      "outputs": []
    }
  ]
}