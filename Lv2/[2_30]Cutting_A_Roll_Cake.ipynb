{
  "nbformat": 4,
  "nbformat_minor": 0,
  "metadata": {
    "colab": {
      "provenance": []
    },
    "kernelspec": {
      "name": "python3",
      "display_name": "Python 3"
    },
    "language_info": {
      "name": "python"
    }
  },
  "cells": [
    {
      "cell_type": "markdown",
      "source": [
        "# **롤케이크 자르기**\n",
        "**https://school.programmers.co.kr/learn/courses/30/lessons/132265?language=python3**"
      ],
      "metadata": {
        "id": "7Qefz5MNQtdh"
      }
    },
    {
      "cell_type": "code",
      "source": [
        "def solution(topping):\n",
        "    dic = {}\n",
        "    answer = 0\n",
        "    for top in topping:\n",
        "        if top not in dic:\n",
        "            dic[top] = 1\n",
        "        else:\n",
        "            dic[top] += 1\n",
        "    dic2 = {}\n",
        "    for top in topping:\n",
        "        if top not in dic2:\n",
        "            dic2[top] = 1\n",
        "        else:\n",
        "            dic2[top] += 1\n",
        "        temp = dic[top]\n",
        "        if dic[top] == 1:\n",
        "            del dic[top]\n",
        "        else:\n",
        "            dic[top] -= 1\n",
        "        if len(dic.keys()) == len(dic2.keys()):\n",
        "            answer += 1\n",
        "    return answer"
      ],
      "metadata": {
        "id": "bV9lERfBRaAP"
      },
      "execution_count": null,
      "outputs": []
    }
  ]
}