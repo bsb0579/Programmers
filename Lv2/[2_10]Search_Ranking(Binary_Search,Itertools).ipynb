{
  "nbformat": 4,
  "nbformat_minor": 0,
  "metadata": {
    "colab": {
      "provenance": []
    },
    "kernelspec": {
      "name": "python3",
      "display_name": "Python 3"
    },
    "language_info": {
      "name": "python"
    }
  },
  "cells": [
    {
      "cell_type": "markdown",
      "source": [
        "# **순위 검색**\n",
        "**https://school.programmers.co.kr/learn/courses/30/lessons/72412?language=python3**"
      ],
      "metadata": {
        "id": "7Qefz5MNQtdh"
      }
    },
    {
      "cell_type": "code",
      "source": [
        "#binary_search, itertools\n",
        "from itertools import combinations\n",
        "from bisect import bisect_left\n",
        "def solution(info, query):\n",
        "    l = len(query)\n",
        "    ans = [0]*l\n",
        "    dic = {}\n",
        "    for inf in info:\n",
        "        alld = inf.split(' ')\n",
        "        infoa = alld[:-1]\n",
        "        score = int(alld[-1])\n",
        "        com = [0, 1, 2, 3]\n",
        "        for i in range(5):\n",
        "            lst = list(combinations(com, i))\n",
        "            for l in lst:\n",
        "                temp = infoa[:]\n",
        "                for j in l:\n",
        "                    temp[j] = '-'\n",
        "                strtemp = ''.join(temp)\n",
        "                templst = dic.get(strtemp, [])\n",
        "                templst.append(score)\n",
        "                dic[strtemp] = templst\n",
        "    for v in dic.values():\n",
        "        v.sort()\n",
        "    for i, q in enumerate(query):\n",
        "        temp = q.split(' and ')\n",
        "        food, score = temp[-1].split(' ')\n",
        "        score = int(score)\n",
        "        temp[-1] = food\n",
        "        tempstr = ''.join(temp)     \n",
        "        lst = dic.get(tempstr, [])\n",
        "        tempans = len(lst) - bisect_left(lst, score)\n",
        "        ans[i] = tempans\n",
        "    answer = ans\n",
        "    return answer"
      ],
      "metadata": {
        "id": "bV9lERfBRaAP"
      },
      "execution_count": null,
      "outputs": []
    }
  ]
}