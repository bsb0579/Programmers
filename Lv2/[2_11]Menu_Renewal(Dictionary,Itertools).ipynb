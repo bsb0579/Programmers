{
  "nbformat": 4,
  "nbformat_minor": 0,
  "metadata": {
    "colab": {
      "provenance": []
    },
    "kernelspec": {
      "name": "python3",
      "display_name": "Python 3"
    },
    "language_info": {
      "name": "python"
    }
  },
  "cells": [
    {
      "cell_type": "markdown",
      "source": [
        "# **메뉴 리뉴얼**\n",
        "**https://school.programmers.co.kr/learn/courses/30/lessons/72411#**"
      ],
      "metadata": {
        "id": "7Qefz5MNQtdh"
      }
    },
    {
      "cell_type": "code",
      "source": [
        "#dictionary, itertools\n",
        "from itertools import combinations\n",
        "def solution(orders, course):\n",
        "    dic = {}\n",
        "    for order in orders:\n",
        "        com = [i for i in range(len(order))]\n",
        "        for c in course:\n",
        "            combin = list(combinations(com, c))\n",
        "            for co in combin:\n",
        "                temp = []\n",
        "                for i in co:\n",
        "                    temp.append(order[i])\n",
        "                temp.sort()\n",
        "                strtemp = ''.join(temp)\n",
        "                n = dic.get(strtemp, 0)\n",
        "                dic[strtemp] = n+1\n",
        "    dic2 = {}\n",
        "    dicmax = {}\n",
        "    for c in course:\n",
        "        dicmax[c] = 0\n",
        "    for keys in dic.keys():\n",
        "        value = dic[keys]\n",
        "        if value == 1:\n",
        "            continue\n",
        "        else:\n",
        "            temp = dic2.get(value, [])\n",
        "            l = len(keys)\n",
        "            if dicmax[l] <= value:\n",
        "                dicmax[l] = value\n",
        "                temp.append(keys)\n",
        "                dic2[value] = temp\n",
        "    answer = []\n",
        "    for key in dic2.keys():\n",
        "        temp = dic2[key]\n",
        "        for t in temp:\n",
        "            if key == dicmax[len(t)]:\n",
        "                answer.append(t)\n",
        "    answer.sort()\n",
        "    return answer"
      ],
      "metadata": {
        "id": "bV9lERfBRaAP"
      },
      "execution_count": null,
      "outputs": []
    }
  ]
}