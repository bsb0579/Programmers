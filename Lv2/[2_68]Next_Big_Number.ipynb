{
  "nbformat": 4,
  "nbformat_minor": 0,
  "metadata": {
    "colab": {
      "provenance": []
    },
    "kernelspec": {
      "name": "python3",
      "display_name": "Python 3"
    },
    "language_info": {
      "name": "python"
    }
  },
  "cells": [
    {
      "cell_type": "markdown",
      "source": [
        "# **다음 큰 숫자**\n",
        "**https://school.programmers.co.kr/learn/courses/30/lessons/12911** "
      ],
      "metadata": {
        "id": "7Qefz5MNQtdh"
      }
    },
    {
      "cell_type": "code",
      "source": [
        "def solution(n):\n",
        "    temp = bin(n)[2:]\n",
        "    isum = 0\n",
        "    ipos = 0\n",
        "    for i in range(len(temp)):\n",
        "        if temp[i] == '1':\n",
        "            isum += 1\n",
        "            ipos = i\n",
        "    ans = n + 2**(len(temp) - ipos-1)\n",
        "    temp2 = bin(ans)[2:]\n",
        "    isum2 = 0\n",
        "    for i in range(len(temp2)):\n",
        "        if temp2[i] == '1':\n",
        "            isum2 += 1\n",
        "    for i in range(isum - isum2):\n",
        "        ans += 2 ** i\n",
        "    answer = ans\n",
        "    return answer"
      ],
      "metadata": {
        "id": "bV9lERfBRaAP"
      },
      "execution_count": null,
      "outputs": []
    }
  ]
}