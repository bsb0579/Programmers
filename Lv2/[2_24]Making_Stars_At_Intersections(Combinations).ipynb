{
  "nbformat": 4,
  "nbformat_minor": 0,
  "metadata": {
    "colab": {
      "provenance": []
    },
    "kernelspec": {
      "name": "python3",
      "display_name": "Python 3"
    },
    "language_info": {
      "name": "python"
    }
  },
  "cells": [
    {
      "cell_type": "markdown",
      "source": [
        "# **교점에 별 만들기**\n",
        "**https://school.programmers.co.kr/learn/courses/30/lessons/87377**"
      ],
      "metadata": {
        "id": "7Qefz5MNQtdh"
      }
    },
    {
      "cell_type": "code",
      "source": [
        "from itertools import combinations\n",
        "def cross(line1, line2):\n",
        "    A, B, E = line1\n",
        "    C, D, F = line2\n",
        "    div = A*D - B*C\n",
        "    if div == 0:\n",
        "        return False, 0, 0\n",
        "    x1 = B*F - E*D\n",
        "    y1 = E*C - A*F\n",
        "    x, x2 = divmod(x1, div)\n",
        "    y, y2 = divmod(y1, div)\n",
        "    if x2 !=0 or y2 != 0:\n",
        "        return False, 0, 0\n",
        "    return True, x, y\n",
        "\n",
        "def solution(line):\n",
        "    slst = set([])\n",
        "    clst = [i for i in range(len(line))]\n",
        "    ctemp = combinations(clst, 2)\n",
        "    for a, b in ctemp:\n",
        "        bol, x, y = cross(line[a], line[b])\n",
        "        if bol == True:\n",
        "            slst.add((x, y))\n",
        "    a, b = slst.pop()\n",
        "    xmax = a\n",
        "    xmin = a\n",
        "    ymax = b\n",
        "    ymin = b\n",
        "    slst.add((a, b))\n",
        "    for a, b in slst:\n",
        "        if a > xmax:\n",
        "            xmax = a\n",
        "        elif a < xmin:\n",
        "            xmin = a\n",
        "        if b > ymax:\n",
        "            ymax = b\n",
        "        elif b < ymin:\n",
        "            ymin = b\n",
        "    xl = xmax - xmin + 1\n",
        "    yl = ymax - ymin + 1\n",
        "    anslst = [['.']*xl for i in range(yl)]\n",
        "    for a, b in slst:\n",
        "        anslst[b-ymin][a - xmin] = '*'\n",
        "    answer = []\n",
        "    for lst in anslst[::-1]:\n",
        "        temp = ''.join(lst)\n",
        "        answer.append(temp)\n",
        "    return answer"
      ],
      "metadata": {
        "id": "bV9lERfBRaAP"
      },
      "execution_count": null,
      "outputs": []
    }
  ]
}