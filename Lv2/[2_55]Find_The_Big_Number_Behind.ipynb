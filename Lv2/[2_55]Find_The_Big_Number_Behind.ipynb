{
  "nbformat": 4,
  "nbformat_minor": 0,
  "metadata": {
    "colab": {
      "provenance": []
    },
    "kernelspec": {
      "name": "python3",
      "display_name": "Python 3"
    },
    "language_info": {
      "name": "python"
    }
  },
  "cells": [
    {
      "cell_type": "markdown",
      "source": [
        "# **뒤에 있는 큰 수 찾기**\n",
        "**https://school.programmers.co.kr/learn/courses/30/lessons/154539** "
      ],
      "metadata": {
        "id": "7Qefz5MNQtdh"
      }
    },
    {
      "cell_type": "code",
      "source": [
        "from heapq import heappush, heappop\n",
        "def solution(numbers):\n",
        "    lst = [-1]*len(numbers)\n",
        "    h = []\n",
        "    for i in range(len(numbers)):\n",
        "        temp = numbers[i]\n",
        "        while h and h[0][0] < temp:\n",
        "            a, b = heappop(h)\n",
        "            lst[b] = temp\n",
        "        heappush(h, (temp, i))\n",
        "    answer = lst\n",
        "    return answer"
      ],
      "metadata": {
        "id": "bV9lERfBRaAP"
      },
      "execution_count": null,
      "outputs": []
    }
  ]
}