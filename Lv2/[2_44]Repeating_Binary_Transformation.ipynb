{
  "nbformat": 4,
  "nbformat_minor": 0,
  "metadata": {
    "colab": {
      "provenance": []
    },
    "kernelspec": {
      "name": "python3",
      "display_name": "Python 3"
    },
    "language_info": {
      "name": "python"
    }
  },
  "cells": [
    {
      "cell_type": "markdown",
      "source": [
        "# **이진 변환 반복하기**\n",
        "**https://school.programmers.co.kr/learn/courses/30/lessons/70129**"
      ],
      "metadata": {
        "id": "7Qefz5MNQtdh"
      }
    },
    {
      "cell_type": "code",
      "source": [
        "def solution(s):\n",
        "    temp1 = 0\n",
        "    temp2 = 0\n",
        "    while s != '1':\n",
        "        l = 0\n",
        "        for i in s:\n",
        "            if i == '1':\n",
        "                l += 1\n",
        "            else:\n",
        "                temp2 += 1\n",
        "        s = bin(l)[2:]\n",
        "        temp1 += 1\n",
        "    answer = [temp1, temp2]\n",
        "    return answer"
      ],
      "metadata": {
        "id": "bV9lERfBRaAP"
      },
      "execution_count": null,
      "outputs": []
    }
  ]
}