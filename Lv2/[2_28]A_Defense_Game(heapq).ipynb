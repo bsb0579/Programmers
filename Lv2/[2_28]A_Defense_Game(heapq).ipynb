{
  "nbformat": 4,
  "nbformat_minor": 0,
  "metadata": {
    "colab": {
      "provenance": []
    },
    "kernelspec": {
      "name": "python3",
      "display_name": "Python 3"
    },
    "language_info": {
      "name": "python"
    }
  },
  "cells": [
    {
      "cell_type": "markdown",
      "source": [
        "# **디펜스 게임**\n",
        "**https://school.programmers.co.kr/learn/courses/30/lessons/142085?language=python3**"
      ],
      "metadata": {
        "id": "7Qefz5MNQtdh"
      }
    },
    {
      "cell_type": "code",
      "source": [
        "from heapq import heappush, heappop\n",
        "def solution(n, k, enemy):\n",
        "    h = []\n",
        "    answer = 0\n",
        "    for e in enemy:\n",
        "        if n < e:\n",
        "            if k == 0:\n",
        "                break\n",
        "            elif h:\n",
        "                answer += 1\n",
        "                k -= 1\n",
        "                temp = -h[0]\n",
        "                if e < temp:\n",
        "                    n = n + temp - e\n",
        "                    heappop(h)\n",
        "                    heappush(h, -e)\n",
        "                else:\n",
        "                    continue\n",
        "            else:\n",
        "                answer += 1\n",
        "                k -= 1\n",
        "        else:\n",
        "            n -= e\n",
        "            answer += 1\n",
        "            heappush(h, -e)\n",
        "    return answer"
      ],
      "metadata": {
        "id": "bV9lERfBRaAP"
      },
      "execution_count": null,
      "outputs": []
    }
  ]
}