{
  "nbformat": 4,
  "nbformat_minor": 0,
  "metadata": {
    "colab": {
      "provenance": []
    },
    "kernelspec": {
      "name": "python3",
      "display_name": "Python 3"
    },
    "language_info": {
      "name": "python"
    }
  },
  "cells": [
    {
      "cell_type": "markdown",
      "source": [
        "# **올바른 괄호**\n",
        "**https://school.programmers.co.kr/learn/courses/30/lessons/12909**"
      ],
      "metadata": {
        "id": "7Qefz5MNQtdh"
      }
    },
    {
      "cell_type": "code",
      "source": [
        "def solution(s):\n",
        "    answer = True\n",
        "    temp = 0\n",
        "    for i in s:\n",
        "        if temp > 0:\n",
        "            return False\n",
        "        if i == '(':\n",
        "            temp -= 1\n",
        "        else:\n",
        "            temp += 1\n",
        "    if temp != 0:\n",
        "        return False\n",
        "    return answer"
      ],
      "metadata": {
        "id": "bV9lERfBRaAP"
      },
      "execution_count": null,
      "outputs": []
    }
  ]
}