{
  "nbformat": 4,
  "nbformat_minor": 0,
  "metadata": {
    "colab": {
      "provenance": []
    },
    "kernelspec": {
      "name": "python3",
      "display_name": "Python 3"
    },
    "language_info": {
      "name": "python"
    }
  },
  "cells": [
    {
      "cell_type": "markdown",
      "source": [
        "# **압축**\n",
        "**https://school.programmers.co.kr/learn/courses/30/lessons/17684**"
      ],
      "metadata": {
        "id": "7Qefz5MNQtdh"
      }
    },
    {
      "cell_type": "code",
      "source": [
        "def getw(msg, dic, end):\n",
        "    l = len(msg)\n",
        "    temp = dic[msg[0]]\n",
        "    curr = 1\n",
        "    if l == 1:\n",
        "        return '', dic, end, temp\n",
        "    while temp != 0:\n",
        "        curr += 1\n",
        "        temp = dic.get(msg[0:curr], 0)\n",
        "        if curr == l:\n",
        "            break\n",
        "    if temp == 0:\n",
        "        dic[msg[0:curr]] = end\n",
        "        end += 1\n",
        "        return msg[curr-1:], dic, end, dic[msg[0:curr-1]]\n",
        "    else:\n",
        "        return '', dic, end, dic[msg]\n",
        "\n",
        "def solution(msg):\n",
        "    dic = {}\n",
        "    for i in range(65, 91):\n",
        "        dic[chr(i)] = i - 64\n",
        "    end = 27\n",
        "    answer = []\n",
        "    cur = 0\n",
        "    while msg != '':  \n",
        "        msg, dic, end, cur = getw(msg, dic, end)\n",
        "        answer.append(cur)\n",
        "    return answer"
      ],
      "metadata": {
        "id": "bV9lERfBRaAP"
      },
      "execution_count": null,
      "outputs": []
    }
  ]
}