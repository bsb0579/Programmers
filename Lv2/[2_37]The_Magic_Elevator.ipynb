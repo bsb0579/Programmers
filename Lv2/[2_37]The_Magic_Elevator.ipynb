{
  "nbformat": 4,
  "nbformat_minor": 0,
  "metadata": {
    "colab": {
      "provenance": []
    },
    "kernelspec": {
      "name": "python3",
      "display_name": "Python 3"
    },
    "language_info": {
      "name": "python"
    }
  },
  "cells": [
    {
      "cell_type": "markdown",
      "source": [
        "# **마법의 엘리베이터**\n",
        "**https://school.programmers.co.kr/learn/courses/30/lessons/148653**"
      ],
      "metadata": {
        "id": "7Qefz5MNQtdh"
      }
    },
    {
      "cell_type": "code",
      "source": [
        "def solution(storey):\n",
        "    answer = 0\n",
        "    while storey:\n",
        "        if storey < 10:\n",
        "            if storey > 5:\n",
        "                answer += (11 - storey)\n",
        "                break\n",
        "            else:\n",
        "                answer += storey\n",
        "                break\n",
        "        else:\n",
        "            temp = storey%10\n",
        "            if temp < 5:\n",
        "                answer += temp\n",
        "                storey = storey//10\n",
        "            elif temp > 5:\n",
        "                answer += (10 - temp)\n",
        "                storey = storey//10 + 1\n",
        "            else:\n",
        "                answer += 5\n",
        "                temp2 = storey%100\n",
        "                temp2 = temp2//10\n",
        "                if temp2 > 4:\n",
        "                    storey = storey//10 + 1\n",
        "                else:\n",
        "                    storey = storey//10\n",
        "    return answer"
      ],
      "metadata": {
        "id": "bV9lERfBRaAP"
      },
      "execution_count": null,
      "outputs": []
    }
  ]
}