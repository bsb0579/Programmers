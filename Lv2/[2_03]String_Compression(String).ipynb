{
  "nbformat": 4,
  "nbformat_minor": 0,
  "metadata": {
    "colab": {
      "provenance": []
    },
    "kernelspec": {
      "name": "python3",
      "display_name": "Python 3"
    },
    "language_info": {
      "name": "python"
    }
  },
  "cells": [
    {
      "cell_type": "markdown",
      "source": [
        "# **문자열 압축**\n",
        "**https://school.programmers.co.kr/learn/courses/30/lessons/60057#**"
      ],
      "metadata": {
        "id": "7Qefz5MNQtdh"
      }
    },
    {
      "cell_type": "code",
      "source": [
        "def solution(s):\n",
        "    answer = len(s)\n",
        "    if len(s) < 4:\n",
        "        return answer\n",
        "    for cut in range(1, len(s)//2+1):\n",
        "        temp = 0\n",
        "        ans = len(s)\n",
        "        while temp < len(s):\n",
        "            if s[temp:(temp+cut)] == s[temp+cut:temp+2*cut]:\n",
        "                enumer = 0\n",
        "                while s[temp:(temp+cut)] == s[temp+cut:temp+2*cut]:\n",
        "                    enumer += 1\n",
        "                    temp += cut\n",
        "                ans = ans - cut*enumer + len(str(enumer+1))\n",
        "            else:\n",
        "                temp += cut\n",
        "        if answer > ans:\n",
        "            answer = ans\n",
        "            \n",
        "    return answer"
      ],
      "metadata": {
        "id": "bV9lERfBRaAP"
      },
      "execution_count": null,
      "outputs": []
    }
  ]
}