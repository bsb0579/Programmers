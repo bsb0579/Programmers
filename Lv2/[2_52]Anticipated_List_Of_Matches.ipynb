{
  "nbformat": 4,
  "nbformat_minor": 0,
  "metadata": {
    "colab": {
      "provenance": []
    },
    "kernelspec": {
      "name": "python3",
      "display_name": "Python 3"
    },
    "language_info": {
      "name": "python"
    }
  },
  "cells": [
    {
      "cell_type": "markdown",
      "source": [
        "# **예상 대진표**\n",
        "**https://school.programmers.co.kr/learn/courses/30/lessons/12985**"
      ],
      "metadata": {
        "id": "7Qefz5MNQtdh"
      }
    },
    {
      "cell_type": "code",
      "source": [
        "def solution(n,a,b):\n",
        "    if a > b:\n",
        "        temp = a\n",
        "        a = b\n",
        "        b = temp\n",
        "    answer = 1\n",
        "    while not (a+1 == b and a%2 == 1) :\n",
        "        tempa1, tempa2 = divmod(a, 2)\n",
        "        tempb1, tempb2 = divmod(b, 2)\n",
        "        a = tempa1 + tempa2\n",
        "        b = tempb1 + tempb2\n",
        "        answer += 1\n",
        "\n",
        "    return answer"
      ],
      "metadata": {
        "id": "bV9lERfBRaAP"
      },
      "execution_count": null,
      "outputs": []
    }
  ]
}