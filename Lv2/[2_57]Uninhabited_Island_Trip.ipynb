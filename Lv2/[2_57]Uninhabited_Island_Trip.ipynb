{
  "nbformat": 4,
  "nbformat_minor": 0,
  "metadata": {
    "colab": {
      "provenance": []
    },
    "kernelspec": {
      "name": "python3",
      "display_name": "Python 3"
    },
    "language_info": {
      "name": "python"
    }
  },
  "cells": [
    {
      "cell_type": "markdown",
      "source": [
        "# **무인도 여행**\n",
        "**https://school.programmers.co.kr/learn/courses/30/lessons/154540?language=python3** "
      ],
      "metadata": {
        "id": "7Qefz5MNQtdh"
      }
    },
    {
      "cell_type": "code",
      "source": [
        "import sys\n",
        "sys.setrecursionlimit(10**5)\n",
        "\n",
        "def solution(maps):\n",
        "    x = len(maps)\n",
        "    y = len(maps[0])\n",
        "    visited = [[True for i in range(y)] for j in range(x)]\n",
        "    for i in range(len(maps)):\n",
        "        for j in range(len(maps[0])):\n",
        "            temp = maps[i][j]\n",
        "            if temp == 'X':\n",
        "                visited[i][j] = False\n",
        "    answer = []\n",
        "\n",
        "    def dfs(i, j, visited, maps):\n",
        "        temp = int(maps[i][j])\n",
        "        visited[i][j] = False\n",
        "        if i > 0 and visited[i-1][j]:\n",
        "            temp += dfs(i-1, j, visited, maps)\n",
        "        if j > 0 and visited[i][j-1]:\n",
        "            temp += dfs(i, j-1, visited, maps)\n",
        "        if len(maps) > i+1 and visited[i+1][j]:\n",
        "            temp += dfs(i+1, j, visited, maps)\n",
        "        if len(maps[0]) > j+1 and visited[i][j+1]:\n",
        "            temp += dfs(i, j+1, visited, maps)\n",
        "        return temp\n",
        "\n",
        "    for i in range(len(maps)):\n",
        "        for j in range(len(maps[0])):\n",
        "            if not visited[i][j]:\n",
        "                continue\n",
        "            else:\n",
        "                answer.append(dfs(i,j,visited,maps))\n",
        "    if len(answer) == 0:\n",
        "        answer = [-1]\n",
        "    answer.sort()\n",
        "    return answer"
      ],
      "metadata": {
        "id": "bV9lERfBRaAP"
      },
      "execution_count": null,
      "outputs": []
    }
  ]
}