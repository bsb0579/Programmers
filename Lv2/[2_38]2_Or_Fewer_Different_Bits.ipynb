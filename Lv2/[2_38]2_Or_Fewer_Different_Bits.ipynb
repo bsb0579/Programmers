{
  "nbformat": 4,
  "nbformat_minor": 0,
  "metadata": {
    "colab": {
      "provenance": []
    },
    "kernelspec": {
      "name": "python3",
      "display_name": "Python 3"
    },
    "language_info": {
      "name": "python"
    }
  },
  "cells": [
    {
      "cell_type": "markdown",
      "source": [
        "# **2개 이하로 다른 비트**\n",
        "**https://school.programmers.co.kr/learn/courses/30/lessons/77885?language=python3**"
      ],
      "metadata": {
        "id": "7Qefz5MNQtdh"
      }
    },
    {
      "cell_type": "code",
      "source": [
        "def solution(numbers):\n",
        "    def getnum(number):\n",
        "        if number == 0:\n",
        "            return 1\n",
        "        temp = bin(number)\n",
        "        ans = temp[2:]\n",
        "        temp1 = -1\n",
        "        temp0 = -1\n",
        "        for i in range(len(ans)-1, -1, -1):\n",
        "            if ans[i] == '1':\n",
        "                temp1 = i\n",
        "            else:\n",
        "                temp0 = i\n",
        "                break\n",
        "        if temp0 == -1:\n",
        "            ans = '0b10' + ans[1:]\n",
        "        elif temp1 == -1:\n",
        "            return number+1\n",
        "        else:\n",
        "            ans = '0b' + ans[:temp0] + '1' + ans[temp0+1:temp1] + '0' + ans[temp1+1:]\n",
        "        return int(ans, 2)\n",
        "    answer = []\n",
        "    for number in numbers:\n",
        "        answer.append(getnum(number))\n",
        "    return answer"
      ],
      "metadata": {
        "id": "bV9lERfBRaAP"
      },
      "execution_count": null,
      "outputs": []
    }
  ]
}