{
  "nbformat": 4,
  "nbformat_minor": 0,
  "metadata": {
    "colab": {
      "provenance": []
    },
    "kernelspec": {
      "name": "python3",
      "display_name": "Python 3"
    },
    "language_info": {
      "name": "python"
    }
  },
  "cells": [
    {
      "cell_type": "markdown",
      "source": [
        "# **할인 행사**\n",
        "**https://school.programmers.co.kr/learn/courses/30/lessons/131127**"
      ],
      "metadata": {
        "id": "7Qefz5MNQtdh"
      }
    },
    {
      "cell_type": "code",
      "source": [
        "def solution(want, number, discount):\n",
        "    dic = {}\n",
        "    answer = 0\n",
        "    l = len(discount)\n",
        "    for i in range(10):\n",
        "        if discount[i] not in dic:\n",
        "            dic[discount[i]] = 1\n",
        "        else:\n",
        "            dic[discount[i]] += 1\n",
        "    for i in range(len(want)):\n",
        "        if want[i] not in dic:\n",
        "            dic[want[i]] = -number[i]\n",
        "        else:\n",
        "            dic[want[i]] -= number[i]\n",
        "    for i in range(l):\n",
        "        flag = 0\n",
        "        if i == 0:\n",
        "            for k in dic.values():\n",
        "                if k < 0:\n",
        "                    flag = 1\n",
        "                    break\n",
        "            if flag == 0:\n",
        "                answer += 1\n",
        "        elif i+9 > l-1:\n",
        "            dic[discount[i-1]] -= 1\n",
        "            for k in dic.values():\n",
        "                if k < 0:\n",
        "                    flag = 1\n",
        "                    break\n",
        "            if flag == 0:\n",
        "                answer += 1\n",
        "        else:\n",
        "            dic[discount[i-1]] -= 1\n",
        "            if discount[i+9] not in dic:\n",
        "                dic[discount[i+9]] = 1\n",
        "            else:\n",
        "                dic[discount[i+9]] += 1\n",
        "            for k in dic.values():\n",
        "                if k < 0:\n",
        "                    flag = 1\n",
        "                    break\n",
        "            if flag == 0:\n",
        "                answer += 1\n",
        "    return answer"
      ],
      "metadata": {
        "id": "bV9lERfBRaAP"
      },
      "execution_count": null,
      "outputs": []
    }
  ]
}