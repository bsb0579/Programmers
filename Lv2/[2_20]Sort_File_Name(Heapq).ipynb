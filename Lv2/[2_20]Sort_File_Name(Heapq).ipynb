{
  "nbformat": 4,
  "nbformat_minor": 0,
  "metadata": {
    "colab": {
      "provenance": []
    },
    "kernelspec": {
      "name": "python3",
      "display_name": "Python 3"
    },
    "language_info": {
      "name": "python"
    }
  },
  "cells": [
    {
      "cell_type": "markdown",
      "source": [
        "# **파일명 정렬**\n",
        "**https://school.programmers.co.kr/learn/courses/30/lessons/17686?language=python3**"
      ],
      "metadata": {
        "id": "7Qefz5MNQtdh"
      }
    },
    {
      "cell_type": "code",
      "source": [
        "from heapq import heappush, heappop\n",
        "def split(file):\n",
        "    state = 0\n",
        "    cur = 0\n",
        "    st = set(['0','1','2','3','4','5','6','7','8','9'])\n",
        "    first, second, third = '', '', ''\n",
        "    for i in range(len(file)):\n",
        "        if state == 0:\n",
        "            if file[i] in st:\n",
        "                state = 1\n",
        "                second = second + file[i]\n",
        "            else:\n",
        "                first = first + file[i]\n",
        "        elif state == 1:\n",
        "            if file[i] in st:\n",
        "                second = second + file[i]\n",
        "            else:\n",
        "                state = 2\n",
        "                third = third + file[i]\n",
        "        else:\n",
        "            third = third + file[i]\n",
        "    return first.lower(), second, third\n",
        "\n",
        "def solution(files):\n",
        "    h = []\n",
        "    for i, file in enumerate(files):\n",
        "        first, second, _ = split(file)\n",
        "        heappush(h, (first, int(second), i, file))\n",
        "    answer = []\n",
        "    while h:\n",
        "        temp = heappop(h)\n",
        "        answer.append(temp[3])\n",
        "    return answer"
      ],
      "metadata": {
        "id": "bV9lERfBRaAP"
      },
      "execution_count": null,
      "outputs": []
    }
  ]
}