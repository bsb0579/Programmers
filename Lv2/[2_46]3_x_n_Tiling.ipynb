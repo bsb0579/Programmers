{
  "nbformat": 4,
  "nbformat_minor": 0,
  "metadata": {
    "colab": {
      "provenance": []
    },
    "kernelspec": {
      "name": "python3",
      "display_name": "Python 3"
    },
    "language_info": {
      "name": "python"
    }
  },
  "cells": [
    {
      "cell_type": "markdown",
      "source": [
        "# **3 x n 타일링**\n",
        "**https://school.programmers.co.kr/learn/courses/30/lessons/12902#**"
      ],
      "metadata": {
        "id": "7Qefz5MNQtdh"
      }
    },
    {
      "cell_type": "code",
      "source": [
        "def solution(n):\n",
        "    if n%2 == 1:\n",
        "        return 0\n",
        "    dplst = [0]*(n//2+1)\n",
        "    dplst[1] = 3\n",
        "    dplst[2] = 11\n",
        "    temp = 3\n",
        "    l = n//2 + 1\n",
        "    while temp < l:\n",
        "        dplst[temp] = (dplst[temp-1]*4 - dplst[temp-2])%1000000007\n",
        "        temp += 1\n",
        "    answer = dplst[-1]\n",
        "    return answer"
      ],
      "metadata": {
        "id": "bV9lERfBRaAP"
      },
      "execution_count": null,
      "outputs": []
    }
  ]
}