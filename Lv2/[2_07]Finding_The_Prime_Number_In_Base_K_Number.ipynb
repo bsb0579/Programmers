{
  "nbformat": 4,
  "nbformat_minor": 0,
  "metadata": {
    "colab": {
      "provenance": []
    },
    "kernelspec": {
      "name": "python3",
      "display_name": "Python 3"
    },
    "language_info": {
      "name": "python"
    }
  },
  "cells": [
    {
      "cell_type": "markdown",
      "source": [
        "# **k진수에서 소수 개수 구하기**\n",
        "**https://school.programmers.co.kr/learn/courses/30/lessons/92335**"
      ],
      "metadata": {
        "id": "7Qefz5MNQtdh"
      }
    },
    {
      "cell_type": "code",
      "source": [
        "import math\n",
        "def isprime(i):\n",
        "    div = int(math.sqrt(i)) + 1\n",
        "    if i == 2:\n",
        "        return True\n",
        "    for x in range(2, div+1):\n",
        "        if i%x == 0:\n",
        "            return False\n",
        "    return True\n",
        "def solution(n, k):\n",
        "    temp = ''\n",
        "    answer = 0\n",
        "    while n > 0:\n",
        "        n, b = divmod(n, k)\n",
        "        if b > 0:\n",
        "            temp = str(b) + temp\n",
        "        else:\n",
        "            if len(temp) == 0:\n",
        "                continue\n",
        "            elif len(temp) == 1 and temp[0] == '1':\n",
        "                temp = ''\n",
        "                continue\n",
        "            else:\n",
        "                i = int(temp)\n",
        "                temp = ''\n",
        "                if isprime(i):\n",
        "                    answer += 1\n",
        "    i = int(temp)\n",
        "    if isprime(i):\n",
        "        answer += 1\n",
        "    return answer"
      ],
      "metadata": {
        "id": "bV9lERfBRaAP"
      },
      "execution_count": null,
      "outputs": []
    }
  ]
}